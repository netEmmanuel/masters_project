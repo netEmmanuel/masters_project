{
  "nbformat": 4,
  "nbformat_minor": 0,
  "metadata": {
    "colab": {
      "name": "Copy of Multivariate Time Series Modeling using LSTM.ipynb",
      "provenance": [],
      "collapsed_sections": []
    },
    "kernelspec": {
      "name": "python3",
      "display_name": "Python 3"
    },
    "accelerator": "GPU"
  },
  "cells": [
    {
      "cell_type": "code",
      "metadata": {
        "id": "_GY3HgVB7T8D"
      },
      "source": [
        "import pandas as pd\n",
        "import matplotlib as mpl\n",
        "import tensorflow.keras as keras\n",
        "import matplotlib.pyplot as plt\n",
        "from keras.models import Sequential\n",
        "from keras.layers import Dense\n",
        "from keras.layers import LSTM\n",
        "from keras.layers import Dropout\n",
        "from keras.layers import *\n",
        "from sklearn.preprocessing import MinMaxScaler\n",
        "from sklearn.metrics import mean_squared_error\n",
        "from sklearn.metrics import mean_absolute_error\n",
        "from keras.callbacks import EarlyStopping\n",
        "from sklearn.model_selection import train_test_split\n",
        "from keras.preprocessing.sequence import TimeseriesGenerator\n",
        "from sklearn.preprocessing import MinMaxScaler, StandardScaler\n",
        "import math\n",
        "\n",
        "\n",
        "import tensorflow as tf\n",
        "\n",
        "mpl.rcParams['figure.figsize'] = (10, 8)\n",
        "mpl.rcParams['axes.grid'] = False"
      ],
      "execution_count": 4,
      "outputs": []
    },
    {
      "cell_type": "code",
      "metadata": {
        "id": "lmNbWyCJ7n0a"
      },
      "source": [
        "#df = pd.read_csv('https://archive.ics.uci.edu/ml/machine-learning-databases/00374/energydata_complete.csv')df = \n",
        "df = pd.read_csv('csv_session2.csv')"
      ],
      "execution_count": 5,
      "outputs": []
    },
    {
      "cell_type": "code",
      "metadata": {
        "id": "4MZJsxPq76CN",
        "colab": {
          "base_uri": "https://localhost:8080/",
          "height": 419
        },
        "outputId": "a435e12c-3ece-4ad3-aaf1-4100881ecc9b"
      },
      "source": [
        "df"
      ],
      "execution_count": 6,
      "outputs": [
        {
          "output_type": "execute_result",
          "data": {
            "text/html": [
              "<div>\n",
              "<style scoped>\n",
              "    .dataframe tbody tr th:only-of-type {\n",
              "        vertical-align: middle;\n",
              "    }\n",
              "\n",
              "    .dataframe tbody tr th {\n",
              "        vertical-align: top;\n",
              "    }\n",
              "\n",
              "    .dataframe thead th {\n",
              "        text-align: right;\n",
              "    }\n",
              "</style>\n",
              "<table border=\"1\" class=\"dataframe\">\n",
              "  <thead>\n",
              "    <tr style=\"text-align: right;\">\n",
              "      <th></th>\n",
              "      <th>Timestamp (GMT)</th>\n",
              "      <th>Lifetouch Heart Rate</th>\n",
              "      <th>Lifetouch Respiration Rate</th>\n",
              "      <th>Oximeter SpO2</th>\n",
              "      <th>Oximeter Pulse</th>\n",
              "    </tr>\n",
              "  </thead>\n",
              "  <tbody>\n",
              "    <tr>\n",
              "      <th>0</th>\n",
              "      <td>24/02/2016 15:53:00</td>\n",
              "      <td>NaN</td>\n",
              "      <td>NaN</td>\n",
              "      <td>85.0</td>\n",
              "      <td>72.0</td>\n",
              "    </tr>\n",
              "    <tr>\n",
              "      <th>1</th>\n",
              "      <td>24/02/2016 15:54:00</td>\n",
              "      <td>61441.0</td>\n",
              "      <td>61441.0</td>\n",
              "      <td>90.0</td>\n",
              "      <td>123.0</td>\n",
              "    </tr>\n",
              "    <tr>\n",
              "      <th>2</th>\n",
              "      <td>24/02/2016 15:55:00</td>\n",
              "      <td>153.0</td>\n",
              "      <td>51.0</td>\n",
              "      <td>91.0</td>\n",
              "      <td>153.0</td>\n",
              "    </tr>\n",
              "    <tr>\n",
              "      <th>3</th>\n",
              "      <td>24/02/2016 15:56:00</td>\n",
              "      <td>153.0</td>\n",
              "      <td>48.0</td>\n",
              "      <td>92.0</td>\n",
              "      <td>136.0</td>\n",
              "    </tr>\n",
              "    <tr>\n",
              "      <th>4</th>\n",
              "      <td>24/02/2016 15:57:00</td>\n",
              "      <td>153.0</td>\n",
              "      <td>46.0</td>\n",
              "      <td>NaN</td>\n",
              "      <td>NaN</td>\n",
              "    </tr>\n",
              "    <tr>\n",
              "      <th>...</th>\n",
              "      <td>...</td>\n",
              "      <td>...</td>\n",
              "      <td>...</td>\n",
              "      <td>...</td>\n",
              "      <td>...</td>\n",
              "    </tr>\n",
              "    <tr>\n",
              "      <th>6839</th>\n",
              "      <td>29/02/2016 09:52:00</td>\n",
              "      <td>NaN</td>\n",
              "      <td>NaN</td>\n",
              "      <td>NaN</td>\n",
              "      <td>NaN</td>\n",
              "    </tr>\n",
              "    <tr>\n",
              "      <th>6840</th>\n",
              "      <td>29/02/2016 09:53:00</td>\n",
              "      <td>NaN</td>\n",
              "      <td>NaN</td>\n",
              "      <td>NaN</td>\n",
              "      <td>NaN</td>\n",
              "    </tr>\n",
              "    <tr>\n",
              "      <th>6841</th>\n",
              "      <td>29/02/2016 09:54:00</td>\n",
              "      <td>NaN</td>\n",
              "      <td>NaN</td>\n",
              "      <td>NaN</td>\n",
              "      <td>NaN</td>\n",
              "    </tr>\n",
              "    <tr>\n",
              "      <th>6842</th>\n",
              "      <td>29/02/2016 09:55:00</td>\n",
              "      <td>NaN</td>\n",
              "      <td>NaN</td>\n",
              "      <td>NaN</td>\n",
              "      <td>NaN</td>\n",
              "    </tr>\n",
              "    <tr>\n",
              "      <th>6843</th>\n",
              "      <td>29/02/2016 09:56:00</td>\n",
              "      <td>NaN</td>\n",
              "      <td>NaN</td>\n",
              "      <td>NaN</td>\n",
              "      <td>NaN</td>\n",
              "    </tr>\n",
              "  </tbody>\n",
              "</table>\n",
              "<p>6844 rows × 5 columns</p>\n",
              "</div>"
            ],
            "text/plain": [
              "          Timestamp (GMT)  Lifetouch Heart Rate  ...  Oximeter SpO2  Oximeter Pulse\n",
              "0     24/02/2016 15:53:00                   NaN  ...           85.0            72.0\n",
              "1     24/02/2016 15:54:00               61441.0  ...           90.0           123.0\n",
              "2     24/02/2016 15:55:00                 153.0  ...           91.0           153.0\n",
              "3     24/02/2016 15:56:00                 153.0  ...           92.0           136.0\n",
              "4     24/02/2016 15:57:00                 153.0  ...            NaN             NaN\n",
              "...                   ...                   ...  ...            ...             ...\n",
              "6839  29/02/2016 09:52:00                   NaN  ...            NaN             NaN\n",
              "6840  29/02/2016 09:53:00                   NaN  ...            NaN             NaN\n",
              "6841  29/02/2016 09:54:00                   NaN  ...            NaN             NaN\n",
              "6842  29/02/2016 09:55:00                   NaN  ...            NaN             NaN\n",
              "6843  29/02/2016 09:56:00                   NaN  ...            NaN             NaN\n",
              "\n",
              "[6844 rows x 5 columns]"
            ]
          },
          "metadata": {
            "tags": []
          },
          "execution_count": 6
        }
      ]
    },
    {
      "cell_type": "code",
      "metadata": {
        "id": "e_gfpzvA0cJa",
        "colab": {
          "base_uri": "https://localhost:8080/"
        },
        "outputId": "41a54657-4dcf-4a83-9219-43da17696614"
      },
      "source": [
        "df.info()"
      ],
      "execution_count": 7,
      "outputs": [
        {
          "output_type": "stream",
          "text": [
            "<class 'pandas.core.frame.DataFrame'>\n",
            "RangeIndex: 6844 entries, 0 to 6843\n",
            "Data columns (total 5 columns):\n",
            " #   Column                      Non-Null Count  Dtype  \n",
            "---  ------                      --------------  -----  \n",
            " 0   Timestamp (GMT)             6844 non-null   object \n",
            " 1   Lifetouch Heart Rate        4388 non-null   float64\n",
            " 2   Lifetouch Respiration Rate  4388 non-null   float64\n",
            " 3   Oximeter SpO2               4352 non-null   float64\n",
            " 4   Oximeter Pulse              4352 non-null   float64\n",
            "dtypes: float64(4), object(1)\n",
            "memory usage: 267.5+ KB\n"
          ],
          "name": "stdout"
        }
      ]
    },
    {
      "cell_type": "code",
      "metadata": {
        "id": "DX4Wjmy08aWn"
      },
      "source": [
        "df['Timestamp (GMT)'] = pd.to_datetime(df['Timestamp (GMT)'], infer_datetime_format=True)"
      ],
      "execution_count": 8,
      "outputs": []
    },
    {
      "cell_type": "code",
      "metadata": {
        "id": "GJb5RUTJCu-o"
      },
      "source": [
        "df = df.dropna()"
      ],
      "execution_count": 9,
      "outputs": []
    },
    {
      "cell_type": "code",
      "metadata": {
        "id": "M68vUtsstnK0"
      },
      "source": [
        "df=  df.loc[df['Lifetouch Heart Rate'] <= 200]\n",
        "df=  df.loc[df['Oximeter SpO2'] >= 40]"
      ],
      "execution_count": 10,
      "outputs": []
    },
    {
      "cell_type": "code",
      "metadata": {
        "id": "6klgmpWq0TJZ",
        "colab": {
          "base_uri": "https://localhost:8080/",
          "height": 563
        },
        "outputId": "9c1b35ee-bc10-4a44-e66c-b5e27f70f2be"
      },
      "source": [
        "#df.set_index('date')[['Appliances', 'lights','T_out', 'RH_1', 'Visibility']].plot(subplots=True)\n",
        "df.set_index('Timestamp (GMT)')[['Lifetouch Heart Rate', 'Lifetouch Respiration Rate','Oximeter SpO2', 'Oximeter Pulse']].plot(subplots=True)"
      ],
      "execution_count": 11,
      "outputs": [
        {
          "output_type": "execute_result",
          "data": {
            "text/plain": [
              "array([<matplotlib.axes._subplots.AxesSubplot object at 0x7f223f53ea10>,\n",
              "       <matplotlib.axes._subplots.AxesSubplot object at 0x7f2242058a10>,\n",
              "       <matplotlib.axes._subplots.AxesSubplot object at 0x7f223f4e62d0>,\n",
              "       <matplotlib.axes._subplots.AxesSubplot object at 0x7f223e9364d0>],\n",
              "      dtype=object)"
            ]
          },
          "metadata": {
            "tags": []
          },
          "execution_count": 11
        },
        {
          "output_type": "display_data",
          "data": {
            "image/png": "[encoded data removed]",
            "text/plain": [
              "<Figure size 720x576 with 4 Axes>"
            ]
          },
          "metadata": {
            "tags": [],
            "needs_background": "light"
          }
        }
      ]
    },
    {
      "cell_type": "code",
      "metadata": {
        "id": "03LtErv2z8fI"
      },
      "source": [
        "df_input=df[['Lifetouch Heart Rate', 'Lifetouch Respiration Rate','Oximeter SpO2', 'Oximeter Pulse']]"
      ],
      "execution_count": 12,
      "outputs": []
    },
    {
      "cell_type": "code",
      "metadata": {
        "id": "ZoZI-S5t760x",
        "colab": {
          "base_uri": "https://localhost:8080/",
          "height": 419
        },
        "outputId": "dbb87fb6-bf3b-491e-99ca-1fb954e6a167"
      },
      "source": [
        "df_input"
      ],
      "execution_count": 13,
      "outputs": [
        {
          "output_type": "execute_result",
          "data": {
            "text/html": [
              "<div>\n",
              "<style scoped>\n",
              "    .dataframe tbody tr th:only-of-type {\n",
              "        vertical-align: middle;\n",
              "    }\n",
              "\n",
              "    .dataframe tbody tr th {\n",
              "        vertical-align: top;\n",
              "    }\n",
              "\n",
              "    .dataframe thead th {\n",
              "        text-align: right;\n",
              "    }\n",
              "</style>\n",
              "<table border=\"1\" class=\"dataframe\">\n",
              "  <thead>\n",
              "    <tr style=\"text-align: right;\">\n",
              "      <th></th>\n",
              "      <th>Lifetouch Heart Rate</th>\n",
              "      <th>Lifetouch Respiration Rate</th>\n",
              "      <th>Oximeter SpO2</th>\n",
              "      <th>Oximeter Pulse</th>\n",
              "    </tr>\n",
              "  </thead>\n",
              "  <tbody>\n",
              "    <tr>\n",
              "      <th>2</th>\n",
              "      <td>153.0</td>\n",
              "      <td>51.0</td>\n",
              "      <td>91.0</td>\n",
              "      <td>153.0</td>\n",
              "    </tr>\n",
              "    <tr>\n",
              "      <th>3</th>\n",
              "      <td>153.0</td>\n",
              "      <td>48.0</td>\n",
              "      <td>92.0</td>\n",
              "      <td>136.0</td>\n",
              "    </tr>\n",
              "    <tr>\n",
              "      <th>6</th>\n",
              "      <td>153.0</td>\n",
              "      <td>46.0</td>\n",
              "      <td>94.0</td>\n",
              "      <td>153.0</td>\n",
              "    </tr>\n",
              "    <tr>\n",
              "      <th>7</th>\n",
              "      <td>153.0</td>\n",
              "      <td>49.0</td>\n",
              "      <td>94.0</td>\n",
              "      <td>154.0</td>\n",
              "    </tr>\n",
              "    <tr>\n",
              "      <th>8</th>\n",
              "      <td>154.0</td>\n",
              "      <td>48.0</td>\n",
              "      <td>93.0</td>\n",
              "      <td>154.0</td>\n",
              "    </tr>\n",
              "    <tr>\n",
              "      <th>...</th>\n",
              "      <td>...</td>\n",
              "      <td>...</td>\n",
              "      <td>...</td>\n",
              "      <td>...</td>\n",
              "    </tr>\n",
              "    <tr>\n",
              "      <th>4406</th>\n",
              "      <td>149.0</td>\n",
              "      <td>54.0</td>\n",
              "      <td>100.0</td>\n",
              "      <td>149.0</td>\n",
              "    </tr>\n",
              "    <tr>\n",
              "      <th>4407</th>\n",
              "      <td>147.0</td>\n",
              "      <td>42.0</td>\n",
              "      <td>99.0</td>\n",
              "      <td>147.0</td>\n",
              "    </tr>\n",
              "    <tr>\n",
              "      <th>4408</th>\n",
              "      <td>144.0</td>\n",
              "      <td>53.0</td>\n",
              "      <td>98.0</td>\n",
              "      <td>146.0</td>\n",
              "    </tr>\n",
              "    <tr>\n",
              "      <th>4409</th>\n",
              "      <td>144.0</td>\n",
              "      <td>57.0</td>\n",
              "      <td>100.0</td>\n",
              "      <td>145.0</td>\n",
              "    </tr>\n",
              "    <tr>\n",
              "      <th>4410</th>\n",
              "      <td>146.0</td>\n",
              "      <td>62.0</td>\n",
              "      <td>96.0</td>\n",
              "      <td>141.0</td>\n",
              "    </tr>\n",
              "  </tbody>\n",
              "</table>\n",
              "<p>4074 rows × 4 columns</p>\n",
              "</div>"
            ],
            "text/plain": [
              "      Lifetouch Heart Rate  ...  Oximeter Pulse\n",
              "2                    153.0  ...           153.0\n",
              "3                    153.0  ...           136.0\n",
              "6                    153.0  ...           153.0\n",
              "7                    153.0  ...           154.0\n",
              "8                    154.0  ...           154.0\n",
              "...                    ...  ...             ...\n",
              "4406                 149.0  ...           149.0\n",
              "4407                 147.0  ...           147.0\n",
              "4408                 144.0  ...           146.0\n",
              "4409                 144.0  ...           145.0\n",
              "4410                 146.0  ...           141.0\n",
              "\n",
              "[4074 rows x 4 columns]"
            ]
          },
          "metadata": {
            "tags": []
          },
          "execution_count": 13
        }
      ]
    },
    {
      "cell_type": "code",
      "metadata": {
        "id": "s3QqtUCsyKLa",
        "colab": {
          "base_uri": "https://localhost:8080/",
          "height": 297
        },
        "outputId": "3677e577-7e7d-4fc4-d83b-a79ac7cb36e0"
      },
      "source": [
        "df_input.describe()"
      ],
      "execution_count": 14,
      "outputs": [
        {
          "output_type": "execute_result",
          "data": {
            "text/html": [
              "<div>\n",
              "<style scoped>\n",
              "    .dataframe tbody tr th:only-of-type {\n",
              "        vertical-align: middle;\n",
              "    }\n",
              "\n",
              "    .dataframe tbody tr th {\n",
              "        vertical-align: top;\n",
              "    }\n",
              "\n",
              "    .dataframe thead th {\n",
              "        text-align: right;\n",
              "    }\n",
              "</style>\n",
              "<table border=\"1\" class=\"dataframe\">\n",
              "  <thead>\n",
              "    <tr style=\"text-align: right;\">\n",
              "      <th></th>\n",
              "      <th>Lifetouch Heart Rate</th>\n",
              "      <th>Lifetouch Respiration Rate</th>\n",
              "      <th>Oximeter SpO2</th>\n",
              "      <th>Oximeter Pulse</th>\n",
              "    </tr>\n",
              "  </thead>\n",
              "  <tbody>\n",
              "    <tr>\n",
              "      <th>count</th>\n",
              "      <td>4074.000000</td>\n",
              "      <td>4074.000000</td>\n",
              "      <td>4074.000000</td>\n",
              "      <td>4074.000000</td>\n",
              "    </tr>\n",
              "    <tr>\n",
              "      <th>mean</th>\n",
              "      <td>148.998773</td>\n",
              "      <td>51.338488</td>\n",
              "      <td>94.647275</td>\n",
              "      <td>147.913844</td>\n",
              "    </tr>\n",
              "    <tr>\n",
              "      <th>std</th>\n",
              "      <td>14.771199</td>\n",
              "      <td>8.394903</td>\n",
              "      <td>3.919336</td>\n",
              "      <td>16.057492</td>\n",
              "    </tr>\n",
              "    <tr>\n",
              "      <th>min</th>\n",
              "      <td>118.000000</td>\n",
              "      <td>33.000000</td>\n",
              "      <td>74.000000</td>\n",
              "      <td>44.000000</td>\n",
              "    </tr>\n",
              "    <tr>\n",
              "      <th>25%</th>\n",
              "      <td>138.000000</td>\n",
              "      <td>45.000000</td>\n",
              "      <td>93.000000</td>\n",
              "      <td>137.000000</td>\n",
              "    </tr>\n",
              "    <tr>\n",
              "      <th>50%</th>\n",
              "      <td>146.000000</td>\n",
              "      <td>51.000000</td>\n",
              "      <td>96.000000</td>\n",
              "      <td>145.000000</td>\n",
              "    </tr>\n",
              "    <tr>\n",
              "      <th>75%</th>\n",
              "      <td>161.000000</td>\n",
              "      <td>57.000000</td>\n",
              "      <td>98.000000</td>\n",
              "      <td>160.000000</td>\n",
              "    </tr>\n",
              "    <tr>\n",
              "      <th>max</th>\n",
              "      <td>197.000000</td>\n",
              "      <td>79.000000</td>\n",
              "      <td>100.000000</td>\n",
              "      <td>230.000000</td>\n",
              "    </tr>\n",
              "  </tbody>\n",
              "</table>\n",
              "</div>"
            ],
            "text/plain": [
              "       Lifetouch Heart Rate  ...  Oximeter Pulse\n",
              "count           4074.000000  ...     4074.000000\n",
              "mean             148.998773  ...      147.913844\n",
              "std               14.771199  ...       16.057492\n",
              "min              118.000000  ...       44.000000\n",
              "25%              138.000000  ...      137.000000\n",
              "50%              146.000000  ...      145.000000\n",
              "75%              161.000000  ...      160.000000\n",
              "max              197.000000  ...      230.000000\n",
              "\n",
              "[8 rows x 4 columns]"
            ]
          },
          "metadata": {
            "tags": []
          },
          "execution_count": 14
        }
      ]
    },
    {
      "cell_type": "code",
      "metadata": {
        "id": "gdnkSpWaENYQ"
      },
      "source": [
        "scaler = MinMaxScaler(feature_range=(0, 1))\n",
        "data_scaled = scaler.fit_transform(df_input)"
      ],
      "execution_count": 15,
      "outputs": []
    },
    {
      "cell_type": "code",
      "metadata": {
        "id": "rCY48qWVESHY",
        "colab": {
          "base_uri": "https://localhost:8080/"
        },
        "outputId": "9e7e25f8-5ec4-4094-df23-1bd2e79237d6"
      },
      "source": [
        "data_scaled"
      ],
      "execution_count": 16,
      "outputs": [
        {
          "output_type": "execute_result",
          "data": {
            "text/plain": [
              "array([[0.44303797, 0.39130435, 0.65384615, 0.58602151],\n",
              "       [0.44303797, 0.32608696, 0.69230769, 0.49462366],\n",
              "       [0.44303797, 0.2826087 , 0.76923077, 0.58602151],\n",
              "       ...,\n",
              "       [0.32911392, 0.43478261, 0.92307692, 0.5483871 ],\n",
              "       [0.32911392, 0.52173913, 1.        , 0.54301075],\n",
              "       [0.35443038, 0.63043478, 0.84615385, 0.52150538]])"
            ]
          },
          "metadata": {
            "tags": []
          },
          "execution_count": 16
        }
      ]
    },
    {
      "cell_type": "code",
      "metadata": {
        "id": "IEZuMY99zfLU"
      },
      "source": [
        "features=data_scaled\n",
        "target=data_scaled[:,0]"
      ],
      "execution_count": 17,
      "outputs": []
    },
    {
      "cell_type": "code",
      "metadata": {
        "id": "1Ag5wZCs9ZFY",
        "colab": {
          "base_uri": "https://localhost:8080/"
        },
        "outputId": "883d7bc5-24db-4c1d-a75b-fc59751e7197"
      },
      "source": [
        "TimeseriesGenerator(features, target, length=2, sampling_rate=1, batch_size=1)[0]"
      ],
      "execution_count": 18,
      "outputs": [
        {
          "output_type": "execute_result",
          "data": {
            "text/plain": [
              "(array([[[0.44303797, 0.39130435, 0.65384615, 0.58602151],\n",
              "         [0.44303797, 0.32608696, 0.69230769, 0.49462366]]]),\n",
              " array([0.44303797]))"
            ]
          },
          "metadata": {
            "tags": []
          },
          "execution_count": 18
        }
      ]
    },
    {
      "cell_type": "code",
      "metadata": {
        "id": "l3D7t9UA4Juf"
      },
      "source": [
        "x_train, x_test, y_train, y_test = train_test_split(features, target, test_size=0.20, random_state=123, shuffle = False)"
      ],
      "execution_count": 19,
      "outputs": []
    },
    {
      "cell_type": "code",
      "metadata": {
        "id": "DLv-nf0rFlLw",
        "colab": {
          "base_uri": "https://localhost:8080/"
        },
        "outputId": "eeb29601-0659-458e-8bef-8baf124f1390"
      },
      "source": [
        "x_train.shape"
      ],
      "execution_count": 20,
      "outputs": [
        {
          "output_type": "execute_result",
          "data": {
            "text/plain": [
              "(3259, 4)"
            ]
          },
          "metadata": {
            "tags": []
          },
          "execution_count": 20
        }
      ]
    },
    {
      "cell_type": "code",
      "metadata": {
        "id": "Ez0G67QwK_aW",
        "colab": {
          "base_uri": "https://localhost:8080/"
        },
        "outputId": "90cc441c-1630-4d07-8f68-fcb9735fba58"
      },
      "source": [
        "x_test.shape"
      ],
      "execution_count": 21,
      "outputs": [
        {
          "output_type": "execute_result",
          "data": {
            "text/plain": [
              "(815, 4)"
            ]
          },
          "metadata": {
            "tags": []
          },
          "execution_count": 21
        }
      ]
    },
    {
      "cell_type": "code",
      "metadata": {
        "id": "XAR9vd-n1MIK"
      },
      "source": [
        "win_length=500\n",
        "batch_size=11\n",
        "num_features=4\n",
        "train_generator = tf.keras.preprocessing.sequence.TimeseriesGenerator(x_train, y_train, length=win_length, sampling_rate=1, batch_size=batch_size)\n",
        "test_generator = tf.keras.preprocessing.sequence.TimeseriesGenerator(x_test, y_test, length=win_length, sampling_rate=1, batch_size=batch_size)"
      ],
      "execution_count": 22,
      "outputs": []
    },
    {
      "cell_type": "code",
      "metadata": {
        "id": "YW4H0bXV2NwA",
        "colab": {
          "base_uri": "https://localhost:8080/"
        },
        "outputId": "081c4448-0194-4a6a-cf16-7855528eb5cb"
      },
      "source": [
        "train_generator[0]"
      ],
      "execution_count": 23,
      "outputs": [
        {
          "output_type": "execute_result",
          "data": {
            "text/plain": [
              "(array([[[0.44303797, 0.39130435, 0.65384615, 0.58602151],\n",
              "         [0.44303797, 0.32608696, 0.69230769, 0.49462366],\n",
              "         [0.44303797, 0.2826087 , 0.76923077, 0.58602151],\n",
              "         ...,\n",
              "         [0.60759494, 0.45652174, 0.65384615, 0.65591398],\n",
              "         [0.60759494, 0.36956522, 0.61538462, 0.66129032],\n",
              "         [0.62025316, 0.39130435, 0.61538462, 0.66129032]],\n",
              " \n",
              "        [[0.44303797, 0.32608696, 0.69230769, 0.49462366],\n",
              "         [0.44303797, 0.2826087 , 0.76923077, 0.58602151],\n",
              "         [0.44303797, 0.34782609, 0.76923077, 0.59139785],\n",
              "         ...,\n",
              "         [0.60759494, 0.36956522, 0.61538462, 0.66129032],\n",
              "         [0.62025316, 0.39130435, 0.61538462, 0.66129032],\n",
              "         [0.60759494, 0.36956522, 0.61538462, 0.66129032]],\n",
              " \n",
              "        [[0.44303797, 0.2826087 , 0.76923077, 0.58602151],\n",
              "         [0.44303797, 0.34782609, 0.76923077, 0.59139785],\n",
              "         [0.4556962 , 0.32608696, 0.73076923, 0.59139785],\n",
              "         ...,\n",
              "         [0.62025316, 0.39130435, 0.61538462, 0.66129032],\n",
              "         [0.60759494, 0.36956522, 0.61538462, 0.66129032],\n",
              "         [0.62025316, 0.39130435, 0.57692308, 0.66129032]],\n",
              " \n",
              "        ...,\n",
              " \n",
              "        [[0.4556962 , 0.30434783, 0.73076923, 0.59677419],\n",
              "         [0.4556962 , 0.26086957, 0.73076923, 0.59677419],\n",
              "         [0.46835443, 0.30434783, 0.73076923, 0.59677419],\n",
              "         ...,\n",
              "         [0.60759494, 0.2826087 , 0.57692308, 0.65591398],\n",
              "         [0.62025316, 0.32608696, 0.61538462, 0.65591398],\n",
              "         [0.59493671, 0.41304348, 0.61538462, 0.65053763]],\n",
              " \n",
              "        [[0.4556962 , 0.26086957, 0.73076923, 0.59677419],\n",
              "         [0.46835443, 0.30434783, 0.73076923, 0.59677419],\n",
              "         [0.46835443, 0.32608696, 0.73076923, 0.60215054],\n",
              "         ...,\n",
              "         [0.62025316, 0.32608696, 0.61538462, 0.65591398],\n",
              "         [0.59493671, 0.41304348, 0.61538462, 0.65053763],\n",
              "         [0.59493671, 0.39130435, 0.65384615, 0.65591398]],\n",
              " \n",
              "        [[0.46835443, 0.30434783, 0.73076923, 0.59677419],\n",
              "         [0.46835443, 0.32608696, 0.73076923, 0.60215054],\n",
              "         [0.46835443, 0.32608696, 0.73076923, 0.60215054],\n",
              "         ...,\n",
              "         [0.59493671, 0.41304348, 0.61538462, 0.65053763],\n",
              "         [0.59493671, 0.39130435, 0.65384615, 0.65591398],\n",
              "         [0.60759494, 0.39130435, 0.65384615, 0.65591398]]]),\n",
              " array([0.60759494, 0.62025316, 0.60759494, 0.62025316, 0.62025316,\n",
              "        0.60759494, 0.62025316, 0.59493671, 0.59493671, 0.60759494,\n",
              "        0.60759494]))"
            ]
          },
          "metadata": {
            "tags": []
          },
          "execution_count": 23
        }
      ]
    },
    {
      "cell_type": "code",
      "metadata": {
        "id": "P8AvmYYcNyOR"
      },
      "source": [
        "model = tf.keras.Sequential()\n",
        "model.add(tf.keras.layers.LSTM(128, input_shape= (win_length, num_features), return_sequences=True))\n",
        "model.add(tf.keras.layers.LeakyReLU(alpha=0.5)) \n",
        "model.add(tf.keras.layers.Dropout(0.9)) \n",
        "model.add(tf.keras.layers.LSTM(128, return_sequences=False))\n",
        "model.add(tf.keras.layers.Dropout(0.9)) \n",
        "model.add(tf.keras.layers.Dense(1))\n",
        "\n",
        "model.compile(loss='mse', optimizer='adam')"
      ],
      "execution_count": 24,
      "outputs": []
    },
    {
      "cell_type": "code",
      "metadata": {
        "id": "2dQ-DlXiLswo",
        "colab": {
          "base_uri": "https://localhost:8080/"
        },
        "outputId": "1986ab94-4a9a-4a41-b9a6-f1ab0af43926"
      },
      "source": [
        "model.summary()"
      ],
      "execution_count": 25,
      "outputs": [
        {
          "output_type": "stream",
          "text": [
            "Model: \"sequential\"\n",
            "_________________________________________________________________\n",
            "Layer (type)                 Output Shape              Param #   \n",
            "=================================================================\n",
            "lstm (LSTM)                  (None, 500, 128)          68096     \n",
            "_________________________________________________________________\n",
            "leaky_re_lu (LeakyReLU)      (None, 500, 128)          0         \n",
            "_________________________________________________________________\n",
            "dropout (Dropout)            (None, 500, 128)          0         \n",
            "_________________________________________________________________\n",
            "lstm_1 (LSTM)                (None, 128)               131584    \n",
            "_________________________________________________________________\n",
            "dropout_1 (Dropout)          (None, 128)               0         \n",
            "_________________________________________________________________\n",
            "dense (Dense)                (None, 1)                 129       \n",
            "=================================================================\n",
            "Total params: 199,809\n",
            "Trainable params: 199,809\n",
            "Non-trainable params: 0\n",
            "_________________________________________________________________\n"
          ],
          "name": "stdout"
        }
      ]
    },
    {
      "cell_type": "code",
      "metadata": {
        "id": "JHnl-d8824y0",
        "colab": {
          "base_uri": "https://localhost:8080/"
        },
        "outputId": "80054e2a-d10a-46a5-979a-c18db1448fc2"
      },
      "source": [
        "early_stopping = tf.keras.callbacks.EarlyStopping(monitor='val_loss',\n",
        "                                                    patience=2,\n",
        "                                                    mode='min')\n",
        "\n",
        "model.compile(loss=tf.losses.MeanSquaredError(),\n",
        "              optimizer=tf.optimizers.Adam(),\n",
        "              metrics=[tf.metrics.MeanAbsoluteError()])\n",
        "\n",
        "history = model.fit(train_generator, epochs=50,\n",
        "                    validation_data=test_generator,\n",
        "                    shuffle=False,\n",
        "                    callbacks=[early_stopping])\n",
        "\n"
      ],
      "execution_count": 81,
      "outputs": [
        {
          "output_type": "stream",
          "text": [
            "Epoch 1/50\n",
            "251/251 [==============================] - 202s 792ms/step - loss: 0.0092 - mean_absolute_error: 0.0732 - val_loss: 0.0017 - val_mean_absolute_error: 0.0321\n",
            "Epoch 2/50\n",
            "251/251 [==============================] - 198s 790ms/step - loss: 0.0106 - mean_absolute_error: 0.0774 - val_loss: 0.0019 - val_mean_absolute_error: 0.0348\n",
            "Epoch 3/50\n",
            "251/251 [==============================] - 197s 787ms/step - loss: 0.0107 - mean_absolute_error: 0.0772 - val_loss: 0.0017 - val_mean_absolute_error: 0.0323\n"
          ],
          "name": "stdout"
        }
      ]
    },
    {
      "cell_type": "code",
      "metadata": {
        "id": "G4q1O2Hw5tXI",
        "colab": {
          "base_uri": "https://localhost:8080/"
        },
        "outputId": "3850209c-0913-4a8a-ba4a-b9bbfd5d696e"
      },
      "source": [
        "model.evaluate_generator(test_generator, verbose=0)  "
      ],
      "execution_count": 45,
      "outputs": [
        {
          "output_type": "stream",
          "text": [
            "/usr/local/lib/python3.7/dist-packages/tensorflow/python/keras/engine/training.py:1973: UserWarning: `Model.evaluate_generator` is deprecated and will be removed in a future version. Please use `Model.evaluate`, which supports generators.\n",
            "  warnings.warn('`Model.evaluate_generator` is deprecated and '\n"
          ],
          "name": "stderr"
        },
        {
          "output_type": "execute_result",
          "data": {
            "text/plain": [
              "[0.0015603344654664397, 0.030940238386392593]"
            ]
          },
          "metadata": {
            "tags": []
          },
          "execution_count": 45
        }
      ]
    },
    {
      "cell_type": "code",
      "metadata": {
        "id": "jtQXz-tN722p",
        "colab": {
          "base_uri": "https://localhost:8080/",
          "height": 295
        },
        "outputId": "77a308b0-9ff6-4f08-f8ac-3c83a5d72bc6"
      },
      "source": [
        "plt.figure(figsize=(8,4))\n",
        "plt.plot(history.history['loss'], label='Train Loss')\n",
        "plt.plot(history.history['val_loss'], label='Test Loss')\n",
        "plt.title('model loss')\n",
        "plt.ylabel('loss')\n",
        "plt.xlabel('epochs')\n",
        "plt.legend(loc='upper right')\n",
        "plt.show();"
      ],
      "execution_count": 64,
      "outputs": [
        {
          "output_type": "display_data",
          "data": {
            "image/png": "[encoded data removed]",
            "text/plain": [
              "<Figure size 576x288 with 1 Axes>"
            ]
          },
          "metadata": {
            "tags": [],
            "needs_background": "light"
          }
        }
      ]
    },
    {
      "cell_type": "code",
      "metadata": {
        "id": "Wx6HG0ZjXodP",
        "colab": {
          "base_uri": "https://localhost:8080/"
        },
        "outputId": "4abbfae5-85ab-4b23-f3e1-b2430f86b536"
      },
      "source": [
        "predictions=model.predict_generator(test_generator)"
      ],
      "execution_count": 65,
      "outputs": [
        {
          "output_type": "stream",
          "text": [
            "/usr/local/lib/python3.7/dist-packages/tensorflow/python/keras/engine/training.py:2001: UserWarning: `Model.predict_generator` is deprecated and will be removed in a future version. Please use `Model.predict`, which supports generators.\n",
            "  warnings.warn('`Model.predict_generator` is deprecated and '\n"
          ],
          "name": "stderr"
        }
      ]
    },
    {
      "cell_type": "code",
      "metadata": {
        "id": "kEoR4K3pYDnR",
        "colab": {
          "base_uri": "https://localhost:8080/"
        },
        "outputId": "0303bd8d-f307-4c6a-bb13-9ef39d768370"
      },
      "source": [
        "predictions.shape[0]"
      ],
      "execution_count": 66,
      "outputs": [
        {
          "output_type": "execute_result",
          "data": {
            "text/plain": [
              "315"
            ]
          },
          "metadata": {
            "tags": []
          },
          "execution_count": 66
        }
      ]
    },
    {
      "cell_type": "code",
      "metadata": {
        "id": "GMC2ewo0YRDW",
        "colab": {
          "base_uri": "https://localhost:8080/"
        },
        "outputId": "47ab6e16-240e-455a-eab7-72d4e93fcd50"
      },
      "source": [
        "predictions"
      ],
      "execution_count": 67,
      "outputs": [
        {
          "output_type": "execute_result",
          "data": {
            "text/plain": [
              "array([[0.31881344],\n",
              "       [0.31543332],\n",
              "       [0.30541635],\n",
              "       [0.29310194],\n",
              "       [0.28108755],\n",
              "       [0.270944  ],\n",
              "       [0.2660521 ],\n",
              "       [0.26298228],\n",
              "       [0.2659354 ],\n",
              "       [0.2724735 ],\n",
              "       [0.2796051 ],\n",
              "       [0.28781447],\n",
              "       [0.29452604],\n",
              "       [0.3025711 ],\n",
              "       [0.31113407],\n",
              "       [0.3167734 ],\n",
              "       [0.3181499 ],\n",
              "       [0.31775707],\n",
              "       [0.3157339 ],\n",
              "       [0.3122779 ],\n",
              "       [0.30856192],\n",
              "       [0.30670565],\n",
              "       [0.30556047],\n",
              "       [0.30293462],\n",
              "       [0.30056685],\n",
              "       [0.29765332],\n",
              "       [0.29560578],\n",
              "       [0.29296172],\n",
              "       [0.29203594],\n",
              "       [0.29022157],\n",
              "       [0.2900492 ],\n",
              "       [0.28907025],\n",
              "       [0.29050213],\n",
              "       [0.29252788],\n",
              "       [0.29523602],\n",
              "       [0.29334596],\n",
              "       [0.28714517],\n",
              "       [0.27937162],\n",
              "       [0.27215052],\n",
              "       [0.2681644 ],\n",
              "       [0.2697305 ],\n",
              "       [0.27745837],\n",
              "       [0.27910954],\n",
              "       [0.27709618],\n",
              "       [0.27476716],\n",
              "       [0.2738938 ],\n",
              "       [0.27370286],\n",
              "       [0.27609098],\n",
              "       [0.27703908],\n",
              "       [0.27569708],\n",
              "       [0.27825028],\n",
              "       [0.2844298 ],\n",
              "       [0.2908008 ],\n",
              "       [0.29615408],\n",
              "       [0.3020779 ],\n",
              "       [0.3059863 ],\n",
              "       [0.3055655 ],\n",
              "       [0.3029248 ],\n",
              "       [0.29604235],\n",
              "       [0.28765687],\n",
              "       [0.27855337],\n",
              "       [0.27206218],\n",
              "       [0.26631236],\n",
              "       [0.2601725 ],\n",
              "       [0.2590348 ],\n",
              "       [0.26696157],\n",
              "       [0.28284186],\n",
              "       [0.30143362],\n",
              "       [0.31408978],\n",
              "       [0.31802112],\n",
              "       [0.3172831 ],\n",
              "       [0.31869927],\n",
              "       [0.3232225 ],\n",
              "       [0.3256163 ],\n",
              "       [0.32361886],\n",
              "       [0.31973532],\n",
              "       [0.3166405 ],\n",
              "       [0.31226823],\n",
              "       [0.3048091 ],\n",
              "       [0.2969439 ],\n",
              "       [0.29470348],\n",
              "       [0.30080575],\n",
              "       [0.30191568],\n",
              "       [0.2984192 ],\n",
              "       [0.29402176],\n",
              "       [0.29356447],\n",
              "       [0.29521367],\n",
              "       [0.29857036],\n",
              "       [0.3044824 ],\n",
              "       [0.30573186],\n",
              "       [0.3082478 ],\n",
              "       [0.3122771 ],\n",
              "       [0.32085934],\n",
              "       [0.3341715 ],\n",
              "       [0.35017467],\n",
              "       [0.34989408],\n",
              "       [0.3414964 ],\n",
              "       [0.32909265],\n",
              "       [0.31795132],\n",
              "       [0.30856737],\n",
              "       [0.30028537],\n",
              "       [0.29084378],\n",
              "       [0.28108537],\n",
              "       [0.271097  ],\n",
              "       [0.25916404],\n",
              "       [0.24680066],\n",
              "       [0.23664045],\n",
              "       [0.22830492],\n",
              "       [0.22151068],\n",
              "       [0.21770148],\n",
              "       [0.21525306],\n",
              "       [0.21078311],\n",
              "       [0.20681208],\n",
              "       [0.20376751],\n",
              "       [0.20101845],\n",
              "       [0.19965613],\n",
              "       [0.19885737],\n",
              "       [0.19815943],\n",
              "       [0.19864242],\n",
              "       [0.19975492],\n",
              "       [0.20120136],\n",
              "       [0.20154649],\n",
              "       [0.20185211],\n",
              "       [0.20143716],\n",
              "       [0.20066044],\n",
              "       [0.20002319],\n",
              "       [0.19883104],\n",
              "       [0.20051521],\n",
              "       [0.2044513 ],\n",
              "       [0.20343862],\n",
              "       [0.20440774],\n",
              "       [0.20570652],\n",
              "       [0.20964636],\n",
              "       [0.21391445],\n",
              "       [0.216162  ],\n",
              "       [0.21576592],\n",
              "       [0.21761353],\n",
              "       [0.22382131],\n",
              "       [0.23341276],\n",
              "       [0.24360912],\n",
              "       [0.2498643 ],\n",
              "       [0.25284457],\n",
              "       [0.25083488],\n",
              "       [0.24468185],\n",
              "       [0.23712271],\n",
              "       [0.23101866],\n",
              "       [0.22547208],\n",
              "       [0.22050825],\n",
              "       [0.21878624],\n",
              "       [0.21950603],\n",
              "       [0.2230744 ],\n",
              "       [0.23498917],\n",
              "       [0.24550545],\n",
              "       [0.2527249 ],\n",
              "       [0.25801405],\n",
              "       [0.26606107],\n",
              "       [0.27928507],\n",
              "       [0.28813335],\n",
              "       [0.2885602 ],\n",
              "       [0.28652707],\n",
              "       [0.2825939 ],\n",
              "       [0.27894264],\n",
              "       [0.2786542 ],\n",
              "       [0.27797514],\n",
              "       [0.276238  ],\n",
              "       [0.27324903],\n",
              "       [0.26997328],\n",
              "       [0.27011627],\n",
              "       [0.26862597],\n",
              "       [0.26519528],\n",
              "       [0.26135296],\n",
              "       [0.25781286],\n",
              "       [0.25233728],\n",
              "       [0.24915916],\n",
              "       [0.24792856],\n",
              "       [0.24696131],\n",
              "       [0.2477572 ],\n",
              "       [0.24890804],\n",
              "       [0.24990025],\n",
              "       [0.2537598 ],\n",
              "       [0.25566787],\n",
              "       [0.2581981 ],\n",
              "       [0.26211202],\n",
              "       [0.26569602],\n",
              "       [0.2688818 ],\n",
              "       [0.26847243],\n",
              "       [0.2680135 ],\n",
              "       [0.2702751 ],\n",
              "       [0.27277005],\n",
              "       [0.27670458],\n",
              "       [0.2810571 ],\n",
              "       [0.28255564],\n",
              "       [0.2827471 ],\n",
              "       [0.28349927],\n",
              "       [0.2859679 ],\n",
              "       [0.2910437 ],\n",
              "       [0.29445252],\n",
              "       [0.29775885],\n",
              "       [0.2994929 ],\n",
              "       [0.29713616],\n",
              "       [0.29160392],\n",
              "       [0.2841028 ],\n",
              "       [0.27585894],\n",
              "       [0.26820156],\n",
              "       [0.2646277 ],\n",
              "       [0.26235393],\n",
              "       [0.26071596],\n",
              "       [0.26078346],\n",
              "       [0.26442036],\n",
              "       [0.26756543],\n",
              "       [0.26797345],\n",
              "       [0.26887527],\n",
              "       [0.27103257],\n",
              "       [0.27257484],\n",
              "       [0.27443835],\n",
              "       [0.2757709 ],\n",
              "       [0.27485487],\n",
              "       [0.2750735 ],\n",
              "       [0.2736489 ],\n",
              "       [0.27333096],\n",
              "       [0.27533457],\n",
              "       [0.27927864],\n",
              "       [0.28296515],\n",
              "       [0.28520802],\n",
              "       [0.28809983],\n",
              "       [0.28938833],\n",
              "       [0.28974214],\n",
              "       [0.29328325],\n",
              "       [0.29658577],\n",
              "       [0.2969452 ],\n",
              "       [0.29407966],\n",
              "       [0.2924837 ],\n",
              "       [0.29348284],\n",
              "       [0.2938168 ],\n",
              "       [0.29116827],\n",
              "       [0.28693017],\n",
              "       [0.28428835],\n",
              "       [0.2827565 ],\n",
              "       [0.28020656],\n",
              "       [0.27923065],\n",
              "       [0.2787814 ],\n",
              "       [0.2784067 ],\n",
              "       [0.27613693],\n",
              "       [0.2739328 ],\n",
              "       [0.27055067],\n",
              "       [0.26785892],\n",
              "       [0.26592794],\n",
              "       [0.26365614],\n",
              "       [0.26261184],\n",
              "       [0.2625763 ],\n",
              "       [0.26298442],\n",
              "       [0.26294667],\n",
              "       [0.2643968 ],\n",
              "       [0.26470026],\n",
              "       [0.26413026],\n",
              "       [0.26424068],\n",
              "       [0.26463455],\n",
              "       [0.26610076],\n",
              "       [0.26698557],\n",
              "       [0.26848394],\n",
              "       [0.27173918],\n",
              "       [0.27491432],\n",
              "       [0.277311  ],\n",
              "       [0.27955425],\n",
              "       [0.28040788],\n",
              "       [0.28142884],\n",
              "       [0.2808899 ],\n",
              "       [0.27964857],\n",
              "       [0.2783086 ],\n",
              "       [0.27400622],\n",
              "       [0.27031857],\n",
              "       [0.26949894],\n",
              "       [0.27124622],\n",
              "       [0.2735858 ],\n",
              "       [0.27753899],\n",
              "       [0.28118193],\n",
              "       [0.28550422],\n",
              "       [0.2867617 ],\n",
              "       [0.28723186],\n",
              "       [0.287352  ],\n",
              "       [0.28807005],\n",
              "       [0.2889963 ],\n",
              "       [0.28615993],\n",
              "       [0.2821475 ],\n",
              "       [0.27775633],\n",
              "       [0.27455652],\n",
              "       [0.27188456],\n",
              "       [0.2702335 ],\n",
              "       [0.2689454 ],\n",
              "       [0.26741496],\n",
              "       [0.26387995],\n",
              "       [0.2615583 ],\n",
              "       [0.25994372],\n",
              "       [0.25819302],\n",
              "       [0.2607619 ],\n",
              "       [0.26359332],\n",
              "       [0.2681625 ],\n",
              "       [0.2736259 ],\n",
              "       [0.27638936],\n",
              "       [0.2790447 ],\n",
              "       [0.28419414],\n",
              "       [0.28831148],\n",
              "       [0.2924387 ],\n",
              "       [0.2984277 ],\n",
              "       [0.30490038],\n",
              "       [0.31190583],\n",
              "       [0.31537083],\n",
              "       [0.31537434],\n",
              "       [0.31445175],\n",
              "       [0.3144235 ],\n",
              "       [0.31733504],\n",
              "       [0.31843045],\n",
              "       [0.31748262],\n",
              "       [0.3136316 ],\n",
              "       [0.3065952 ]], dtype=float32)"
            ]
          },
          "metadata": {
            "tags": []
          },
          "execution_count": 67
        }
      ]
    },
    {
      "cell_type": "code",
      "metadata": {
        "id": "dzQB2PtOYeMy",
        "colab": {
          "base_uri": "https://localhost:8080/"
        },
        "outputId": "7592c7c8-95a6-42c6-cb54-6da0e3cb84e3"
      },
      "source": [
        "y_test"
      ],
      "execution_count": 68,
      "outputs": [
        {
          "output_type": "execute_result",
          "data": {
            "text/plain": [
              "array([0.12658228, 0.07594937, 0.08860759, 0.12658228, 0.08860759,\n",
              "       0.10126582, 0.13924051, 0.11392405, 0.11392405, 0.11392405,\n",
              "       0.07594937, 0.05063291, 0.08860759, 0.06329114, 0.10126582,\n",
              "       0.10126582, 0.07594937, 0.07594937, 0.05063291, 0.03797468,\n",
              "       0.06329114, 0.06329114, 0.06329114, 0.05063291, 0.03797468,\n",
              "       0.06329114, 0.03797468, 0.06329114, 0.02531646, 0.03797468,\n",
              "       0.03797468, 0.03797468, 0.02531646, 0.01265823, 0.01265823,\n",
              "       0.01265823, 0.07594937, 0.10126582, 0.11392405, 0.26582278,\n",
              "       0.2278481 , 0.17721519, 0.2278481 , 0.18987342, 0.10126582,\n",
              "       0.08860759, 0.11392405, 0.10126582, 0.10126582, 0.11392405,\n",
              "       0.07594937, 0.11392405, 0.10126582, 0.11392405, 0.08860759,\n",
              "       0.10126582, 0.08860759, 0.11392405, 0.13924051, 0.12658228,\n",
              "       0.10126582, 0.10126582, 0.10126582, 0.10126582, 0.11392405,\n",
              "       0.15189873, 0.21518987, 0.20253165, 0.2278481 , 0.20253165,\n",
              "       0.18987342, 0.15189873, 0.17721519, 0.20253165, 0.24050633,\n",
              "       0.21518987, 0.2278481 , 0.18987342, 0.20253165, 0.20253165,\n",
              "       0.17721519, 0.16455696, 0.21518987, 0.20253165, 0.24050633,\n",
              "       0.25316456, 0.20253165, 0.21518987, 0.24050633, 0.20253165,\n",
              "       0.25316456, 0.26582278, 0.25316456, 0.27848101, 0.30379747,\n",
              "       0.32911392, 0.3164557 , 0.30379747, 0.35443038, 0.30379747,\n",
              "       0.26582278, 0.25316456, 0.2278481 , 0.17721519, 0.2278481 ,\n",
              "       0.25316456, 0.30379747, 0.30379747, 0.27848101, 0.27848101,\n",
              "       0.30379747, 0.29113924, 0.24050633, 0.2278481 , 0.26582278,\n",
              "       0.25316456, 0.24050633, 0.2278481 , 0.2278481 , 0.2278481 ,\n",
              "       0.2278481 , 0.24050633, 0.21518987, 0.21518987, 0.2278481 ,\n",
              "       0.26582278, 0.24050633, 0.25316456, 0.24050633, 0.27848101,\n",
              "       0.27848101, 0.26582278, 0.27848101, 0.27848101, 0.27848101,\n",
              "       0.24050633, 0.30379747, 0.34177215, 0.30379747, 0.32911392,\n",
              "       0.24050633, 0.2278481 , 0.24050633, 0.25316456, 0.21518987,\n",
              "       0.29113924, 0.27848101, 0.29113924, 0.34177215, 0.35443038,\n",
              "       0.40506329, 0.3164557 , 0.30379747, 0.24050633, 0.25316456,\n",
              "       0.18987342, 0.17721519, 0.16455696, 0.20253165, 0.16455696,\n",
              "       0.10126582, 0.15189873, 0.18987342, 0.18987342, 0.18987342,\n",
              "       0.20253165, 0.18987342, 0.2278481 , 0.21518987, 0.18987342,\n",
              "       0.17721519, 0.18987342, 0.24050633, 0.24050633, 0.2278481 ,\n",
              "       0.20253165, 0.21518987, 0.18987342, 0.2278481 , 0.25316456,\n",
              "       0.20253165, 0.17721519, 0.12658228, 0.08860759, 0.12658228,\n",
              "       0.12658228, 0.07594937, 0.10126582, 0.11392405, 0.10126582,\n",
              "       0.08860759, 0.11392405, 0.11392405, 0.10126582, 0.10126582,\n",
              "       0.07594937, 0.08860759, 0.08860759, 0.10126582, 0.08860759,\n",
              "       0.07594937, 0.08860759, 0.07594937, 0.07594937, 0.05063291,\n",
              "       0.07594937, 0.06329114, 0.05063291, 0.08860759, 0.10126582,\n",
              "       0.12658228, 0.07594937, 0.12658228, 0.17721519, 0.16455696,\n",
              "       0.11392405, 0.16455696, 0.13924051, 0.15189873, 0.13924051,\n",
              "       0.17721519, 0.08860759, 0.12658228, 0.12658228, 0.08860759,\n",
              "       0.12658228, 0.10126582, 0.12658228, 0.11392405, 0.12658228,\n",
              "       0.13924051, 0.11392405, 0.13924051, 0.12658228, 0.16455696,\n",
              "       0.15189873, 0.11392405, 0.11392405, 0.12658228, 0.10126582,\n",
              "       0.11392405, 0.12658228, 0.12658228, 0.11392405, 0.11392405,\n",
              "       0.11392405, 0.11392405, 0.10126582, 0.08860759, 0.06329114,\n",
              "       0.07594937, 0.10126582, 0.15189873, 0.12658228, 0.16455696,\n",
              "       0.16455696, 0.16455696, 0.16455696, 0.13924051, 0.11392405,\n",
              "       0.15189873, 0.15189873, 0.10126582, 0.15189873, 0.11392405,\n",
              "       0.12658228, 0.11392405, 0.12658228, 0.17721519, 0.10126582,\n",
              "       0.11392405, 0.15189873, 0.13924051, 0.13924051, 0.13924051,\n",
              "       0.13924051, 0.16455696, 0.17721519, 0.15189873, 0.15189873,\n",
              "       0.16455696, 0.17721519, 0.18987342, 0.17721519, 0.17721519,\n",
              "       0.17721519, 0.18987342, 0.17721519, 0.17721519, 0.15189873,\n",
              "       0.20253165, 0.21518987, 0.20253165, 0.27848101, 0.26582278,\n",
              "       0.29113924, 0.24050633, 0.2278481 , 0.25316456, 0.26582278,\n",
              "       0.26582278, 0.27848101, 0.26582278, 0.24050633, 0.25316456,\n",
              "       0.24050633, 0.27848101, 0.29113924, 0.27848101, 0.29113924,\n",
              "       0.25316456, 0.2278481 , 0.26582278, 0.29113924, 0.26582278,\n",
              "       0.30379747, 0.26582278, 0.29113924, 0.27848101, 0.24050633,\n",
              "       0.26582278, 0.21518987, 0.21518987, 0.2278481 , 0.27848101,\n",
              "       0.21518987, 0.21518987, 0.25316456, 0.25316456, 0.24050633,\n",
              "       0.25316456, 0.2278481 , 0.21518987, 0.2278481 , 0.20253165,\n",
              "       0.18987342, 0.20253165, 0.2278481 , 0.21518987, 0.2278481 ,\n",
              "       0.32911392, 0.50632911, 0.51898734, 0.44303797, 0.49367089,\n",
              "       0.44303797, 0.37974684, 0.35443038, 0.3164557 , 0.30379747,\n",
              "       0.29113924, 0.26582278, 0.26582278, 0.29113924, 0.27848101,\n",
              "       0.27848101, 0.27848101, 0.26582278, 0.26582278, 0.32911392,\n",
              "       0.34177215, 0.34177215, 0.39240506, 0.37974684, 0.3164557 ,\n",
              "       0.32911392, 0.32911392, 0.29113924, 0.29113924, 0.29113924,\n",
              "       0.24050633, 0.20253165, 0.20253165, 0.27848101, 0.29113924,\n",
              "       0.30379747, 0.27848101, 0.26582278, 0.26582278, 0.2278481 ,\n",
              "       0.21518987, 0.24050633, 0.2278481 , 0.25316456, 0.26582278,\n",
              "       0.26582278, 0.27848101, 0.27848101, 0.25316456, 0.26582278,\n",
              "       0.25316456, 0.25316456, 0.21518987, 0.26582278, 0.29113924,\n",
              "       0.27848101, 0.29113924, 0.2278481 , 0.21518987, 0.20253165,\n",
              "       0.21518987, 0.25316456, 0.25316456, 0.3164557 , 0.3164557 ,\n",
              "       0.25316456, 0.32911392, 0.3164557 , 0.29113924, 0.25316456,\n",
              "       0.30379747, 0.2278481 , 0.25316456, 0.26582278, 0.27848101,\n",
              "       0.3164557 , 0.25316456, 0.26582278, 0.2278481 , 0.26582278,\n",
              "       0.29113924, 0.32911392, 0.32911392, 0.32911392, 0.30379747,\n",
              "       0.30379747, 0.34177215, 0.36708861, 0.39240506, 0.41772152,\n",
              "       0.39240506, 0.39240506, 0.44303797, 0.48101266, 0.56962025,\n",
              "       0.49367089, 0.43037975, 0.36708861, 0.3164557 , 0.30379747,\n",
              "       0.30379747, 0.3164557 , 0.3164557 , 0.30379747, 0.3164557 ,\n",
              "       0.3164557 , 0.17721519, 0.17721519, 0.20253165, 0.17721519,\n",
              "       0.18987342, 0.18987342, 0.21518987, 0.24050633, 0.25316456,\n",
              "       0.27848101, 0.30379747, 0.3164557 , 0.26582278, 0.27848101,\n",
              "       0.26582278, 0.26582278, 0.29113924, 0.25316456, 0.26582278,\n",
              "       0.2278481 , 0.24050633, 0.24050633, 0.24050633, 0.25316456,\n",
              "       0.24050633, 0.29113924, 0.30379747, 0.26582278, 0.26582278,\n",
              "       0.25316456, 0.26582278, 0.25316456, 0.24050633, 0.29113924,\n",
              "       0.29113924, 0.30379747, 0.29113924, 0.30379747, 0.29113924,\n",
              "       0.29113924, 0.27848101, 0.27848101, 0.29113924, 0.30379747,\n",
              "       0.30379747, 0.29113924, 0.3164557 , 0.3164557 , 0.30379747,\n",
              "       0.34177215, 0.36708861, 0.41772152, 0.37974684, 0.34177215,\n",
              "       0.30379747, 0.26582278, 0.26582278, 0.25316456, 0.25316456,\n",
              "       0.29113924, 0.27848101, 0.32911392, 0.32911392, 0.32911392,\n",
              "       0.35443038, 0.34177215, 0.37974684, 0.40506329, 0.36708861,\n",
              "       0.34177215, 0.34177215, 0.34177215, 0.32911392, 0.32911392,\n",
              "       0.35443038, 0.34177215, 0.3164557 , 0.32911392, 0.3164557 ,\n",
              "       0.3164557 , 0.30379747, 0.32911392, 0.30379747, 0.32911392,\n",
              "       0.30379747, 0.32911392, 0.32911392, 0.32911392, 0.27848101,\n",
              "       0.25316456, 0.25316456, 0.25316456, 0.27848101, 0.3164557 ,\n",
              "       0.36708861, 0.27848101, 0.27848101, 0.27848101, 0.29113924,\n",
              "       0.27848101, 0.30379747, 0.29113924, 0.27848101, 0.32911392,\n",
              "       0.35443038, 0.34177215, 0.32911392, 0.35443038, 0.35443038,\n",
              "       0.3164557 , 0.3164557 , 0.27848101, 0.27848101, 0.26582278,\n",
              "       0.27848101, 0.25316456, 0.25316456, 0.29113924, 0.35443038,\n",
              "       0.35443038, 0.40506329, 0.37974684, 0.32911392, 0.32911392,\n",
              "       0.40506329, 0.41772152, 0.40506329, 0.36708861, 0.36708861,\n",
              "       0.37974684, 0.35443038, 0.3164557 , 0.30379747, 0.3164557 ,\n",
              "       0.35443038, 0.26582278, 0.25316456, 0.25316456, 0.29113924,\n",
              "       0.29113924, 0.30379747, 0.40506329, 0.32911392, 0.37974684,\n",
              "       0.39240506, 0.43037975, 0.4556962 , 0.34177215, 0.32911392,\n",
              "       0.3164557 , 0.3164557 , 0.34177215, 0.32911392, 0.3164557 ,\n",
              "       0.27848101, 0.26582278, 0.25316456, 0.2278481 , 0.21518987,\n",
              "       0.21518987, 0.20253165, 0.20253165, 0.21518987, 0.20253165,\n",
              "       0.16455696, 0.17721519, 0.17721519, 0.16455696, 0.16455696,\n",
              "       0.16455696, 0.15189873, 0.16455696, 0.16455696, 0.16455696,\n",
              "       0.15189873, 0.15189873, 0.15189873, 0.15189873, 0.16455696,\n",
              "       0.15189873, 0.20253165, 0.18987342, 0.13924051, 0.18987342,\n",
              "       0.17721519, 0.21518987, 0.20253165, 0.18987342, 0.17721519,\n",
              "       0.2278481 , 0.26582278, 0.26582278, 0.26582278, 0.24050633,\n",
              "       0.24050633, 0.21518987, 0.20253165, 0.20253165, 0.20253165,\n",
              "       0.20253165, 0.18987342, 0.21518987, 0.2278481 , 0.2278481 ,\n",
              "       0.29113924, 0.26582278, 0.25316456, 0.25316456, 0.26582278,\n",
              "       0.30379747, 0.30379747, 0.26582278, 0.27848101, 0.27848101,\n",
              "       0.27848101, 0.30379747, 0.29113924, 0.27848101, 0.26582278,\n",
              "       0.25316456, 0.3164557 , 0.27848101, 0.25316456, 0.25316456,\n",
              "       0.25316456, 0.2278481 , 0.26582278, 0.26582278, 0.25316456,\n",
              "       0.25316456, 0.25316456, 0.25316456, 0.29113924, 0.25316456,\n",
              "       0.27848101, 0.27848101, 0.26582278, 0.29113924, 0.25316456,\n",
              "       0.29113924, 0.3164557 , 0.30379747, 0.30379747, 0.29113924,\n",
              "       0.29113924, 0.29113924, 0.3164557 , 0.3164557 , 0.34177215,\n",
              "       0.32911392, 0.35443038, 0.34177215, 0.3164557 , 0.30379747,\n",
              "       0.29113924, 0.27848101, 0.26582278, 0.29113924, 0.27848101,\n",
              "       0.27848101, 0.29113924, 0.32911392, 0.29113924, 0.27848101,\n",
              "       0.30379747, 0.3164557 , 0.30379747, 0.3164557 , 0.30379747,\n",
              "       0.27848101, 0.27848101, 0.26582278, 0.30379747, 0.3164557 ,\n",
              "       0.3164557 , 0.29113924, 0.27848101, 0.30379747, 0.29113924,\n",
              "       0.3164557 , 0.3164557 , 0.32911392, 0.32911392, 0.30379747,\n",
              "       0.32911392, 0.35443038, 0.32911392, 0.30379747, 0.29113924,\n",
              "       0.3164557 , 0.3164557 , 0.29113924, 0.30379747, 0.30379747,\n",
              "       0.30379747, 0.27848101, 0.27848101, 0.26582278, 0.27848101,\n",
              "       0.27848101, 0.26582278, 0.27848101, 0.27848101, 0.27848101,\n",
              "       0.26582278, 0.29113924, 0.27848101, 0.27848101, 0.27848101,\n",
              "       0.27848101, 0.29113924, 0.27848101, 0.29113924, 0.3164557 ,\n",
              "       0.30379747, 0.30379747, 0.3164557 , 0.30379747, 0.30379747,\n",
              "       0.29113924, 0.29113924, 0.29113924, 0.26582278, 0.27848101,\n",
              "       0.30379747, 0.3164557 , 0.3164557 , 0.32911392, 0.3164557 ,\n",
              "       0.34177215, 0.30379747, 0.3164557 , 0.3164557 , 0.32911392,\n",
              "       0.32911392, 0.29113924, 0.29113924, 0.29113924, 0.3164557 ,\n",
              "       0.30379747, 0.30379747, 0.30379747, 0.29113924, 0.25316456,\n",
              "       0.27848101, 0.27848101, 0.26582278, 0.3164557 , 0.29113924,\n",
              "       0.32911392, 0.32911392, 0.30379747, 0.3164557 , 0.35443038,\n",
              "       0.32911392, 0.34177215, 0.37974684, 0.39240506, 0.39240506,\n",
              "       0.34177215, 0.35443038, 0.36708861, 0.39240506, 0.43037975,\n",
              "       0.39240506, 0.36708861, 0.32911392, 0.32911392, 0.35443038])"
            ]
          },
          "metadata": {
            "tags": []
          },
          "execution_count": 68
        }
      ]
    },
    {
      "cell_type": "code",
      "metadata": {
        "id": "tiw-WJ9f9OUV",
        "colab": {
          "base_uri": "https://localhost:8080/"
        },
        "outputId": "696ad038-a11c-48e5-ecd7-606e06d82641"
      },
      "source": [
        "x_test"
      ],
      "execution_count": 69,
      "outputs": [
        {
          "output_type": "execute_result",
          "data": {
            "text/plain": [
              "array([[0.12658228, 0.17391304, 0.88461538, 0.4516129 ],\n",
              "       [0.07594937, 0.13043478, 0.88461538, 0.44623656],\n",
              "       [0.08860759, 0.10869565, 0.92307692, 0.44086022],\n",
              "       ...,\n",
              "       [0.32911392, 0.43478261, 0.92307692, 0.5483871 ],\n",
              "       [0.32911392, 0.52173913, 1.        , 0.54301075],\n",
              "       [0.35443038, 0.63043478, 0.84615385, 0.52150538]])"
            ]
          },
          "metadata": {
            "tags": []
          },
          "execution_count": 69
        }
      ]
    },
    {
      "cell_type": "code",
      "metadata": {
        "id": "3YhtkAbq7hGf",
        "colab": {
          "base_uri": "https://localhost:8080/"
        },
        "outputId": "53cb86f9-83f6-48eb-ecea-8e2f85a0dbf4"
      },
      "source": [
        "x_test[:,1:][win_length:]"
      ],
      "execution_count": 70,
      "outputs": [
        {
          "output_type": "execute_result",
          "data": {
            "text/plain": [
              "array([[0.26086957, 0.92307692, 0.51612903],\n",
              "       [0.34782609, 0.96153846, 0.51075269],\n",
              "       [0.19565217, 0.96153846, 0.51075269],\n",
              "       [0.26086957, 0.92307692, 0.50537634],\n",
              "       [0.19565217, 0.92307692, 0.51075269],\n",
              "       [0.30434783, 0.92307692, 0.51075269],\n",
              "       [0.30434783, 0.96153846, 0.52150538],\n",
              "       [0.2826087 , 0.92307692, 0.53763441],\n",
              "       [0.32608696, 0.88461538, 0.53225806],\n",
              "       [0.19565217, 0.92307692, 0.5483871 ],\n",
              "       [0.34782609, 0.92307692, 0.54301075],\n",
              "       [0.06521739, 0.92307692, 0.54301075],\n",
              "       [0.2173913 , 0.92307692, 0.5483871 ],\n",
              "       [0.23913043, 0.96153846, 0.5483871 ],\n",
              "       [0.23913043, 0.92307692, 0.5483871 ],\n",
              "       [0.26086957, 0.92307692, 0.53763441],\n",
              "       [0.30434783, 0.88461538, 0.54301075],\n",
              "       [0.13043478, 0.92307692, 0.5483871 ],\n",
              "       [0.32608696, 0.92307692, 0.53225806],\n",
              "       [0.2826087 , 0.92307692, 0.55913978],\n",
              "       [0.13043478, 0.92307692, 0.54301075],\n",
              "       [0.26086957, 0.92307692, 0.54301075],\n",
              "       [0.32608696, 0.92307692, 0.53763441],\n",
              "       [0.23913043, 0.92307692, 0.53763441],\n",
              "       [0.34782609, 0.92307692, 0.52688172],\n",
              "       [0.19565217, 0.88461538, 0.53225806],\n",
              "       [0.19565217, 0.92307692, 0.53225806],\n",
              "       [0.26086957, 0.92307692, 0.52688172],\n",
              "       [0.2826087 , 0.92307692, 0.51612903],\n",
              "       [0.15217391, 0.92307692, 0.52688172],\n",
              "       [0.13043478, 0.92307692, 0.51612903],\n",
              "       [0.17391304, 0.88461538, 0.52150538],\n",
              "       [0.19565217, 0.92307692, 0.53225806],\n",
              "       [0.26086957, 0.88461538, 0.52150538],\n",
              "       [0.23913043, 0.92307692, 0.51612903],\n",
              "       [0.2826087 , 0.92307692, 0.50537634],\n",
              "       [0.15217391, 0.92307692, 0.50537634],\n",
              "       [0.17391304, 0.92307692, 0.51612903],\n",
              "       [0.15217391, 0.92307692, 0.51612903],\n",
              "       [0.2173913 , 0.92307692, 0.5483871 ],\n",
              "       [0.45652174, 0.92307692, 0.53763441],\n",
              "       [0.54347826, 0.96153846, 0.51612903],\n",
              "       [0.34782609, 0.96153846, 0.52150538],\n",
              "       [0.10869565, 0.92307692, 0.51612903],\n",
              "       [0.23913043, 0.92307692, 0.51612903],\n",
              "       [0.30434783, 0.88461538, 0.51612903],\n",
              "       [0.19565217, 0.88461538, 0.53763441],\n",
              "       [0.32608696, 0.96153846, 0.52688172],\n",
              "       [0.32608696, 0.96153846, 0.52150538],\n",
              "       [0.17391304, 0.92307692, 0.5483871 ],\n",
              "       [0.2173913 , 0.92307692, 0.5483871 ],\n",
              "       [0.34782609, 0.92307692, 0.54301075],\n",
              "       [0.2173913 , 0.88461538, 0.55376344],\n",
              "       [0.2826087 , 0.88461538, 0.55376344],\n",
              "       [0.52173913, 0.92307692, 0.52688172],\n",
              "       [0.26086957, 0.92307692, 0.53225806],\n",
              "       [0.2173913 , 0.92307692, 0.51612903],\n",
              "       [0.32608696, 0.96153846, 0.51612903],\n",
              "       [0.2826087 , 0.96153846, 0.51612903],\n",
              "       [0.36956522, 0.96153846, 0.51612903],\n",
              "       [0.10869565, 0.92307692, 0.51075269],\n",
              "       [0.17391304, 0.92307692, 0.50537634],\n",
              "       [0.19565217, 1.        , 0.50537634],\n",
              "       [0.17391304, 0.92307692, 0.50537634],\n",
              "       [0.32608696, 0.84615385, 0.50537634],\n",
              "       [0.2173913 , 0.65384615, 0.51075269],\n",
              "       [0.39130435, 0.80769231, 0.52688172],\n",
              "       [0.41304348, 0.92307692, 0.54301075],\n",
              "       [0.34782609, 0.92307692, 0.53763441],\n",
              "       [0.45652174, 0.88461538, 0.53763441],\n",
              "       [0.39130435, 0.92307692, 0.54301075],\n",
              "       [0.17391304, 0.88461538, 0.55913978],\n",
              "       [0.36956522, 1.        , 0.55376344],\n",
              "       [0.34782609, 1.        , 0.54301075],\n",
              "       [0.30434783, 1.        , 0.55913978],\n",
              "       [0.17391304, 1.        , 0.57526882],\n",
              "       [0.23913043, 1.        , 0.53225806],\n",
              "       [0.43478261, 1.        , 0.52150538],\n",
              "       [0.36956522, 0.92307692, 0.52150538],\n",
              "       [0.23913043, 0.73076923, 0.51075269],\n",
              "       [0.19565217, 0.61538462, 0.47311828],\n",
              "       [0.34782609, 0.73076923, 0.45698925],\n",
              "       [0.32608696, 0.76923077, 0.46774194],\n",
              "       [0.15217391, 0.73076923, 0.47311828],\n",
              "       [0.26086957, 0.69230769, 0.49462366],\n",
              "       [0.36956522, 0.69230769, 0.5       ],\n",
              "       [0.34782609, 0.69230769, 0.50537634],\n",
              "       [0.30434783, 0.96153846, 0.52150538],\n",
              "       [0.32608696, 0.96153846, 0.54301075],\n",
              "       [0.45652174, 0.92307692, 0.55376344],\n",
              "       [0.26086957, 0.92307692, 0.56451613],\n",
              "       [0.19565217, 0.84615385, 0.56989247],\n",
              "       [0.2173913 , 0.76923077, 0.55913978],\n",
              "       [0.36956522, 0.19230769, 0.39247312],\n",
              "       [0.23913043, 0.96153846, 0.53225806],\n",
              "       [0.30434783, 0.92307692, 0.53763441],\n",
              "       [0.32608696, 0.96153846, 0.53225806],\n",
              "       [0.32608696, 0.96153846, 0.5483871 ],\n",
              "       [0.34782609, 0.92307692, 0.53763441],\n",
              "       [0.30434783, 0.92307692, 0.52150538],\n",
              "       [0.30434783, 0.92307692, 0.50537634],\n",
              "       [0.34782609, 0.92307692, 0.51075269],\n",
              "       [0.39130435, 0.92307692, 0.49462366],\n",
              "       [0.45652174, 0.96153846, 0.49462366],\n",
              "       [0.32608696, 0.96153846, 0.48924731],\n",
              "       [0.34782609, 0.92307692, 0.48924731],\n",
              "       [0.30434783, 0.92307692, 0.48387097],\n",
              "       [0.32608696, 0.96153846, 0.48924731],\n",
              "       [0.26086957, 0.96153846, 0.48924731],\n",
              "       [0.23913043, 0.96153846, 0.47849462],\n",
              "       [0.30434783, 0.96153846, 0.47311828],\n",
              "       [0.2826087 , 0.96153846, 0.47849462],\n",
              "       [0.19565217, 0.96153846, 0.46774194],\n",
              "       [0.2173913 , 0.96153846, 0.47311828],\n",
              "       [0.13043478, 0.92307692, 0.46774194],\n",
              "       [0.19565217, 0.96153846, 0.46774194],\n",
              "       [0.23913043, 0.92307692, 0.46774194],\n",
              "       [0.26086957, 0.92307692, 0.46774194],\n",
              "       [0.2173913 , 0.92307692, 0.46774194],\n",
              "       [0.2173913 , 0.92307692, 0.46774194],\n",
              "       [0.2826087 , 0.92307692, 0.46236559],\n",
              "       [0.26086957, 0.88461538, 0.46236559],\n",
              "       [0.23913043, 0.92307692, 0.46236559],\n",
              "       [0.2173913 , 0.92307692, 0.46236559],\n",
              "       [0.19565217, 0.96153846, 0.45698925],\n",
              "       [0.23913043, 0.96153846, 0.47311828],\n",
              "       [0.15217391, 1.        , 0.46236559],\n",
              "       [0.2173913 , 0.92307692, 0.46236559],\n",
              "       [0.2173913 , 1.        , 0.46236559],\n",
              "       [0.17391304, 0.96153846, 0.46774194],\n",
              "       [0.2826087 , 0.96153846, 0.47311828],\n",
              "       [0.36956522, 0.96153846, 0.47311828],\n",
              "       [0.41304348, 0.92307692, 0.47849462],\n",
              "       [0.23913043, 0.96153846, 0.47311828],\n",
              "       [0.36956522, 0.96153846, 0.47311828],\n",
              "       [0.30434783, 1.        , 0.50537634],\n",
              "       [0.41304348, 0.96153846, 0.5       ],\n",
              "       [0.30434783, 0.88461538, 0.5       ],\n",
              "       [0.10869565, 0.92307692, 0.5       ],\n",
              "       [0.2173913 , 0.96153846, 0.48924731],\n",
              "       [0.15217391, 0.96153846, 0.48387097],\n",
              "       [0.39130435, 1.        , 0.48387097],\n",
              "       [0.32608696, 1.        , 0.48387097],\n",
              "       [0.06521739, 1.        , 0.48387097],\n",
              "       [0.2173913 , 0.96153846, 0.48387097],\n",
              "       [0.32608696, 1.        , 0.47849462],\n",
              "       [0.23913043, 0.96153846, 0.48387097],\n",
              "       [0.23913043, 0.96153846, 0.48924731],\n",
              "       [0.19565217, 1.        , 0.48924731],\n",
              "       [0.2826087 , 0.92307692, 0.48924731],\n",
              "       [0.23913043, 0.80769231, 0.48924731],\n",
              "       [0.2173913 , 0.96153846, 0.5       ],\n",
              "       [0.15217391, 0.96153846, 0.51075269],\n",
              "       [0.2826087 , 0.92307692, 0.51612903],\n",
              "       [0.19565217, 0.73076923, 0.51075269],\n",
              "       [0.2173913 , 0.65384615, 0.51612903],\n",
              "       [0.23913043, 0.92307692, 0.51612903],\n",
              "       [0.26086957, 1.        , 0.5       ],\n",
              "       [0.26086957, 0.92307692, 0.50537634],\n",
              "       [0.2173913 , 0.96153846, 0.5       ],\n",
              "       [0.13043478, 0.92307692, 0.5       ],\n",
              "       [0.17391304, 0.88461538, 0.5       ],\n",
              "       [0.15217391, 0.96153846, 0.51075269],\n",
              "       [0.13043478, 0.96153846, 0.51612903],\n",
              "       [0.32608696, 0.96153846, 0.51075269],\n",
              "       [0.30434783, 0.88461538, 0.5       ],\n",
              "       [0.2173913 , 0.96153846, 0.50537634],\n",
              "       [0.2173913 , 1.        , 0.50537634],\n",
              "       [0.15217391, 0.96153846, 0.5       ],\n",
              "       [0.17391304, 0.96153846, 0.5       ],\n",
              "       [0.10869565, 0.96153846, 0.5       ],\n",
              "       [0.23913043, 1.        , 0.48924731],\n",
              "       [0.17391304, 1.        , 0.5       ],\n",
              "       [0.23913043, 1.        , 0.50537634],\n",
              "       [0.2173913 , 1.        , 0.51075269],\n",
              "       [0.17391304, 0.92307692, 0.50537634],\n",
              "       [0.2173913 , 0.96153846, 0.50537634],\n",
              "       [0.17391304, 0.96153846, 0.5       ],\n",
              "       [0.32608696, 0.96153846, 0.51075269],\n",
              "       [0.17391304, 0.96153846, 0.51075269],\n",
              "       [0.34782609, 0.96153846, 0.51075269],\n",
              "       [0.2173913 , 0.88461538, 0.51075269],\n",
              "       [0.2173913 , 0.88461538, 0.51612903],\n",
              "       [0.30434783, 0.96153846, 0.52150538],\n",
              "       [0.23913043, 0.96153846, 0.52150538],\n",
              "       [0.2173913 , 1.        , 0.51075269],\n",
              "       [0.30434783, 0.96153846, 0.51612903],\n",
              "       [0.17391304, 0.96153846, 0.51612903],\n",
              "       [0.17391304, 0.88461538, 0.52150538],\n",
              "       [0.2173913 , 0.84615385, 0.52688172],\n",
              "       [0.34782609, 0.96153846, 0.51612903],\n",
              "       [0.17391304, 0.92307692, 0.52150538],\n",
              "       [0.2173913 , 0.96153846, 0.52688172],\n",
              "       [0.17391304, 0.88461538, 0.53225806],\n",
              "       [0.23913043, 0.88461538, 0.53763441],\n",
              "       [0.30434783, 0.96153846, 0.54301075],\n",
              "       [0.34782609, 0.96153846, 0.53763441],\n",
              "       [0.36956522, 0.96153846, 0.54301075],\n",
              "       [0.43478261, 1.        , 0.53763441],\n",
              "       [0.43478261, 1.        , 0.52688172],\n",
              "       [0.30434783, 1.        , 0.51075269],\n",
              "       [0.26086957, 1.        , 0.51075269],\n",
              "       [0.34782609, 0.96153846, 0.51075269],\n",
              "       [0.19565217, 0.92307692, 0.51075269],\n",
              "       [0.30434783, 0.96153846, 0.51075269],\n",
              "       [0.39130435, 0.96153846, 0.50537634],\n",
              "       [0.32608696, 0.96153846, 0.52688172],\n",
              "       [0.10869565, 1.        , 0.53763441],\n",
              "       [0.26086957, 0.96153846, 0.52150538],\n",
              "       [0.30434783, 1.        , 0.51612903],\n",
              "       [0.19565217, 1.        , 0.52688172],\n",
              "       [0.2826087 , 1.        , 0.53225806],\n",
              "       [0.30434783, 1.        , 0.53763441],\n",
              "       [0.30434783, 1.        , 0.54301075],\n",
              "       [0.2826087 , 0.96153846, 0.52150538],\n",
              "       [0.2826087 , 0.96153846, 0.52150538],\n",
              "       [0.32608696, 0.84615385, 0.52150538],\n",
              "       [0.26086957, 0.92307692, 0.52150538],\n",
              "       [0.32608696, 0.96153846, 0.52150538],\n",
              "       [0.2826087 , 0.92307692, 0.52150538],\n",
              "       [0.2173913 , 0.88461538, 0.52150538],\n",
              "       [0.19565217, 0.84615385, 0.52688172],\n",
              "       [0.17391304, 0.84615385, 0.52150538],\n",
              "       [0.23913043, 0.84615385, 0.51612903],\n",
              "       [0.23913043, 0.88461538, 0.52150538],\n",
              "       [0.19565217, 0.96153846, 0.52150538],\n",
              "       [0.26086957, 0.76923077, 0.52150538],\n",
              "       [0.36956522, 0.88461538, 0.51612903],\n",
              "       [0.15217391, 1.        , 0.52688172],\n",
              "       [0.23913043, 1.        , 0.53225806],\n",
              "       [0.30434783, 0.96153846, 0.5483871 ],\n",
              "       [0.23913043, 0.96153846, 0.55376344],\n",
              "       [0.19565217, 0.96153846, 0.53225806],\n",
              "       [0.30434783, 1.        , 0.52688172],\n",
              "       [0.2826087 , 0.96153846, 0.53225806],\n",
              "       [0.23913043, 0.96153846, 0.53225806],\n",
              "       [0.2826087 , 0.96153846, 0.52150538],\n",
              "       [0.30434783, 0.96153846, 0.52688172],\n",
              "       [0.13043478, 0.92307692, 0.52688172],\n",
              "       [0.23913043, 0.96153846, 0.52688172],\n",
              "       [0.26086957, 0.96153846, 0.51612903],\n",
              "       [0.32608696, 0.96153846, 0.51612903],\n",
              "       [0.15217391, 0.92307692, 0.51612903],\n",
              "       [0.2173913 , 0.96153846, 0.51075269],\n",
              "       [0.2173913 , 0.96153846, 0.51075269],\n",
              "       [0.2826087 , 0.96153846, 0.51075269],\n",
              "       [0.15217391, 0.96153846, 0.51075269],\n",
              "       [0.10869565, 0.96153846, 0.51075269],\n",
              "       [0.2173913 , 0.96153846, 0.50537634],\n",
              "       [0.13043478, 0.96153846, 0.51075269],\n",
              "       [0.19565217, 0.96153846, 0.51612903],\n",
              "       [0.19565217, 0.96153846, 0.51612903],\n",
              "       [0.19565217, 1.        , 0.51075269],\n",
              "       [0.15217391, 1.        , 0.50537634],\n",
              "       [0.26086957, 0.96153846, 0.51612903],\n",
              "       [0.17391304, 0.96153846, 0.52150538],\n",
              "       [0.30434783, 0.96153846, 0.51612903],\n",
              "       [0.2173913 , 0.96153846, 0.52688172],\n",
              "       [0.23913043, 0.96153846, 0.53225806],\n",
              "       [0.13043478, 0.96153846, 0.52688172],\n",
              "       [0.2826087 , 0.96153846, 0.52150538],\n",
              "       [0.39130435, 0.96153846, 0.52688172],\n",
              "       [0.36956522, 0.96153846, 0.53763441],\n",
              "       [0.2173913 , 0.96153846, 0.52150538],\n",
              "       [0.23913043, 0.92307692, 0.52688172],\n",
              "       [0.13043478, 0.96153846, 0.52688172],\n",
              "       [0.10869565, 0.96153846, 0.52688172],\n",
              "       [0.26086957, 0.96153846, 0.51612903],\n",
              "       [0.23913043, 1.        , 0.50537634],\n",
              "       [0.26086957, 0.96153846, 0.51075269],\n",
              "       [0.26086957, 0.96153846, 0.52150538],\n",
              "       [0.2826087 , 0.96153846, 0.52688172],\n",
              "       [0.15217391, 1.        , 0.54301075],\n",
              "       [0.19565217, 0.96153846, 0.53225806],\n",
              "       [0.32608696, 0.96153846, 0.53763441],\n",
              "       [0.26086957, 0.96153846, 0.53225806],\n",
              "       [0.23913043, 0.96153846, 0.51612903],\n",
              "       [0.23913043, 0.96153846, 0.52688172],\n",
              "       [0.32608696, 0.96153846, 0.53763441],\n",
              "       [0.26086957, 0.96153846, 0.54301075],\n",
              "       [0.23913043, 0.96153846, 0.53763441],\n",
              "       [0.36956522, 1.        , 0.52150538],\n",
              "       [0.26086957, 0.96153846, 0.51612903],\n",
              "       [0.60869565, 0.96153846, 0.53225806],\n",
              "       [0.54347826, 0.96153846, 0.52688172],\n",
              "       [0.41304348, 0.96153846, 0.52688172],\n",
              "       [0.36956522, 0.96153846, 0.53225806],\n",
              "       [0.47826087, 0.96153846, 0.52150538],\n",
              "       [0.32608696, 0.96153846, 0.51075269],\n",
              "       [0.41304348, 0.92307692, 0.51612903],\n",
              "       [0.23913043, 0.96153846, 0.52150538],\n",
              "       [0.34782609, 0.96153846, 0.50537634],\n",
              "       [0.36956522, 0.96153846, 0.52688172],\n",
              "       [0.19565217, 0.96153846, 0.52688172],\n",
              "       [0.32608696, 0.96153846, 0.52688172],\n",
              "       [0.32608696, 1.        , 0.53763441],\n",
              "       [0.2826087 , 0.96153846, 0.52150538],\n",
              "       [0.2826087 , 1.        , 0.52688172],\n",
              "       [0.30434783, 0.96153846, 0.53763441],\n",
              "       [0.17391304, 0.96153846, 0.5483871 ],\n",
              "       [0.10869565, 0.96153846, 0.53763441],\n",
              "       [0.30434783, 0.96153846, 0.54301075],\n",
              "       [0.19565217, 0.96153846, 0.55376344],\n",
              "       [0.32608696, 1.        , 0.55913978],\n",
              "       [0.30434783, 0.92307692, 0.56451613],\n",
              "       [0.30434783, 0.88461538, 0.55376344],\n",
              "       [0.41304348, 0.96153846, 0.53763441],\n",
              "       [0.2826087 , 0.96153846, 0.5483871 ],\n",
              "       [0.32608696, 1.        , 0.56989247],\n",
              "       [0.36956522, 1.        , 0.57526882],\n",
              "       [0.45652174, 1.        , 0.56451613],\n",
              "       [0.19565217, 0.96153846, 0.55376344],\n",
              "       [0.43478261, 0.92307692, 0.5483871 ],\n",
              "       [0.52173913, 1.        , 0.54301075],\n",
              "       [0.63043478, 0.84615385, 0.52150538]])"
            ]
          },
          "metadata": {
            "tags": []
          },
          "execution_count": 70
        }
      ]
    },
    {
      "cell_type": "code",
      "metadata": {
        "id": "qR04JJlC6yaM"
      },
      "source": [
        "df_pred=pd.concat([pd.DataFrame(predictions), pd.DataFrame(x_test[:,1:][win_length:])],axis=1)"
      ],
      "execution_count": 71,
      "outputs": []
    },
    {
      "cell_type": "code",
      "metadata": {
        "id": "3Fu_2Z9DR7rh",
        "colab": {
          "base_uri": "https://localhost:8080/",
          "height": 419
        },
        "outputId": "7a510fe7-5252-49e5-be61-b98c6e016771"
      },
      "source": [
        "df_pred"
      ],
      "execution_count": 72,
      "outputs": [
        {
          "output_type": "execute_result",
          "data": {
            "text/html": [
              "<div>\n",
              "<style scoped>\n",
              "    .dataframe tbody tr th:only-of-type {\n",
              "        vertical-align: middle;\n",
              "    }\n",
              "\n",
              "    .dataframe tbody tr th {\n",
              "        vertical-align: top;\n",
              "    }\n",
              "\n",
              "    .dataframe thead th {\n",
              "        text-align: right;\n",
              "    }\n",
              "</style>\n",
              "<table border=\"1\" class=\"dataframe\">\n",
              "  <thead>\n",
              "    <tr style=\"text-align: right;\">\n",
              "      <th></th>\n",
              "      <th>0</th>\n",
              "      <th>0</th>\n",
              "      <th>1</th>\n",
              "      <th>2</th>\n",
              "    </tr>\n",
              "  </thead>\n",
              "  <tbody>\n",
              "    <tr>\n",
              "      <th>0</th>\n",
              "      <td>0.318813</td>\n",
              "      <td>0.260870</td>\n",
              "      <td>0.923077</td>\n",
              "      <td>0.516129</td>\n",
              "    </tr>\n",
              "    <tr>\n",
              "      <th>1</th>\n",
              "      <td>0.315433</td>\n",
              "      <td>0.347826</td>\n",
              "      <td>0.961538</td>\n",
              "      <td>0.510753</td>\n",
              "    </tr>\n",
              "    <tr>\n",
              "      <th>2</th>\n",
              "      <td>0.305416</td>\n",
              "      <td>0.195652</td>\n",
              "      <td>0.961538</td>\n",
              "      <td>0.510753</td>\n",
              "    </tr>\n",
              "    <tr>\n",
              "      <th>3</th>\n",
              "      <td>0.293102</td>\n",
              "      <td>0.260870</td>\n",
              "      <td>0.923077</td>\n",
              "      <td>0.505376</td>\n",
              "    </tr>\n",
              "    <tr>\n",
              "      <th>4</th>\n",
              "      <td>0.281088</td>\n",
              "      <td>0.195652</td>\n",
              "      <td>0.923077</td>\n",
              "      <td>0.510753</td>\n",
              "    </tr>\n",
              "    <tr>\n",
              "      <th>...</th>\n",
              "      <td>...</td>\n",
              "      <td>...</td>\n",
              "      <td>...</td>\n",
              "      <td>...</td>\n",
              "    </tr>\n",
              "    <tr>\n",
              "      <th>310</th>\n",
              "      <td>0.317335</td>\n",
              "      <td>0.456522</td>\n",
              "      <td>1.000000</td>\n",
              "      <td>0.564516</td>\n",
              "    </tr>\n",
              "    <tr>\n",
              "      <th>311</th>\n",
              "      <td>0.318430</td>\n",
              "      <td>0.195652</td>\n",
              "      <td>0.961538</td>\n",
              "      <td>0.553763</td>\n",
              "    </tr>\n",
              "    <tr>\n",
              "      <th>312</th>\n",
              "      <td>0.317483</td>\n",
              "      <td>0.434783</td>\n",
              "      <td>0.923077</td>\n",
              "      <td>0.548387</td>\n",
              "    </tr>\n",
              "    <tr>\n",
              "      <th>313</th>\n",
              "      <td>0.313632</td>\n",
              "      <td>0.521739</td>\n",
              "      <td>1.000000</td>\n",
              "      <td>0.543011</td>\n",
              "    </tr>\n",
              "    <tr>\n",
              "      <th>314</th>\n",
              "      <td>0.306595</td>\n",
              "      <td>0.630435</td>\n",
              "      <td>0.846154</td>\n",
              "      <td>0.521505</td>\n",
              "    </tr>\n",
              "  </tbody>\n",
              "</table>\n",
              "<p>315 rows × 4 columns</p>\n",
              "</div>"
            ],
            "text/plain": [
              "            0         0         1         2\n",
              "0    0.318813  0.260870  0.923077  0.516129\n",
              "1    0.315433  0.347826  0.961538  0.510753\n",
              "2    0.305416  0.195652  0.961538  0.510753\n",
              "3    0.293102  0.260870  0.923077  0.505376\n",
              "4    0.281088  0.195652  0.923077  0.510753\n",
              "..        ...       ...       ...       ...\n",
              "310  0.317335  0.456522  1.000000  0.564516\n",
              "311  0.318430  0.195652  0.961538  0.553763\n",
              "312  0.317483  0.434783  0.923077  0.548387\n",
              "313  0.313632  0.521739  1.000000  0.543011\n",
              "314  0.306595  0.630435  0.846154  0.521505\n",
              "\n",
              "[315 rows x 4 columns]"
            ]
          },
          "metadata": {
            "tags": []
          },
          "execution_count": 72
        }
      ]
    },
    {
      "cell_type": "code",
      "metadata": {
        "id": "noykl7lh9hmT"
      },
      "source": [
        "rev_trans=scaler.inverse_transform(df_pred)"
      ],
      "execution_count": 73,
      "outputs": []
    },
    {
      "cell_type": "code",
      "metadata": {
        "id": "D2vcu4tBAf4n",
        "colab": {
          "base_uri": "https://localhost:8080/"
        },
        "outputId": "b34108da-ff6f-41d4-dad4-f7e1c7a79a73"
      },
      "source": [
        "rev_trans"
      ],
      "execution_count": 74,
      "outputs": [
        {
          "output_type": "execute_result",
          "data": {
            "text/plain": [
              "array([[143.18626201,  45.        ,  98.        , 140.        ],\n",
              "       [142.91923255,  49.        ,  99.        , 139.        ],\n",
              "       [142.1278913 ,  42.        ,  99.        , 139.        ],\n",
              "       ...,\n",
              "       [143.08112702,  53.        ,  98.        , 146.        ],\n",
              "       [142.77689594,  57.        , 100.        , 145.        ],\n",
              "       [142.22102129,  62.        ,  96.        , 141.        ]])"
            ]
          },
          "metadata": {
            "tags": []
          },
          "execution_count": 74
        }
      ]
    },
    {
      "cell_type": "code",
      "metadata": {
        "id": "5eopbjZZBRUs"
      },
      "source": [
        "df_final=df_input[predictions.shape[0]*-1:]"
      ],
      "execution_count": 75,
      "outputs": []
    },
    {
      "cell_type": "code",
      "metadata": {
        "id": "iEgc_FyMBjSO",
        "colab": {
          "base_uri": "https://localhost:8080/"
        },
        "outputId": "70c2bb8a-e0ba-4ffe-c619-2433e39e0c63"
      },
      "source": [
        "df_final.count()"
      ],
      "execution_count": 76,
      "outputs": [
        {
          "output_type": "execute_result",
          "data": {
            "text/plain": [
              "Lifetouch Heart Rate          315\n",
              "Lifetouch Respiration Rate    315\n",
              "Oximeter SpO2                 315\n",
              "Oximeter Pulse                315\n",
              "dtype: int64"
            ]
          },
          "metadata": {
            "tags": []
          },
          "execution_count": 76
        }
      ]
    },
    {
      "cell_type": "code",
      "metadata": {
        "id": "D1VdgBdB-aWE",
        "colab": {
          "base_uri": "https://localhost:8080/"
        },
        "outputId": "da47e3d8-8ab9-46c8-b323-6a5afe8b6280"
      },
      "source": [
        "df_final['Predicted Heart Rate']=rev_trans[:,0]"
      ],
      "execution_count": 77,
      "outputs": [
        {
          "output_type": "stream",
          "text": [
            "/usr/local/lib/python3.7/dist-packages/ipykernel_launcher.py:1: SettingWithCopyWarning: \n",
            "A value is trying to be set on a copy of a slice from a DataFrame.\n",
            "Try using .loc[row_indexer,col_indexer] = value instead\n",
            "\n",
            "See the caveats in the documentation: https://pandas.pydata.org/pandas-docs/stable/user_guide/indexing.html#returning-a-view-versus-a-copy\n",
            "  \"\"\"Entry point for launching an IPython kernel.\n"
          ],
          "name": "stderr"
        }
      ]
    },
    {
      "cell_type": "code",
      "metadata": {
        "id": "Ym90OS9J_-6O",
        "colab": {
          "base_uri": "https://localhost:8080/",
          "height": 419
        },
        "outputId": "7e6dfc59-47c2-4f4d-db2a-19a49686c4e9"
      },
      "source": [
        "df_final"
      ],
      "execution_count": 78,
      "outputs": [
        {
          "output_type": "execute_result",
          "data": {
            "text/html": [
              "<div>\n",
              "<style scoped>\n",
              "    .dataframe tbody tr th:only-of-type {\n",
              "        vertical-align: middle;\n",
              "    }\n",
              "\n",
              "    .dataframe tbody tr th {\n",
              "        vertical-align: top;\n",
              "    }\n",
              "\n",
              "    .dataframe thead th {\n",
              "        text-align: right;\n",
              "    }\n",
              "</style>\n",
              "<table border=\"1\" class=\"dataframe\">\n",
              "  <thead>\n",
              "    <tr style=\"text-align: right;\">\n",
              "      <th></th>\n",
              "      <th>Lifetouch Heart Rate</th>\n",
              "      <th>Lifetouch Respiration Rate</th>\n",
              "      <th>Oximeter SpO2</th>\n",
              "      <th>Oximeter Pulse</th>\n",
              "      <th>Predicted Heart Rate</th>\n",
              "    </tr>\n",
              "  </thead>\n",
              "  <tbody>\n",
              "    <tr>\n",
              "      <th>4091</th>\n",
              "      <td>142.0</td>\n",
              "      <td>45.0</td>\n",
              "      <td>98.0</td>\n",
              "      <td>140.0</td>\n",
              "      <td>143.186262</td>\n",
              "    </tr>\n",
              "    <tr>\n",
              "      <th>4092</th>\n",
              "      <td>139.0</td>\n",
              "      <td>49.0</td>\n",
              "      <td>99.0</td>\n",
              "      <td>139.0</td>\n",
              "      <td>142.919233</td>\n",
              "    </tr>\n",
              "    <tr>\n",
              "      <th>4093</th>\n",
              "      <td>139.0</td>\n",
              "      <td>42.0</td>\n",
              "      <td>99.0</td>\n",
              "      <td>139.0</td>\n",
              "      <td>142.127891</td>\n",
              "    </tr>\n",
              "    <tr>\n",
              "      <th>4094</th>\n",
              "      <td>138.0</td>\n",
              "      <td>45.0</td>\n",
              "      <td>98.0</td>\n",
              "      <td>138.0</td>\n",
              "      <td>141.155053</td>\n",
              "    </tr>\n",
              "    <tr>\n",
              "      <th>4095</th>\n",
              "      <td>138.0</td>\n",
              "      <td>42.0</td>\n",
              "      <td>98.0</td>\n",
              "      <td>139.0</td>\n",
              "      <td>140.205916</td>\n",
              "    </tr>\n",
              "    <tr>\n",
              "      <th>...</th>\n",
              "      <td>...</td>\n",
              "      <td>...</td>\n",
              "      <td>...</td>\n",
              "      <td>...</td>\n",
              "      <td>...</td>\n",
              "    </tr>\n",
              "    <tr>\n",
              "      <th>4406</th>\n",
              "      <td>149.0</td>\n",
              "      <td>54.0</td>\n",
              "      <td>100.0</td>\n",
              "      <td>149.0</td>\n",
              "      <td>143.069468</td>\n",
              "    </tr>\n",
              "    <tr>\n",
              "      <th>4407</th>\n",
              "      <td>147.0</td>\n",
              "      <td>42.0</td>\n",
              "      <td>99.0</td>\n",
              "      <td>147.0</td>\n",
              "      <td>143.156006</td>\n",
              "    </tr>\n",
              "    <tr>\n",
              "      <th>4408</th>\n",
              "      <td>144.0</td>\n",
              "      <td>53.0</td>\n",
              "      <td>98.0</td>\n",
              "      <td>146.0</td>\n",
              "      <td>143.081127</td>\n",
              "    </tr>\n",
              "    <tr>\n",
              "      <th>4409</th>\n",
              "      <td>144.0</td>\n",
              "      <td>57.0</td>\n",
              "      <td>100.0</td>\n",
              "      <td>145.0</td>\n",
              "      <td>142.776896</td>\n",
              "    </tr>\n",
              "    <tr>\n",
              "      <th>4410</th>\n",
              "      <td>146.0</td>\n",
              "      <td>62.0</td>\n",
              "      <td>96.0</td>\n",
              "      <td>141.0</td>\n",
              "      <td>142.221021</td>\n",
              "    </tr>\n",
              "  </tbody>\n",
              "</table>\n",
              "<p>315 rows × 5 columns</p>\n",
              "</div>"
            ],
            "text/plain": [
              "      Lifetouch Heart Rate  ...  Predicted Heart Rate\n",
              "4091                 142.0  ...            143.186262\n",
              "4092                 139.0  ...            142.919233\n",
              "4093                 139.0  ...            142.127891\n",
              "4094                 138.0  ...            141.155053\n",
              "4095                 138.0  ...            140.205916\n",
              "...                    ...  ...                   ...\n",
              "4406                 149.0  ...            143.069468\n",
              "4407                 147.0  ...            143.156006\n",
              "4408                 144.0  ...            143.081127\n",
              "4409                 144.0  ...            142.776896\n",
              "4410                 146.0  ...            142.221021\n",
              "\n",
              "[315 rows x 5 columns]"
            ]
          },
          "metadata": {
            "tags": []
          },
          "execution_count": 78
        }
      ]
    },
    {
      "cell_type": "code",
      "metadata": {
        "id": "Ig7S76aZApyp",
        "colab": {
          "base_uri": "https://localhost:8080/",
          "height": 500
        },
        "outputId": "93629ac7-b888-4cff-a729-d9b9f90f3278"
      },
      "source": [
        "df_final[['Lifetouch Heart Rate','Predicted Heart Rate']].plot()"
      ],
      "execution_count": 79,
      "outputs": [
        {
          "output_type": "execute_result",
          "data": {
            "text/plain": [
              "<matplotlib.axes._subplots.AxesSubplot at 0x7f223455c950>"
            ]
          },
          "metadata": {
            "tags": []
          },
          "execution_count": 79
        },
        {
          "output_type": "display_data",
          "data": {
            "image/png": "[encoded data removed]",
            "text/plain": [
              "<Figure size 720x576 with 1 Axes>"
            ]
          },
          "metadata": {
            "tags": [],
            "needs_background": "light"
          }
        }
      ]
    },
    {
      "cell_type": "code",
      "metadata": {
        "colab": {
          "base_uri": "https://localhost:8080/"
        },
        "id": "TRPmEsUiOvQ5",
        "outputId": "dd69ad07-a7b2-454d-bd9a-56bb1cdb856c"
      },
      "source": [
        "from sklearn.metrics import mean_squared_error\n",
        "from math import sqrt\n",
        "expected = df_final['Lifetouch Heart Rate']\n",
        "predictions = df_final['Predicted Heart Rate']\n",
        "mse = mean_squared_error(expected, predictions)\n",
        "rmse = sqrt(mse)\n",
        "print('RMSE: %f' % rmse)\n"
      ],
      "execution_count": 80,
      "outputs": [
        {
          "output_type": "stream",
          "text": [
            "RMSE: 3.120585\n"
          ],
          "name": "stdout"
        }
      ]
    }
  ]
}