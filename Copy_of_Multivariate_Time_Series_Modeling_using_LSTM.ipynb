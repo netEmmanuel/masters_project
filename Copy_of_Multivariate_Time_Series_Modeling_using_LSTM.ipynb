{
  "nbformat": 4,
  "nbformat_minor": 0,
  "metadata": {
    "colab": {
      "name": "Copy of Multivariate Time Series Modeling using LSTM.ipynb",
      "provenance": [],
      "collapsed_sections": []
    },
    "kernelspec": {
      "name": "python3",
      "display_name": "Python 3"
    },
    "accelerator": "GPU"
  },
  "cells": [
    {
      "cell_type": "code",
      "metadata": {
        "id": "_GY3HgVB7T8D"
      },
      "source": [
        "import pandas as pd\n",
        "import matplotlib as mpl\n",
        "import tensorflow.keras as keras\n",
        "import matplotlib.pyplot as plt\n",
        "from keras.models import Sequential\n",
        "from keras.layers import Dense\n",
        "from keras.layers import LSTM\n",
        "from keras.layers import Dropout\n",
        "from keras.layers import *\n",
        "from sklearn.preprocessing import MinMaxScaler\n",
        "from sklearn.metrics import mean_squared_error\n",
        "from sklearn.metrics import mean_absolute_error\n",
        "from keras.callbacks import EarlyStopping\n",
        "from sklearn.model_selection import train_test_split\n",
        "from keras.preprocessing.sequence import TimeseriesGenerator\n",
        "from sklearn.preprocessing import MinMaxScaler, StandardScaler\n",
        "import math\n",
        "\n",
        "\n",
        "import tensorflow as tf\n",
        "\n",
        "mpl.rcParams['figure.figsize'] = (10, 8)\n",
        "mpl.rcParams['axes.grid'] = False"
      ],
      "execution_count": 191,
      "outputs": []
    },
    {
      "cell_type": "code",
      "metadata": {
        "id": "lmNbWyCJ7n0a"
      },
      "source": [
        "df = pd.read_csv('csv_session2.csv')"
      ],
      "execution_count": 192,
      "outputs": []
    },
    {
      "cell_type": "code",
      "metadata": {
        "id": "4MZJsxPq76CN",
        "colab": {
          "base_uri": "https://localhost:8080/",
          "height": 419
        },
        "outputId": "0fc4cd1b-0b7c-425b-deed-7c98c01a9896"
      },
      "source": [
        "df"
      ],
      "execution_count": 193,
      "outputs": [
        {
          "output_type": "execute_result",
          "data": {
            "text/html": [
              "<div>\n",
              "<style scoped>\n",
              "    .dataframe tbody tr th:only-of-type {\n",
              "        vertical-align: middle;\n",
              "    }\n",
              "\n",
              "    .dataframe tbody tr th {\n",
              "        vertical-align: top;\n",
              "    }\n",
              "\n",
              "    .dataframe thead th {\n",
              "        text-align: right;\n",
              "    }\n",
              "</style>\n",
              "<table border=\"1\" class=\"dataframe\">\n",
              "  <thead>\n",
              "    <tr style=\"text-align: right;\">\n",
              "      <th></th>\n",
              "      <th>Timestamp (GMT)</th>\n",
              "      <th>Lifetouch Heart Rate</th>\n",
              "      <th>Lifetouch Respiration Rate</th>\n",
              "      <th>Oximeter SpO2</th>\n",
              "      <th>Oximeter Pulse</th>\n",
              "    </tr>\n",
              "  </thead>\n",
              "  <tbody>\n",
              "    <tr>\n",
              "      <th>0</th>\n",
              "      <td>24/02/2016 15:53:00</td>\n",
              "      <td>NaN</td>\n",
              "      <td>NaN</td>\n",
              "      <td>85.0</td>\n",
              "      <td>72.0</td>\n",
              "    </tr>\n",
              "    <tr>\n",
              "      <th>1</th>\n",
              "      <td>24/02/2016 15:54:00</td>\n",
              "      <td>61441.0</td>\n",
              "      <td>61441.0</td>\n",
              "      <td>90.0</td>\n",
              "      <td>123.0</td>\n",
              "    </tr>\n",
              "    <tr>\n",
              "      <th>2</th>\n",
              "      <td>24/02/2016 15:55:00</td>\n",
              "      <td>153.0</td>\n",
              "      <td>51.0</td>\n",
              "      <td>91.0</td>\n",
              "      <td>153.0</td>\n",
              "    </tr>\n",
              "    <tr>\n",
              "      <th>3</th>\n",
              "      <td>24/02/2016 15:56:00</td>\n",
              "      <td>153.0</td>\n",
              "      <td>48.0</td>\n",
              "      <td>92.0</td>\n",
              "      <td>136.0</td>\n",
              "    </tr>\n",
              "    <tr>\n",
              "      <th>4</th>\n",
              "      <td>24/02/2016 15:57:00</td>\n",
              "      <td>153.0</td>\n",
              "      <td>46.0</td>\n",
              "      <td>NaN</td>\n",
              "      <td>NaN</td>\n",
              "    </tr>\n",
              "    <tr>\n",
              "      <th>...</th>\n",
              "      <td>...</td>\n",
              "      <td>...</td>\n",
              "      <td>...</td>\n",
              "      <td>...</td>\n",
              "      <td>...</td>\n",
              "    </tr>\n",
              "    <tr>\n",
              "      <th>6839</th>\n",
              "      <td>29/02/2016 09:52:00</td>\n",
              "      <td>NaN</td>\n",
              "      <td>NaN</td>\n",
              "      <td>NaN</td>\n",
              "      <td>NaN</td>\n",
              "    </tr>\n",
              "    <tr>\n",
              "      <th>6840</th>\n",
              "      <td>29/02/2016 09:53:00</td>\n",
              "      <td>NaN</td>\n",
              "      <td>NaN</td>\n",
              "      <td>NaN</td>\n",
              "      <td>NaN</td>\n",
              "    </tr>\n",
              "    <tr>\n",
              "      <th>6841</th>\n",
              "      <td>29/02/2016 09:54:00</td>\n",
              "      <td>NaN</td>\n",
              "      <td>NaN</td>\n",
              "      <td>NaN</td>\n",
              "      <td>NaN</td>\n",
              "    </tr>\n",
              "    <tr>\n",
              "      <th>6842</th>\n",
              "      <td>29/02/2016 09:55:00</td>\n",
              "      <td>NaN</td>\n",
              "      <td>NaN</td>\n",
              "      <td>NaN</td>\n",
              "      <td>NaN</td>\n",
              "    </tr>\n",
              "    <tr>\n",
              "      <th>6843</th>\n",
              "      <td>29/02/2016 09:56:00</td>\n",
              "      <td>NaN</td>\n",
              "      <td>NaN</td>\n",
              "      <td>NaN</td>\n",
              "      <td>NaN</td>\n",
              "    </tr>\n",
              "  </tbody>\n",
              "</table>\n",
              "<p>6844 rows × 5 columns</p>\n",
              "</div>"
            ],
            "text/plain": [
              "          Timestamp (GMT)  Lifetouch Heart Rate  ...  Oximeter SpO2  Oximeter Pulse\n",
              "0     24/02/2016 15:53:00                   NaN  ...           85.0            72.0\n",
              "1     24/02/2016 15:54:00               61441.0  ...           90.0           123.0\n",
              "2     24/02/2016 15:55:00                 153.0  ...           91.0           153.0\n",
              "3     24/02/2016 15:56:00                 153.0  ...           92.0           136.0\n",
              "4     24/02/2016 15:57:00                 153.0  ...            NaN             NaN\n",
              "...                   ...                   ...  ...            ...             ...\n",
              "6839  29/02/2016 09:52:00                   NaN  ...            NaN             NaN\n",
              "6840  29/02/2016 09:53:00                   NaN  ...            NaN             NaN\n",
              "6841  29/02/2016 09:54:00                   NaN  ...            NaN             NaN\n",
              "6842  29/02/2016 09:55:00                   NaN  ...            NaN             NaN\n",
              "6843  29/02/2016 09:56:00                   NaN  ...            NaN             NaN\n",
              "\n",
              "[6844 rows x 5 columns]"
            ]
          },
          "metadata": {
            "tags": []
          },
          "execution_count": 193
        }
      ]
    },
    {
      "cell_type": "code",
      "metadata": {
        "id": "e_gfpzvA0cJa",
        "colab": {
          "base_uri": "https://localhost:8080/"
        },
        "outputId": "7ac8e636-dbae-46c8-b924-7766490da0db"
      },
      "source": [
        "df.info()"
      ],
      "execution_count": 194,
      "outputs": [
        {
          "output_type": "stream",
          "text": [
            "<class 'pandas.core.frame.DataFrame'>\n",
            "RangeIndex: 6844 entries, 0 to 6843\n",
            "Data columns (total 5 columns):\n",
            " #   Column                      Non-Null Count  Dtype  \n",
            "---  ------                      --------------  -----  \n",
            " 0   Timestamp (GMT)             6844 non-null   object \n",
            " 1   Lifetouch Heart Rate        4388 non-null   float64\n",
            " 2   Lifetouch Respiration Rate  4388 non-null   float64\n",
            " 3   Oximeter SpO2               4352 non-null   float64\n",
            " 4   Oximeter Pulse              4352 non-null   float64\n",
            "dtypes: float64(4), object(1)\n",
            "memory usage: 267.5+ KB\n"
          ],
          "name": "stdout"
        }
      ]
    },
    {
      "cell_type": "code",
      "metadata": {
        "id": "DX4Wjmy08aWn"
      },
      "source": [
        "df['Timestamp (GMT)'] = pd.to_datetime(df['Timestamp (GMT)'], infer_datetime_format=True)"
      ],
      "execution_count": 195,
      "outputs": []
    },
    {
      "cell_type": "code",
      "metadata": {
        "id": "GJb5RUTJCu-o"
      },
      "source": [
        "df = df.dropna()"
      ],
      "execution_count": 196,
      "outputs": []
    },
    {
      "cell_type": "code",
      "metadata": {
        "id": "M68vUtsstnK0"
      },
      "source": [
        "df=  df.loc[df['Lifetouch Heart Rate'] <= 200]\n",
        "df=  df.loc[df['Oximeter SpO2'] >= 40]"
      ],
      "execution_count": 197,
      "outputs": []
    },
    {
      "cell_type": "code",
      "metadata": {
        "id": "6klgmpWq0TJZ",
        "colab": {
          "base_uri": "https://localhost:8080/",
          "height": 563
        },
        "outputId": "a5018031-1e65-4acd-851d-23417ff3299b"
      },
      "source": [
        "#df.set_index('date')[['Appliances', 'lights','T_out', 'RH_1', 'Visibility']].plot(subplots=True)\n",
        "df.set_index('Timestamp (GMT)')[['Lifetouch Heart Rate', 'Lifetouch Respiration Rate','Oximeter SpO2', 'Oximeter Pulse']].plot(subplots=True)"
      ],
      "execution_count": 198,
      "outputs": [
        {
          "output_type": "execute_result",
          "data": {
            "text/plain": [
              "array([<matplotlib.axes._subplots.AxesSubplot object at 0x7f50bbd499d0>,\n",
              "       <matplotlib.axes._subplots.AxesSubplot object at 0x7f50bdf1c850>,\n",
              "       <matplotlib.axes._subplots.AxesSubplot object at 0x7f50acb4e510>,\n",
              "       <matplotlib.axes._subplots.AxesSubplot object at 0x7f50b0973f50>],\n",
              "      dtype=object)"
            ]
          },
          "metadata": {
            "tags": []
          },
          "execution_count": 198
        },
        {
          "output_type": "display_data",
          "data": {
            "image/png": "[encoded data removed]",
            "text/plain": [
              "<Figure size 720x576 with 4 Axes>"
            ]
          },
          "metadata": {
            "tags": [],
            "needs_background": "light"
          }
        }
      ]
    },
    {
      "cell_type": "code",
      "metadata": {
        "id": "03LtErv2z8fI"
      },
      "source": [
        "df_input=df[['Lifetouch Heart Rate', 'Lifetouch Respiration Rate','Oximeter SpO2', 'Oximeter Pulse']]"
      ],
      "execution_count": 199,
      "outputs": []
    },
    {
      "cell_type": "code",
      "metadata": {
        "id": "ZoZI-S5t760x",
        "colab": {
          "base_uri": "https://localhost:8080/",
          "height": 419
        },
        "outputId": "5699b6fb-e1b4-4e63-940e-58fc3d7279a1"
      },
      "source": [
        "df_input"
      ],
      "execution_count": 200,
      "outputs": [
        {
          "output_type": "execute_result",
          "data": {
            "text/html": [
              "<div>\n",
              "<style scoped>\n",
              "    .dataframe tbody tr th:only-of-type {\n",
              "        vertical-align: middle;\n",
              "    }\n",
              "\n",
              "    .dataframe tbody tr th {\n",
              "        vertical-align: top;\n",
              "    }\n",
              "\n",
              "    .dataframe thead th {\n",
              "        text-align: right;\n",
              "    }\n",
              "</style>\n",
              "<table border=\"1\" class=\"dataframe\">\n",
              "  <thead>\n",
              "    <tr style=\"text-align: right;\">\n",
              "      <th></th>\n",
              "      <th>Lifetouch Heart Rate</th>\n",
              "      <th>Lifetouch Respiration Rate</th>\n",
              "      <th>Oximeter SpO2</th>\n",
              "      <th>Oximeter Pulse</th>\n",
              "    </tr>\n",
              "  </thead>\n",
              "  <tbody>\n",
              "    <tr>\n",
              "      <th>2</th>\n",
              "      <td>153.0</td>\n",
              "      <td>51.0</td>\n",
              "      <td>91.0</td>\n",
              "      <td>153.0</td>\n",
              "    </tr>\n",
              "    <tr>\n",
              "      <th>3</th>\n",
              "      <td>153.0</td>\n",
              "      <td>48.0</td>\n",
              "      <td>92.0</td>\n",
              "      <td>136.0</td>\n",
              "    </tr>\n",
              "    <tr>\n",
              "      <th>6</th>\n",
              "      <td>153.0</td>\n",
              "      <td>46.0</td>\n",
              "      <td>94.0</td>\n",
              "      <td>153.0</td>\n",
              "    </tr>\n",
              "    <tr>\n",
              "      <th>7</th>\n",
              "      <td>153.0</td>\n",
              "      <td>49.0</td>\n",
              "      <td>94.0</td>\n",
              "      <td>154.0</td>\n",
              "    </tr>\n",
              "    <tr>\n",
              "      <th>8</th>\n",
              "      <td>154.0</td>\n",
              "      <td>48.0</td>\n",
              "      <td>93.0</td>\n",
              "      <td>154.0</td>\n",
              "    </tr>\n",
              "    <tr>\n",
              "      <th>...</th>\n",
              "      <td>...</td>\n",
              "      <td>...</td>\n",
              "      <td>...</td>\n",
              "      <td>...</td>\n",
              "    </tr>\n",
              "    <tr>\n",
              "      <th>4406</th>\n",
              "      <td>149.0</td>\n",
              "      <td>54.0</td>\n",
              "      <td>100.0</td>\n",
              "      <td>149.0</td>\n",
              "    </tr>\n",
              "    <tr>\n",
              "      <th>4407</th>\n",
              "      <td>147.0</td>\n",
              "      <td>42.0</td>\n",
              "      <td>99.0</td>\n",
              "      <td>147.0</td>\n",
              "    </tr>\n",
              "    <tr>\n",
              "      <th>4408</th>\n",
              "      <td>144.0</td>\n",
              "      <td>53.0</td>\n",
              "      <td>98.0</td>\n",
              "      <td>146.0</td>\n",
              "    </tr>\n",
              "    <tr>\n",
              "      <th>4409</th>\n",
              "      <td>144.0</td>\n",
              "      <td>57.0</td>\n",
              "      <td>100.0</td>\n",
              "      <td>145.0</td>\n",
              "    </tr>\n",
              "    <tr>\n",
              "      <th>4410</th>\n",
              "      <td>146.0</td>\n",
              "      <td>62.0</td>\n",
              "      <td>96.0</td>\n",
              "      <td>141.0</td>\n",
              "    </tr>\n",
              "  </tbody>\n",
              "</table>\n",
              "<p>4074 rows × 4 columns</p>\n",
              "</div>"
            ],
            "text/plain": [
              "      Lifetouch Heart Rate  ...  Oximeter Pulse\n",
              "2                    153.0  ...           153.0\n",
              "3                    153.0  ...           136.0\n",
              "6                    153.0  ...           153.0\n",
              "7                    153.0  ...           154.0\n",
              "8                    154.0  ...           154.0\n",
              "...                    ...  ...             ...\n",
              "4406                 149.0  ...           149.0\n",
              "4407                 147.0  ...           147.0\n",
              "4408                 144.0  ...           146.0\n",
              "4409                 144.0  ...           145.0\n",
              "4410                 146.0  ...           141.0\n",
              "\n",
              "[4074 rows x 4 columns]"
            ]
          },
          "metadata": {
            "tags": []
          },
          "execution_count": 200
        }
      ]
    },
    {
      "cell_type": "code",
      "metadata": {
        "id": "s3QqtUCsyKLa",
        "colab": {
          "base_uri": "https://localhost:8080/",
          "height": 297
        },
        "outputId": "d5f34ba0-d05d-4552-8f76-c4d20a72f826"
      },
      "source": [
        "df_input.describe()"
      ],
      "execution_count": 201,
      "outputs": [
        {
          "output_type": "execute_result",
          "data": {
            "text/html": [
              "<div>\n",
              "<style scoped>\n",
              "    .dataframe tbody tr th:only-of-type {\n",
              "        vertical-align: middle;\n",
              "    }\n",
              "\n",
              "    .dataframe tbody tr th {\n",
              "        vertical-align: top;\n",
              "    }\n",
              "\n",
              "    .dataframe thead th {\n",
              "        text-align: right;\n",
              "    }\n",
              "</style>\n",
              "<table border=\"1\" class=\"dataframe\">\n",
              "  <thead>\n",
              "    <tr style=\"text-align: right;\">\n",
              "      <th></th>\n",
              "      <th>Lifetouch Heart Rate</th>\n",
              "      <th>Lifetouch Respiration Rate</th>\n",
              "      <th>Oximeter SpO2</th>\n",
              "      <th>Oximeter Pulse</th>\n",
              "    </tr>\n",
              "  </thead>\n",
              "  <tbody>\n",
              "    <tr>\n",
              "      <th>count</th>\n",
              "      <td>4074.000000</td>\n",
              "      <td>4074.000000</td>\n",
              "      <td>4074.000000</td>\n",
              "      <td>4074.000000</td>\n",
              "    </tr>\n",
              "    <tr>\n",
              "      <th>mean</th>\n",
              "      <td>148.998773</td>\n",
              "      <td>51.338488</td>\n",
              "      <td>94.647275</td>\n",
              "      <td>147.913844</td>\n",
              "    </tr>\n",
              "    <tr>\n",
              "      <th>std</th>\n",
              "      <td>14.771199</td>\n",
              "      <td>8.394903</td>\n",
              "      <td>3.919336</td>\n",
              "      <td>16.057492</td>\n",
              "    </tr>\n",
              "    <tr>\n",
              "      <th>min</th>\n",
              "      <td>118.000000</td>\n",
              "      <td>33.000000</td>\n",
              "      <td>74.000000</td>\n",
              "      <td>44.000000</td>\n",
              "    </tr>\n",
              "    <tr>\n",
              "      <th>25%</th>\n",
              "      <td>138.000000</td>\n",
              "      <td>45.000000</td>\n",
              "      <td>93.000000</td>\n",
              "      <td>137.000000</td>\n",
              "    </tr>\n",
              "    <tr>\n",
              "      <th>50%</th>\n",
              "      <td>146.000000</td>\n",
              "      <td>51.000000</td>\n",
              "      <td>96.000000</td>\n",
              "      <td>145.000000</td>\n",
              "    </tr>\n",
              "    <tr>\n",
              "      <th>75%</th>\n",
              "      <td>161.000000</td>\n",
              "      <td>57.000000</td>\n",
              "      <td>98.000000</td>\n",
              "      <td>160.000000</td>\n",
              "    </tr>\n",
              "    <tr>\n",
              "      <th>max</th>\n",
              "      <td>197.000000</td>\n",
              "      <td>79.000000</td>\n",
              "      <td>100.000000</td>\n",
              "      <td>230.000000</td>\n",
              "    </tr>\n",
              "  </tbody>\n",
              "</table>\n",
              "</div>"
            ],
            "text/plain": [
              "       Lifetouch Heart Rate  ...  Oximeter Pulse\n",
              "count           4074.000000  ...     4074.000000\n",
              "mean             148.998773  ...      147.913844\n",
              "std               14.771199  ...       16.057492\n",
              "min              118.000000  ...       44.000000\n",
              "25%              138.000000  ...      137.000000\n",
              "50%              146.000000  ...      145.000000\n",
              "75%              161.000000  ...      160.000000\n",
              "max              197.000000  ...      230.000000\n",
              "\n",
              "[8 rows x 4 columns]"
            ]
          },
          "metadata": {
            "tags": []
          },
          "execution_count": 201
        }
      ]
    },
    {
      "cell_type": "code",
      "metadata": {
        "colab": {
          "base_uri": "https://localhost:8080/",
          "height": 331
        },
        "id": "nVwM2XjcuOyR",
        "outputId": "3bea696e-b2c4-446d-ff0b-d6bec633f110"
      },
      "source": [
        "df_input.plot(kind='density', subplots=True, layout=(3,3), sharex=False)\n",
        "plt.show()"
      ],
      "execution_count": 202,
      "outputs": [
        {
          "output_type": "display_data",
          "data": {
            "image/png": "[encoded data removed]",
            "text/plain": [
              "<Figure size 720x576 with 9 Axes>"
            ]
          },
          "metadata": {
            "tags": [],
            "needs_background": "light"
          }
        }
      ]
    },
    {
      "cell_type": "code",
      "metadata": {
        "id": "gdnkSpWaENYQ"
      },
      "source": [
        "scaler = MinMaxScaler(feature_range=(0, 1))\n",
        "data_scaled = scaler.fit_transform(df_input)"
      ],
      "execution_count": 203,
      "outputs": []
    },
    {
      "cell_type": "code",
      "metadata": {
        "id": "rCY48qWVESHY",
        "colab": {
          "base_uri": "https://localhost:8080/"
        },
        "outputId": "be8f9019-d10c-44c8-992f-a2a4be3cd99a"
      },
      "source": [
        "data_scaled"
      ],
      "execution_count": 204,
      "outputs": [
        {
          "output_type": "execute_result",
          "data": {
            "text/plain": [
              "array([[0.44303797, 0.39130435, 0.65384615, 0.58602151],\n",
              "       [0.44303797, 0.32608696, 0.69230769, 0.49462366],\n",
              "       [0.44303797, 0.2826087 , 0.76923077, 0.58602151],\n",
              "       ...,\n",
              "       [0.32911392, 0.43478261, 0.92307692, 0.5483871 ],\n",
              "       [0.32911392, 0.52173913, 1.        , 0.54301075],\n",
              "       [0.35443038, 0.63043478, 0.84615385, 0.52150538]])"
            ]
          },
          "metadata": {
            "tags": []
          },
          "execution_count": 204
        }
      ]
    },
    {
      "cell_type": "code",
      "metadata": {
        "id": "IEZuMY99zfLU"
      },
      "source": [
        "features=data_scaled\n",
        "target=data_scaled[:,0]"
      ],
      "execution_count": 205,
      "outputs": []
    },
    {
      "cell_type": "code",
      "metadata": {
        "id": "1Ag5wZCs9ZFY",
        "colab": {
          "base_uri": "https://localhost:8080/"
        },
        "outputId": "dca6f9db-30f0-4d15-9260-35fb51b9a9e1"
      },
      "source": [
        "TimeseriesGenerator(features, target, length=2, sampling_rate=1, batch_size=1)[0]"
      ],
      "execution_count": 206,
      "outputs": [
        {
          "output_type": "execute_result",
          "data": {
            "text/plain": [
              "(array([[[0.44303797, 0.39130435, 0.65384615, 0.58602151],\n",
              "         [0.44303797, 0.32608696, 0.69230769, 0.49462366]]]),\n",
              " array([0.44303797]))"
            ]
          },
          "metadata": {
            "tags": []
          },
          "execution_count": 206
        }
      ]
    },
    {
      "cell_type": "code",
      "metadata": {
        "id": "l3D7t9UA4Juf"
      },
      "source": [
        "x_train, x_test, y_train, y_test = train_test_split(features, target, test_size=0.20, random_state=123, shuffle = False)"
      ],
      "execution_count": 207,
      "outputs": []
    },
    {
      "cell_type": "code",
      "metadata": {
        "id": "DLv-nf0rFlLw",
        "colab": {
          "base_uri": "https://localhost:8080/"
        },
        "outputId": "80b96994-41f6-4f2c-e618-43f898cc151d"
      },
      "source": [
        "x_train.shape"
      ],
      "execution_count": 208,
      "outputs": [
        {
          "output_type": "execute_result",
          "data": {
            "text/plain": [
              "(3259, 4)"
            ]
          },
          "metadata": {
            "tags": []
          },
          "execution_count": 208
        }
      ]
    },
    {
      "cell_type": "code",
      "metadata": {
        "id": "Ez0G67QwK_aW",
        "colab": {
          "base_uri": "https://localhost:8080/"
        },
        "outputId": "d8b938f0-900c-41f7-e6b9-62306072b618"
      },
      "source": [
        "x_test.shape"
      ],
      "execution_count": 209,
      "outputs": [
        {
          "output_type": "execute_result",
          "data": {
            "text/plain": [
              "(815, 4)"
            ]
          },
          "metadata": {
            "tags": []
          },
          "execution_count": 209
        }
      ]
    },
    {
      "cell_type": "code",
      "metadata": {
        "id": "XAR9vd-n1MIK"
      },
      "source": [
        "win_length=45\n",
        "batch_size=11\n",
        "num_features=4\n",
        "train_generator = tf.keras.preprocessing.sequence.TimeseriesGenerator(x_train, y_train, length=win_length, sampling_rate=1, batch_size=batch_size)\n",
        "test_generator = tf.keras.preprocessing.sequence.TimeseriesGenerator(x_test, y_test, length=win_length, sampling_rate=1, batch_size=batch_size)"
      ],
      "execution_count": 210,
      "outputs": []
    },
    {
      "cell_type": "code",
      "metadata": {
        "id": "YW4H0bXV2NwA",
        "colab": {
          "base_uri": "https://localhost:8080/"
        },
        "outputId": "dc2509c6-2e95-4d4c-f626-0c142f8344fb"
      },
      "source": [
        "train_generator[0]"
      ],
      "execution_count": 211,
      "outputs": [
        {
          "output_type": "execute_result",
          "data": {
            "text/plain": [
              "(array([[[0.44303797, 0.39130435, 0.65384615, 0.58602151],\n",
              "         [0.44303797, 0.32608696, 0.69230769, 0.49462366],\n",
              "         [0.44303797, 0.2826087 , 0.76923077, 0.58602151],\n",
              "         ...,\n",
              "         [0.50632911, 0.45652174, 0.73076923, 0.61827957],\n",
              "         [0.51898734, 0.47826087, 0.73076923, 0.61827957],\n",
              "         [0.50632911, 0.45652174, 0.73076923, 0.61827957]],\n",
              " \n",
              "        [[0.44303797, 0.32608696, 0.69230769, 0.49462366],\n",
              "         [0.44303797, 0.2826087 , 0.76923077, 0.58602151],\n",
              "         [0.44303797, 0.34782609, 0.76923077, 0.59139785],\n",
              "         ...,\n",
              "         [0.51898734, 0.47826087, 0.73076923, 0.61827957],\n",
              "         [0.50632911, 0.45652174, 0.73076923, 0.61827957],\n",
              "         [0.50632911, 0.47826087, 0.73076923, 0.61290323]],\n",
              " \n",
              "        [[0.44303797, 0.2826087 , 0.76923077, 0.58602151],\n",
              "         [0.44303797, 0.34782609, 0.76923077, 0.59139785],\n",
              "         [0.4556962 , 0.32608696, 0.73076923, 0.59139785],\n",
              "         ...,\n",
              "         [0.50632911, 0.45652174, 0.73076923, 0.61827957],\n",
              "         [0.50632911, 0.47826087, 0.73076923, 0.61290323],\n",
              "         [0.51898734, 0.41304348, 0.73076923, 0.61827957]],\n",
              " \n",
              "        ...,\n",
              " \n",
              "        [[0.4556962 , 0.30434783, 0.73076923, 0.59677419],\n",
              "         [0.4556962 , 0.26086957, 0.73076923, 0.59677419],\n",
              "         [0.46835443, 0.30434783, 0.73076923, 0.59677419],\n",
              "         ...,\n",
              "         [0.48101266, 0.39130435, 0.73076923, 0.61827957],\n",
              "         [0.53164557, 0.5       , 0.76923077, 0.62365591],\n",
              "         [0.51898734, 0.58695652, 0.76923077, 0.61827957]],\n",
              " \n",
              "        [[0.4556962 , 0.26086957, 0.73076923, 0.59677419],\n",
              "         [0.46835443, 0.30434783, 0.73076923, 0.59677419],\n",
              "         [0.46835443, 0.32608696, 0.73076923, 0.60215054],\n",
              "         ...,\n",
              "         [0.53164557, 0.5       , 0.76923077, 0.62365591],\n",
              "         [0.51898734, 0.58695652, 0.76923077, 0.61827957],\n",
              "         [0.50632911, 0.52173913, 0.73076923, 0.62365591]],\n",
              " \n",
              "        [[0.46835443, 0.30434783, 0.73076923, 0.59677419],\n",
              "         [0.46835443, 0.32608696, 0.73076923, 0.60215054],\n",
              "         [0.46835443, 0.32608696, 0.73076923, 0.60215054],\n",
              "         ...,\n",
              "         [0.51898734, 0.58695652, 0.76923077, 0.61827957],\n",
              "         [0.50632911, 0.52173913, 0.73076923, 0.62365591],\n",
              "         [0.55696203, 0.58695652, 0.73076923, 0.62903226]]]),\n",
              " array([0.50632911, 0.51898734, 0.51898734, 0.51898734, 0.50632911,\n",
              "        0.48101266, 0.53164557, 0.51898734, 0.50632911, 0.55696203,\n",
              "        0.53164557]))"
            ]
          },
          "metadata": {
            "tags": []
          },
          "execution_count": 211
        }
      ]
    },
    {
      "cell_type": "code",
      "metadata": {
        "id": "P8AvmYYcNyOR"
      },
      "source": [
        "METRICS = [\n",
        "      keras.metrics.TruePositives(name='tp'),\n",
        "      keras.metrics.FalsePositives(name='fp'),\n",
        "      keras.metrics.TrueNegatives(name='tn'),\n",
        "      keras.metrics.FalseNegatives(name='fn'), \n",
        "      keras.metrics.BinaryAccuracy(name='accuracy'),\n",
        "      keras.metrics.Precision(name='precision'),\n",
        "      keras.metrics.Recall(name='recall'),\n",
        "      keras.metrics.AUC(name='auc'),\n",
        "]\n",
        "\n",
        "model = tf.keras.Sequential()\n",
        "model.add(tf.keras.layers.LSTM(128, input_shape= (win_length, num_features), return_sequences=True))\n",
        "model.add(tf.keras.layers.LeakyReLU(alpha=0.5)) \n",
        "model.add(tf.keras.layers.Dropout(0.9)) \n",
        "model.add(tf.keras.layers.LSTM(128, return_sequences=False))\n",
        "model.add(tf.keras.layers.Dropout(0.9)) \n",
        "model.add(tf.keras.layers.Dense(1))\n",
        "\n",
        "model.compile(loss='mse', optimizer='adam', metrics=METRICS)"
      ],
      "execution_count": 212,
      "outputs": []
    },
    {
      "cell_type": "code",
      "metadata": {
        "id": "2dQ-DlXiLswo",
        "colab": {
          "base_uri": "https://localhost:8080/"
        },
        "outputId": "78b41e0b-d7d2-4059-c46a-ea1e99bc46cb"
      },
      "source": [
        "model.summary()"
      ],
      "execution_count": 213,
      "outputs": [
        {
          "output_type": "stream",
          "text": [
            "Model: \"sequential_7\"\n",
            "_________________________________________________________________\n",
            "Layer (type)                 Output Shape              Param #   \n",
            "=================================================================\n",
            "lstm_14 (LSTM)               (None, 45, 128)           68096     \n",
            "_________________________________________________________________\n",
            "leaky_re_lu_7 (LeakyReLU)    (None, 45, 128)           0         \n",
            "_________________________________________________________________\n",
            "dropout_14 (Dropout)         (None, 45, 128)           0         \n",
            "_________________________________________________________________\n",
            "lstm_15 (LSTM)               (None, 128)               131584    \n",
            "_________________________________________________________________\n",
            "dropout_15 (Dropout)         (None, 128)               0         \n",
            "_________________________________________________________________\n",
            "dense_7 (Dense)              (None, 1)                 129       \n",
            "=================================================================\n",
            "Total params: 199,809\n",
            "Trainable params: 199,809\n",
            "Non-trainable params: 0\n",
            "_________________________________________________________________\n"
          ],
          "name": "stdout"
        }
      ]
    },
    {
      "cell_type": "code",
      "metadata": {
        "id": "JHnl-d8824y0",
        "colab": {
          "base_uri": "https://localhost:8080/"
        },
        "outputId": "570e8358-4733-4262-d0a1-07850e9bc8ea"
      },
      "source": [
        "early_stopping = tf.keras.callbacks.EarlyStopping(monitor='val_loss',\n",
        "                                                    patience=2,\n",
        "                                                    mode='min')\n",
        "\n",
        "model.compile(loss=tf.losses.MeanSquaredError(),\n",
        "              optimizer=tf.optimizers.Adam(),\n",
        "              metrics=[tf.metrics.MeanAbsoluteError()])\n",
        "\n",
        "history = model.fit(train_generator, epochs=50,\n",
        "                    validation_data=test_generator,\n",
        "                    shuffle=False,\n",
        "                    callbacks=[early_stopping])\n",
        "\n"
      ],
      "execution_count": 214,
      "outputs": [
        {
          "output_type": "stream",
          "text": [
            "Epoch 1/50\n",
            "293/293 [==============================] - 6s 11ms/step - loss: 0.0459 - mean_absolute_error: 0.1569 - val_loss: 0.0258 - val_mean_absolute_error: 0.1453\n",
            "Epoch 2/50\n",
            "293/293 [==============================] - 2s 8ms/step - loss: 0.0254 - mean_absolute_error: 0.1207 - val_loss: 0.0181 - val_mean_absolute_error: 0.1194\n",
            "Epoch 3/50\n",
            "293/293 [==============================] - 2s 8ms/step - loss: 0.0197 - mean_absolute_error: 0.1074 - val_loss: 0.0161 - val_mean_absolute_error: 0.1123\n",
            "Epoch 4/50\n",
            "293/293 [==============================] - 2s 8ms/step - loss: 0.0169 - mean_absolute_error: 0.1011 - val_loss: 0.0147 - val_mean_absolute_error: 0.1067\n",
            "Epoch 5/50\n",
            "293/293 [==============================] - 2s 8ms/step - loss: 0.0151 - mean_absolute_error: 0.0943 - val_loss: 0.0058 - val_mean_absolute_error: 0.0633\n",
            "Epoch 6/50\n",
            "293/293 [==============================] - 2s 8ms/step - loss: 0.0133 - mean_absolute_error: 0.0899 - val_loss: 0.0078 - val_mean_absolute_error: 0.0749\n",
            "Epoch 7/50\n",
            "293/293 [==============================] - 2s 8ms/step - loss: 0.0126 - mean_absolute_error: 0.0873 - val_loss: 0.0052 - val_mean_absolute_error: 0.0594\n",
            "Epoch 8/50\n",
            "293/293 [==============================] - 2s 8ms/step - loss: 0.0118 - mean_absolute_error: 0.0842 - val_loss: 0.0048 - val_mean_absolute_error: 0.0560\n",
            "Epoch 9/50\n",
            "293/293 [==============================] - 2s 8ms/step - loss: 0.0106 - mean_absolute_error: 0.0796 - val_loss: 0.0032 - val_mean_absolute_error: 0.0444\n",
            "Epoch 10/50\n",
            "293/293 [==============================] - 3s 9ms/step - loss: 0.0091 - mean_absolute_error: 0.0743 - val_loss: 0.0034 - val_mean_absolute_error: 0.0454\n",
            "Epoch 11/50\n",
            "293/293 [==============================] - 2s 8ms/step - loss: 0.0094 - mean_absolute_error: 0.0748 - val_loss: 0.0027 - val_mean_absolute_error: 0.0403\n",
            "Epoch 12/50\n",
            "293/293 [==============================] - 2s 8ms/step - loss: 0.0089 - mean_absolute_error: 0.0734 - val_loss: 0.0024 - val_mean_absolute_error: 0.0378\n",
            "Epoch 13/50\n",
            "293/293 [==============================] - 2s 8ms/step - loss: 0.0086 - mean_absolute_error: 0.0721 - val_loss: 0.0024 - val_mean_absolute_error: 0.0374\n",
            "Epoch 14/50\n",
            "293/293 [==============================] - 2s 8ms/step - loss: 0.0091 - mean_absolute_error: 0.0736 - val_loss: 0.0035 - val_mean_absolute_error: 0.0457\n",
            "Epoch 15/50\n",
            "293/293 [==============================] - 2s 8ms/step - loss: 0.0090 - mean_absolute_error: 0.0744 - val_loss: 0.0024 - val_mean_absolute_error: 0.0379\n"
          ],
          "name": "stdout"
        }
      ]
    },
    {
      "cell_type": "code",
      "metadata": {
        "id": "G4q1O2Hw5tXI",
        "colab": {
          "base_uri": "https://localhost:8080/"
        },
        "outputId": "cbbdc9ad-cb67-4773-c865-8dd3f00cf844"
      },
      "source": [
        "model.evaluate_generator(test_generator, verbose=0)  "
      ],
      "execution_count": 215,
      "outputs": [
        {
          "output_type": "stream",
          "text": [
            "/usr/local/lib/python3.7/dist-packages/tensorflow/python/keras/engine/training.py:1973: UserWarning: `Model.evaluate_generator` is deprecated and will be removed in a future version. Please use `Model.evaluate`, which supports generators.\n",
            "  warnings.warn('`Model.evaluate_generator` is deprecated and '\n"
          ],
          "name": "stderr"
        },
        {
          "output_type": "execute_result",
          "data": {
            "text/plain": [
              "[0.0024011374916881323, 0.037903424352407455]"
            ]
          },
          "metadata": {
            "tags": []
          },
          "execution_count": 215
        }
      ]
    },
    {
      "cell_type": "code",
      "metadata": {
        "id": "jtQXz-tN722p",
        "colab": {
          "base_uri": "https://localhost:8080/",
          "height": 295
        },
        "outputId": "702e1daa-f37b-4034-fd42-4f04a3e38f2d"
      },
      "source": [
        "plt.figure(figsize=(8,4))\n",
        "plt.plot(history.history['loss'], label='Train Loss')\n",
        "plt.plot(history.history['val_loss'], label='Test Loss')\n",
        "plt.title('model loss')\n",
        "plt.ylabel('loss')\n",
        "plt.xlabel('epochs')\n",
        "plt.legend(loc='upper right')\n",
        "plt.show();"
      ],
      "execution_count": 216,
      "outputs": [
        {
          "output_type": "display_data",
          "data": {
            "image/png": "[encoded data removed]",
            "text/plain": [
              "<Figure size 576x288 with 1 Axes>"
            ]
          },
          "metadata": {
            "tags": [],
            "needs_background": "light"
          }
        }
      ]
    },
    {
      "cell_type": "code",
      "metadata": {
        "id": "Wx6HG0ZjXodP",
        "colab": {
          "base_uri": "https://localhost:8080/"
        },
        "outputId": "4f68c426-5311-4b6a-c9bd-e4f2ede17355"
      },
      "source": [
        "predictions=model.predict_generator(test_generator)"
      ],
      "execution_count": 217,
      "outputs": [
        {
          "output_type": "stream",
          "text": [
            "/usr/local/lib/python3.7/dist-packages/tensorflow/python/keras/engine/training.py:2001: UserWarning: `Model.predict_generator` is deprecated and will be removed in a future version. Please use `Model.predict`, which supports generators.\n",
            "  warnings.warn('`Model.predict_generator` is deprecated and '\n"
          ],
          "name": "stderr"
        }
      ]
    },
    {
      "cell_type": "code",
      "metadata": {
        "id": "kEoR4K3pYDnR",
        "colab": {
          "base_uri": "https://localhost:8080/"
        },
        "outputId": "7ffe76e1-bc12-42c5-8c61-4888137111e9"
      },
      "source": [
        "predictions.shape[0]"
      ],
      "execution_count": 218,
      "outputs": [
        {
          "output_type": "execute_result",
          "data": {
            "text/plain": [
              "770"
            ]
          },
          "metadata": {
            "tags": []
          },
          "execution_count": 218
        }
      ]
    },
    {
      "cell_type": "code",
      "metadata": {
        "id": "GMC2ewo0YRDW",
        "colab": {
          "base_uri": "https://localhost:8080/"
        },
        "outputId": "a2656bc8-911c-4160-84cc-103f0e2d5af3"
      },
      "source": [
        "predictions"
      ],
      "execution_count": 219,
      "outputs": [
        {
          "output_type": "execute_result",
          "data": {
            "text/plain": [
              "array([[0.2102592 ],\n",
              "       [0.19465685],\n",
              "       [0.1791505 ],\n",
              "       [0.16470405],\n",
              "       [0.15302572],\n",
              "       [0.14530481],\n",
              "       [0.13818954],\n",
              "       [0.13493311],\n",
              "       [0.1332402 ],\n",
              "       [0.13435578],\n",
              "       [0.13490611],\n",
              "       [0.13525657],\n",
              "       [0.13436347],\n",
              "       [0.13618019],\n",
              "       [0.14143938],\n",
              "       [0.14802182],\n",
              "       [0.15139894],\n",
              "       [0.1517806 ],\n",
              "       [0.1511902 ],\n",
              "       [0.15069552],\n",
              "       [0.15163486],\n",
              "       [0.15612353],\n",
              "       [0.16700785],\n",
              "       [0.1781087 ],\n",
              "       [0.18968815],\n",
              "       [0.19719575],\n",
              "       [0.20155126],\n",
              "       [0.19823039],\n",
              "       [0.19384542],\n",
              "       [0.19228262],\n",
              "       [0.19713743],\n",
              "       [0.20188066],\n",
              "       [0.20622396],\n",
              "       [0.20600739],\n",
              "       [0.204204  ],\n",
              "       [0.20143308],\n",
              "       [0.19620448],\n",
              "       [0.18878742],\n",
              "       [0.18658666],\n",
              "       [0.1869251 ],\n",
              "       [0.19321114],\n",
              "       [0.20204282],\n",
              "       [0.20507164],\n",
              "       [0.20533526],\n",
              "       [0.20822251],\n",
              "       [0.20846395],\n",
              "       [0.21286547],\n",
              "       [0.21987836],\n",
              "       [0.22654387],\n",
              "       [0.23349103],\n",
              "       [0.24182878],\n",
              "       [0.25268313],\n",
              "       [0.2613767 ],\n",
              "       [0.2686486 ],\n",
              "       [0.2785341 ],\n",
              "       [0.28095996],\n",
              "       [0.27311653],\n",
              "       [0.26120445],\n",
              "       [0.24748495],\n",
              "       [0.2315421 ],\n",
              "       [0.22301993],\n",
              "       [0.22700264],\n",
              "       [0.24426249],\n",
              "       [0.26577374],\n",
              "       [0.27929938],\n",
              "       [0.28543612],\n",
              "       [0.28808552],\n",
              "       [0.2857895 ],\n",
              "       [0.2758848 ],\n",
              "       [0.26175338],\n",
              "       [0.25143516],\n",
              "       [0.2429707 ],\n",
              "       [0.23611626],\n",
              "       [0.22930863],\n",
              "       [0.2233688 ],\n",
              "       [0.21941629],\n",
              "       [0.21690395],\n",
              "       [0.21614912],\n",
              "       [0.21528952],\n",
              "       [0.21426961],\n",
              "       [0.21423432],\n",
              "       [0.21910828],\n",
              "       [0.22374323],\n",
              "       [0.22782333],\n",
              "       [0.23011842],\n",
              "       [0.23329392],\n",
              "       [0.23816404],\n",
              "       [0.24305715],\n",
              "       [0.24616587],\n",
              "       [0.24893415],\n",
              "       [0.25178754],\n",
              "       [0.24936904],\n",
              "       [0.25031304],\n",
              "       [0.256765  ],\n",
              "       [0.26338443],\n",
              "       [0.2699405 ],\n",
              "       [0.2673318 ],\n",
              "       [0.25899982],\n",
              "       [0.24855338],\n",
              "       [0.24059992],\n",
              "       [0.2318843 ],\n",
              "       [0.23013571],\n",
              "       [0.23293239],\n",
              "       [0.23921913],\n",
              "       [0.2526735 ],\n",
              "       [0.27104327],\n",
              "       [0.28985125],\n",
              "       [0.2936886 ],\n",
              "       [0.29034644],\n",
              "       [0.2803933 ],\n",
              "       [0.26876086],\n",
              "       [0.25220147],\n",
              "       [0.23313797],\n",
              "       [0.21439943],\n",
              "       [0.20264602],\n",
              "       [0.19242686],\n",
              "       [0.17881523],\n",
              "       [0.1700853 ],\n",
              "       [0.17025065],\n",
              "       [0.17544708],\n",
              "       [0.18174656],\n",
              "       [0.18902847],\n",
              "       [0.1946489 ],\n",
              "       [0.20250008],\n",
              "       [0.20998405],\n",
              "       [0.21305993],\n",
              "       [0.21166807],\n",
              "       [0.20921297],\n",
              "       [0.21058057],\n",
              "       [0.2130121 ],\n",
              "       [0.21566491],\n",
              "       [0.21633007],\n",
              "       [0.2172132 ],\n",
              "       [0.2164945 ],\n",
              "       [0.21806842],\n",
              "       [0.22279662],\n",
              "       [0.22299072],\n",
              "       [0.21884787],\n",
              "       [0.20737614],\n",
              "       [0.18958935],\n",
              "       [0.17457625],\n",
              "       [0.16354692],\n",
              "       [0.1515545 ],\n",
              "       [0.14364053],\n",
              "       [0.14055535],\n",
              "       [0.1400559 ],\n",
              "       [0.13900824],\n",
              "       [0.14012988],\n",
              "       [0.14280327],\n",
              "       [0.14480895],\n",
              "       [0.14602232],\n",
              "       [0.14258134],\n",
              "       [0.13747269],\n",
              "       [0.1331301 ],\n",
              "       [0.13126704],\n",
              "       [0.12960777],\n",
              "       [0.12730616],\n",
              "       [0.12618485],\n",
              "       [0.12484145],\n",
              "       [0.12311018],\n",
              "       [0.11853433],\n",
              "       [0.115922  ],\n",
              "       [0.11382928],\n",
              "       [0.11053893],\n",
              "       [0.11039108],\n",
              "       [0.11350879],\n",
              "       [0.12065676],\n",
              "       [0.12408397],\n",
              "       [0.12979451],\n",
              "       [0.14157158],\n",
              "       [0.15537459],\n",
              "       [0.1624048 ],\n",
              "       [0.16849047],\n",
              "       [0.17083369],\n",
              "       [0.17154443],\n",
              "       [0.17094302],\n",
              "       [0.17311186],\n",
              "       [0.16796535],\n",
              "       [0.16231346],\n",
              "       [0.1576998 ],\n",
              "       [0.15063661],\n",
              "       [0.14689013],\n",
              "       [0.1428948 ],\n",
              "       [0.14176156],\n",
              "       [0.14187874],\n",
              "       [0.14367668],\n",
              "       [0.1475381 ],\n",
              "       [0.1486129 ],\n",
              "       [0.15081075],\n",
              "       [0.15283707],\n",
              "       [0.15794103],\n",
              "       [0.16294152],\n",
              "       [0.1638897 ],\n",
              "       [0.16301638],\n",
              "       [0.16253102],\n",
              "       [0.15998295],\n",
              "       [0.1583273 ],\n",
              "       [0.1587494 ],\n",
              "       [0.16066101],\n",
              "       [0.16128513],\n",
              "       [0.16084066],\n",
              "       [0.16050905],\n",
              "       [0.16006881],\n",
              "       [0.158546  ],\n",
              "       [0.154538  ],\n",
              "       [0.14572491],\n",
              "       [0.13664173],\n",
              "       [0.13157068],\n",
              "       [0.13502723],\n",
              "       [0.14143865],\n",
              "       [0.15332408],\n",
              "       [0.16666779],\n",
              "       [0.17708209],\n",
              "       [0.18396029],\n",
              "       [0.18498553],\n",
              "       [0.18051474],\n",
              "       [0.1766261 ],\n",
              "       [0.17402112],\n",
              "       [0.1679682 ],\n",
              "       [0.16531031],\n",
              "       [0.16124812],\n",
              "       [0.15879321],\n",
              "       [0.15659621],\n",
              "       [0.15565744],\n",
              "       [0.16078046],\n",
              "       [0.16162582],\n",
              "       [0.16074511],\n",
              "       [0.16304576],\n",
              "       [0.16556965],\n",
              "       [0.16797239],\n",
              "       [0.17010188],\n",
              "       [0.17173886],\n",
              "       [0.17467242],\n",
              "       [0.17985034],\n",
              "       [0.18290973],\n",
              "       [0.18408102],\n",
              "       [0.18454698],\n",
              "       [0.18645246],\n",
              "       [0.1907543 ],\n",
              "       [0.19492081],\n",
              "       [0.19746497],\n",
              "       [0.19893685],\n",
              "       [0.20164755],\n",
              "       [0.20372245],\n",
              "       [0.20460112],\n",
              "       [0.20211908],\n",
              "       [0.20178407],\n",
              "       [0.20334555],\n",
              "       [0.203861  ],\n",
              "       [0.21110278],\n",
              "       [0.22079793],\n",
              "       [0.23222342],\n",
              "       [0.23778382],\n",
              "       [0.23830524],\n",
              "       [0.24049155],\n",
              "       [0.24254712],\n",
              "       [0.24462533],\n",
              "       [0.2478944 ],\n",
              "       [0.2507102 ],\n",
              "       [0.24945955],\n",
              "       [0.24789655],\n",
              "       [0.24528469],\n",
              "       [0.24488601],\n",
              "       [0.2482956 ],\n",
              "       [0.25204813],\n",
              "       [0.2561605 ],\n",
              "       [0.25636524],\n",
              "       [0.25276878],\n",
              "       [0.2503562 ],\n",
              "       [0.25064737],\n",
              "       [0.24992928],\n",
              "       [0.2514933 ],\n",
              "       [0.2516071 ],\n",
              "       [0.25434187],\n",
              "       [0.25511435],\n",
              "       [0.25250345],\n",
              "       [0.25005865],\n",
              "       [0.24342777],\n",
              "       [0.23620315],\n",
              "       [0.23064905],\n",
              "       [0.23223189],\n",
              "       [0.23156792],\n",
              "       [0.22881803],\n",
              "       [0.22904748],\n",
              "       [0.23136368],\n",
              "       [0.2339572 ],\n",
              "       [0.2376693 ],\n",
              "       [0.2382434 ],\n",
              "       [0.23509645],\n",
              "       [0.23151894],\n",
              "       [0.2266446 ],\n",
              "       [0.22048353],\n",
              "       [0.2156752 ],\n",
              "       [0.21472822],\n",
              "       [0.21374926],\n",
              "       [0.21422765],\n",
              "       [0.2259694 ],\n",
              "       [0.26195002],\n",
              "       [0.30282274],\n",
              "       [0.33416316],\n",
              "       [0.3536391 ],\n",
              "       [0.35842422],\n",
              "       [0.351463  ],\n",
              "       [0.33698824],\n",
              "       [0.31749064],\n",
              "       [0.2974342 ],\n",
              "       [0.27829972],\n",
              "       [0.2588498 ],\n",
              "       [0.24393305],\n",
              "       [0.23706715],\n",
              "       [0.23439467],\n",
              "       [0.23465295],\n",
              "       [0.23690502],\n",
              "       [0.2401634 ],\n",
              "       [0.24044812],\n",
              "       [0.25037232],\n",
              "       [0.26930368],\n",
              "       [0.29032236],\n",
              "       [0.3048784 ],\n",
              "       [0.3097844 ],\n",
              "       [0.30485797],\n",
              "       [0.29666036],\n",
              "       [0.2871278 ],\n",
              "       [0.27563906],\n",
              "       [0.26369923],\n",
              "       [0.25451902],\n",
              "       [0.2460801 ],\n",
              "       [0.23750779],\n",
              "       [0.23070377],\n",
              "       [0.23364171],\n",
              "       [0.24390793],\n",
              "       [0.2567102 ],\n",
              "       [0.26721525],\n",
              "       [0.27148646],\n",
              "       [0.2711672 ],\n",
              "       [0.26487288],\n",
              "       [0.25358605],\n",
              "       [0.24325296],\n",
              "       [0.23451407],\n",
              "       [0.2307472 ],\n",
              "       [0.23133555],\n",
              "       [0.23348129],\n",
              "       [0.23781788],\n",
              "       [0.24364978],\n",
              "       [0.24606997],\n",
              "       [0.24800582],\n",
              "       [0.24736758],\n",
              "       [0.24597126],\n",
              "       [0.24179249],\n",
              "       [0.24136415],\n",
              "       [0.24568939],\n",
              "       [0.25138685],\n",
              "       [0.2572685 ],\n",
              "       [0.25624743],\n",
              "       [0.25046462],\n",
              "       [0.2402281 ],\n",
              "       [0.23042902],\n",
              "       [0.22636515],\n",
              "       [0.22675292],\n",
              "       [0.2343728 ],\n",
              "       [0.24483785],\n",
              "       [0.24895975],\n",
              "       [0.25659034],\n",
              "       [0.26379094],\n",
              "       [0.26798263],\n",
              "       [0.26606938],\n",
              "       [0.265829  ],\n",
              "       [0.25893572],\n",
              "       [0.2557129 ],\n",
              "       [0.253934  ],\n",
              "       [0.25319734],\n",
              "       [0.25711593],\n",
              "       [0.25983608],\n",
              "       [0.2591297 ],\n",
              "       [0.2534414 ],\n",
              "       [0.25000697],\n",
              "       [0.25050595],\n",
              "       [0.25791818],\n",
              "       [0.26663333],\n",
              "       [0.2767558 ],\n",
              "       [0.28374392],\n",
              "       [0.28612065],\n",
              "       [0.2881208 ],\n",
              "       [0.29565328],\n",
              "       [0.30674708],\n",
              "       [0.32023266],\n",
              "       [0.33022225],\n",
              "       [0.3359346 ],\n",
              "       [0.34163487],\n",
              "       [0.35104647],\n",
              "       [0.36589178],\n",
              "       [0.37416095],\n",
              "       [0.37534755],\n",
              "       [0.36467227],\n",
              "       [0.3470671 ],\n",
              "       [0.32851484],\n",
              "       [0.3148871 ],\n",
              "       [0.30682838],\n",
              "       [0.30512375],\n",
              "       [0.30584764],\n",
              "       [0.30798054],\n",
              "       [0.31013396],\n",
              "       [0.30099526],\n",
              "       [0.28099298],\n",
              "       [0.26106012],\n",
              "       [0.24166566],\n",
              "       [0.22409871],\n",
              "       [0.20972195],\n",
              "       [0.2012628 ],\n",
              "       [0.20171425],\n",
              "       [0.20868674],\n",
              "       [0.22184032],\n",
              "       [0.23714215],\n",
              "       [0.25114244],\n",
              "       [0.2575196 ],\n",
              "       [0.2622495 ],\n",
              "       [0.26237866],\n",
              "       [0.26086277],\n",
              "       [0.25861615],\n",
              "       [0.2535071 ],\n",
              "       [0.25001788],\n",
              "       [0.24251904],\n",
              "       [0.2349512 ],\n",
              "       [0.22794637],\n",
              "       [0.22343737],\n",
              "       [0.22141357],\n",
              "       [0.22002345],\n",
              "       [0.22600913],\n",
              "       [0.23479137],\n",
              "       [0.23821083],\n",
              "       [0.23776317],\n",
              "       [0.23342782],\n",
              "       [0.2299603 ],\n",
              "       [0.22677524],\n",
              "       [0.22202575],\n",
              "       [0.2223868 ],\n",
              "       [0.22657815],\n",
              "       [0.23369527],\n",
              "       [0.24009775],\n",
              "       [0.24871787],\n",
              "       [0.25510073],\n",
              "       [0.25970685],\n",
              "       [0.26121926],\n",
              "       [0.26138633],\n",
              "       [0.26095265],\n",
              "       [0.26009154],\n",
              "       [0.25870296],\n",
              "       [0.256048  ],\n",
              "       [0.25479013],\n",
              "       [0.25736347],\n",
              "       [0.26167378],\n",
              "       [0.27116108],\n",
              "       [0.28450695],\n",
              "       [0.29977524],\n",
              "       [0.3077128 ],\n",
              "       [0.3094504 ],\n",
              "       [0.3041559 ],\n",
              "       [0.29145828],\n",
              "       [0.27759993],\n",
              "       [0.2639226 ],\n",
              "       [0.25297314],\n",
              "       [0.24787602],\n",
              "       [0.2453075 ],\n",
              "       [0.24956486],\n",
              "       [0.25714213],\n",
              "       [0.26633376],\n",
              "       [0.27583802],\n",
              "       [0.2855254 ],\n",
              "       [0.29619342],\n",
              "       [0.30725676],\n",
              "       [0.31375003],\n",
              "       [0.31414625],\n",
              "       [0.31105703],\n",
              "       [0.30791527],\n",
              "       [0.30243346],\n",
              "       [0.29673886],\n",
              "       [0.2954656 ],\n",
              "       [0.29477108],\n",
              "       [0.2913261 ],\n",
              "       [0.28860587],\n",
              "       [0.28461254],\n",
              "       [0.28214973],\n",
              "       [0.2797492 ],\n",
              "       [0.2793572 ],\n",
              "       [0.27754214],\n",
              "       [0.27872026],\n",
              "       [0.27953547],\n",
              "       [0.2823317 ],\n",
              "       [0.28535038],\n",
              "       [0.28756046],\n",
              "       [0.28406924],\n",
              "       [0.27505958],\n",
              "       [0.26532215],\n",
              "       [0.25676715],\n",
              "       [0.25273472],\n",
              "       [0.2551917 ],\n",
              "       [0.2629779 ],\n",
              "       [0.26281106],\n",
              "       [0.25928754],\n",
              "       [0.25726917],\n",
              "       [0.25711405],\n",
              "       [0.25655076],\n",
              "       [0.2593101 ],\n",
              "       [0.26050127],\n",
              "       [0.25902432],\n",
              "       [0.26284486],\n",
              "       [0.27141705],\n",
              "       [0.2788648 ],\n",
              "       [0.28468296],\n",
              "       [0.2905252 ],\n",
              "       [0.2926702 ],\n",
              "       [0.2911158 ],\n",
              "       [0.28836143],\n",
              "       [0.2808417 ],\n",
              "       [0.27189085],\n",
              "       [0.26155606],\n",
              "       [0.25563523],\n",
              "       [0.25076908],\n",
              "       [0.24621147],\n",
              "       [0.2467813 ],\n",
              "       [0.2555444 ],\n",
              "       [0.27063835],\n",
              "       [0.28857994],\n",
              "       [0.30102232],\n",
              "       [0.30421123],\n",
              "       [0.3011188 ],\n",
              "       [0.3020074 ],\n",
              "       [0.3091181 ],\n",
              "       [0.31467342],\n",
              "       [0.31500912],\n",
              "       [0.31284225],\n",
              "       [0.31214428],\n",
              "       [0.30955246],\n",
              "       [0.30101764],\n",
              "       [0.29016966],\n",
              "       [0.28368306],\n",
              "       [0.2861446 ],\n",
              "       [0.28320485],\n",
              "       [0.2758338 ],\n",
              "       [0.26894543],\n",
              "       [0.26678097],\n",
              "       [0.2666675 ],\n",
              "       [0.26886946],\n",
              "       [0.27881324],\n",
              "       [0.28473154],\n",
              "       [0.29060495],\n",
              "       [0.2985782 ],\n",
              "       [0.31153253],\n",
              "       [0.32816824],\n",
              "       [0.33734664],\n",
              "       [0.33488682],\n",
              "       [0.32483837],\n",
              "       [0.31146064],\n",
              "       [0.3003425 ],\n",
              "       [0.29111648],\n",
              "       [0.28345555],\n",
              "       [0.27432638],\n",
              "       [0.26409334],\n",
              "       [0.2529715 ],\n",
              "       [0.23966372],\n",
              "       [0.22652054],\n",
              "       [0.21564902],\n",
              "       [0.20689738],\n",
              "       [0.20029198],\n",
              "       [0.19748709],\n",
              "       [0.19640112],\n",
              "       [0.19224766],\n",
              "       [0.1880109 ],\n",
              "       [0.1850391 ],\n",
              "       [0.18217668],\n",
              "       [0.18071637],\n",
              "       [0.17988336],\n",
              "       [0.17803241],\n",
              "       [0.1768271 ],\n",
              "       [0.1764754 ],\n",
              "       [0.1767883 ],\n",
              "       [0.17568657],\n",
              "       [0.17411518],\n",
              "       [0.1725199 ],\n",
              "       [0.17129484],\n",
              "       [0.17163095],\n",
              "       [0.17142859],\n",
              "       [0.17601126],\n",
              "       [0.18196568],\n",
              "       [0.1821403 ],\n",
              "       [0.1841074 ],\n",
              "       [0.1851888 ],\n",
              "       [0.188275  ],\n",
              "       [0.19061825],\n",
              "       [0.19186918],\n",
              "       [0.19032525],\n",
              "       [0.19229998],\n",
              "       [0.1990914 ],\n",
              "       [0.20925996],\n",
              "       [0.22182554],\n",
              "       [0.23035409],\n",
              "       [0.23550597],\n",
              "       [0.23333137],\n",
              "       [0.22605428],\n",
              "       [0.21906386],\n",
              "       [0.21301956],\n",
              "       [0.2070489 ],\n",
              "       [0.20138168],\n",
              "       [0.1993647 ],\n",
              "       [0.20118399],\n",
              "       [0.20488727],\n",
              "       [0.2165302 ],\n",
              "       [0.22797161],\n",
              "       [0.23656331],\n",
              "       [0.24139771],\n",
              "       [0.2469867 ],\n",
              "       [0.25698763],\n",
              "       [0.26538068],\n",
              "       [0.26657242],\n",
              "       [0.26510447],\n",
              "       [0.26257223],\n",
              "       [0.26111054],\n",
              "       [0.26305494],\n",
              "       [0.26510325],\n",
              "       [0.2657655 ],\n",
              "       [0.26241952],\n",
              "       [0.25656942],\n",
              "       [0.25619292],\n",
              "       [0.25539994],\n",
              "       [0.25285828],\n",
              "       [0.24960726],\n",
              "       [0.24703702],\n",
              "       [0.2414692 ],\n",
              "       [0.2387837 ],\n",
              "       [0.2378068 ],\n",
              "       [0.23682076],\n",
              "       [0.23694018],\n",
              "       [0.23719205],\n",
              "       [0.23770845],\n",
              "       [0.24059993],\n",
              "       [0.24208486],\n",
              "       [0.24336812],\n",
              "       [0.2460494 ],\n",
              "       [0.24838434],\n",
              "       [0.2509765 ],\n",
              "       [0.25025856],\n",
              "       [0.2509998 ],\n",
              "       [0.25453007],\n",
              "       [0.2591859 ],\n",
              "       [0.26467368],\n",
              "       [0.2687323 ],\n",
              "       [0.26890606],\n",
              "       [0.26856482],\n",
              "       [0.26988882],\n",
              "       [0.2731316 ],\n",
              "       [0.27879637],\n",
              "       [0.28245336],\n",
              "       [0.28592497],\n",
              "       [0.28732306],\n",
              "       [0.28394485],\n",
              "       [0.27701855],\n",
              "       [0.2690171 ],\n",
              "       [0.2611242 ],\n",
              "       [0.25297135],\n",
              "       [0.2498768 ],\n",
              "       [0.2480751 ],\n",
              "       [0.24611208],\n",
              "       [0.24597543],\n",
              "       [0.252371  ],\n",
              "       [0.25723004],\n",
              "       [0.25812444],\n",
              "       [0.25991526],\n",
              "       [0.2625991 ],\n",
              "       [0.26390097],\n",
              "       [0.26529443],\n",
              "       [0.26579338],\n",
              "       [0.2634742 ],\n",
              "       [0.2605187 ],\n",
              "       [0.25662684],\n",
              "       [0.25524563],\n",
              "       [0.2573905 ],\n",
              "       [0.2623959 ],\n",
              "       [0.26669222],\n",
              "       [0.26901102],\n",
              "       [0.27155423],\n",
              "       [0.27237582],\n",
              "       [0.27401596],\n",
              "       [0.2770006 ],\n",
              "       [0.27944034],\n",
              "       [0.2820093 ],\n",
              "       [0.28125757],\n",
              "       [0.2806869 ],\n",
              "       [0.28323823],\n",
              "       [0.28527164],\n",
              "       [0.28301167],\n",
              "       [0.27781725],\n",
              "       [0.27452645],\n",
              "       [0.27249682],\n",
              "       [0.26893276],\n",
              "       [0.26814443],\n",
              "       [0.2680463 ],\n",
              "       [0.2678508 ],\n",
              "       [0.2645776 ],\n",
              "       [0.26190415],\n",
              "       [0.25815296],\n",
              "       [0.25539666],\n",
              "       [0.25303632],\n",
              "       [0.25116432],\n",
              "       [0.25164634],\n",
              "       [0.25250727],\n",
              "       [0.25411877],\n",
              "       [0.25423467],\n",
              "       [0.25570238],\n",
              "       [0.25617012],\n",
              "       [0.2562555 ],\n",
              "       [0.25559905],\n",
              "       [0.25533235],\n",
              "       [0.25535798],\n",
              "       [0.25507838],\n",
              "       [0.25573575],\n",
              "       [0.26021814],\n",
              "       [0.26377898],\n",
              "       [0.2648949 ],\n",
              "       [0.2656191 ],\n",
              "       [0.26625955],\n",
              "       [0.2672246 ],\n",
              "       [0.26789927],\n",
              "       [0.26865754],\n",
              "       [0.2679699 ],\n",
              "       [0.2637288 ],\n",
              "       [0.25932014],\n",
              "       [0.257923  ],\n",
              "       [0.2594998 ],\n",
              "       [0.26350322],\n",
              "       [0.26937193],\n",
              "       [0.2730208 ],\n",
              "       [0.27746028],\n",
              "       [0.27842253],\n",
              "       [0.2785007 ],\n",
              "       [0.2773978 ],\n",
              "       [0.27746022],\n",
              "       [0.2784599 ],\n",
              "       [0.2747439 ],\n",
              "       [0.26989245],\n",
              "       [0.2623331 ],\n",
              "       [0.25639212],\n",
              "       [0.25230193],\n",
              "       [0.25052255],\n",
              "       [0.24934696],\n",
              "       [0.24874541],\n",
              "       [0.24497958],\n",
              "       [0.24337648],\n",
              "       [0.2425701 ],\n",
              "       [0.2410057 ],\n",
              "       [0.24543177],\n",
              "       [0.24949697],\n",
              "       [0.25561726],\n",
              "       [0.2626109 ],\n",
              "       [0.266507  ],\n",
              "       [0.2692852 ],\n",
              "       [0.275899  ],\n",
              "       [0.28226522],\n",
              "       [0.28695312],\n",
              "       [0.29420853],\n",
              "       [0.30142868],\n",
              "       [0.30816782],\n",
              "       [0.30941337],\n",
              "       [0.3066901 ],\n",
              "       [0.30450296],\n",
              "       [0.30471033],\n",
              "       [0.3090282 ],\n",
              "       [0.3106342 ],\n",
              "       [0.31104842],\n",
              "       [0.30564043],\n",
              "       [0.29605925]], dtype=float32)"
            ]
          },
          "metadata": {
            "tags": []
          },
          "execution_count": 219
        }
      ]
    },
    {
      "cell_type": "code",
      "metadata": {
        "id": "dzQB2PtOYeMy",
        "colab": {
          "base_uri": "https://localhost:8080/"
        },
        "outputId": "e2f1092c-97ac-4944-d531-1692c5fb1fb9"
      },
      "source": [
        "y_test"
      ],
      "execution_count": 220,
      "outputs": [
        {
          "output_type": "execute_result",
          "data": {
            "text/plain": [
              "array([0.12658228, 0.07594937, 0.08860759, 0.12658228, 0.08860759,\n",
              "       0.10126582, 0.13924051, 0.11392405, 0.11392405, 0.11392405,\n",
              "       0.07594937, 0.05063291, 0.08860759, 0.06329114, 0.10126582,\n",
              "       0.10126582, 0.07594937, 0.07594937, 0.05063291, 0.03797468,\n",
              "       0.06329114, 0.06329114, 0.06329114, 0.05063291, 0.03797468,\n",
              "       0.06329114, 0.03797468, 0.06329114, 0.02531646, 0.03797468,\n",
              "       0.03797468, 0.03797468, 0.02531646, 0.01265823, 0.01265823,\n",
              "       0.01265823, 0.07594937, 0.10126582, 0.11392405, 0.26582278,\n",
              "       0.2278481 , 0.17721519, 0.2278481 , 0.18987342, 0.10126582,\n",
              "       0.08860759, 0.11392405, 0.10126582, 0.10126582, 0.11392405,\n",
              "       0.07594937, 0.11392405, 0.10126582, 0.11392405, 0.08860759,\n",
              "       0.10126582, 0.08860759, 0.11392405, 0.13924051, 0.12658228,\n",
              "       0.10126582, 0.10126582, 0.10126582, 0.10126582, 0.11392405,\n",
              "       0.15189873, 0.21518987, 0.20253165, 0.2278481 , 0.20253165,\n",
              "       0.18987342, 0.15189873, 0.17721519, 0.20253165, 0.24050633,\n",
              "       0.21518987, 0.2278481 , 0.18987342, 0.20253165, 0.20253165,\n",
              "       0.17721519, 0.16455696, 0.21518987, 0.20253165, 0.24050633,\n",
              "       0.25316456, 0.20253165, 0.21518987, 0.24050633, 0.20253165,\n",
              "       0.25316456, 0.26582278, 0.25316456, 0.27848101, 0.30379747,\n",
              "       0.32911392, 0.3164557 , 0.30379747, 0.35443038, 0.30379747,\n",
              "       0.26582278, 0.25316456, 0.2278481 , 0.17721519, 0.2278481 ,\n",
              "       0.25316456, 0.30379747, 0.30379747, 0.27848101, 0.27848101,\n",
              "       0.30379747, 0.29113924, 0.24050633, 0.2278481 , 0.26582278,\n",
              "       0.25316456, 0.24050633, 0.2278481 , 0.2278481 , 0.2278481 ,\n",
              "       0.2278481 , 0.24050633, 0.21518987, 0.21518987, 0.2278481 ,\n",
              "       0.26582278, 0.24050633, 0.25316456, 0.24050633, 0.27848101,\n",
              "       0.27848101, 0.26582278, 0.27848101, 0.27848101, 0.27848101,\n",
              "       0.24050633, 0.30379747, 0.34177215, 0.30379747, 0.32911392,\n",
              "       0.24050633, 0.2278481 , 0.24050633, 0.25316456, 0.21518987,\n",
              "       0.29113924, 0.27848101, 0.29113924, 0.34177215, 0.35443038,\n",
              "       0.40506329, 0.3164557 , 0.30379747, 0.24050633, 0.25316456,\n",
              "       0.18987342, 0.17721519, 0.16455696, 0.20253165, 0.16455696,\n",
              "       0.10126582, 0.15189873, 0.18987342, 0.18987342, 0.18987342,\n",
              "       0.20253165, 0.18987342, 0.2278481 , 0.21518987, 0.18987342,\n",
              "       0.17721519, 0.18987342, 0.24050633, 0.24050633, 0.2278481 ,\n",
              "       0.20253165, 0.21518987, 0.18987342, 0.2278481 , 0.25316456,\n",
              "       0.20253165, 0.17721519, 0.12658228, 0.08860759, 0.12658228,\n",
              "       0.12658228, 0.07594937, 0.10126582, 0.11392405, 0.10126582,\n",
              "       0.08860759, 0.11392405, 0.11392405, 0.10126582, 0.10126582,\n",
              "       0.07594937, 0.08860759, 0.08860759, 0.10126582, 0.08860759,\n",
              "       0.07594937, 0.08860759, 0.07594937, 0.07594937, 0.05063291,\n",
              "       0.07594937, 0.06329114, 0.05063291, 0.08860759, 0.10126582,\n",
              "       0.12658228, 0.07594937, 0.12658228, 0.17721519, 0.16455696,\n",
              "       0.11392405, 0.16455696, 0.13924051, 0.15189873, 0.13924051,\n",
              "       0.17721519, 0.08860759, 0.12658228, 0.12658228, 0.08860759,\n",
              "       0.12658228, 0.10126582, 0.12658228, 0.11392405, 0.12658228,\n",
              "       0.13924051, 0.11392405, 0.13924051, 0.12658228, 0.16455696,\n",
              "       0.15189873, 0.11392405, 0.11392405, 0.12658228, 0.10126582,\n",
              "       0.11392405, 0.12658228, 0.12658228, 0.11392405, 0.11392405,\n",
              "       0.11392405, 0.11392405, 0.10126582, 0.08860759, 0.06329114,\n",
              "       0.07594937, 0.10126582, 0.15189873, 0.12658228, 0.16455696,\n",
              "       0.16455696, 0.16455696, 0.16455696, 0.13924051, 0.11392405,\n",
              "       0.15189873, 0.15189873, 0.10126582, 0.15189873, 0.11392405,\n",
              "       0.12658228, 0.11392405, 0.12658228, 0.17721519, 0.10126582,\n",
              "       0.11392405, 0.15189873, 0.13924051, 0.13924051, 0.13924051,\n",
              "       0.13924051, 0.16455696, 0.17721519, 0.15189873, 0.15189873,\n",
              "       0.16455696, 0.17721519, 0.18987342, 0.17721519, 0.17721519,\n",
              "       0.17721519, 0.18987342, 0.17721519, 0.17721519, 0.15189873,\n",
              "       0.20253165, 0.21518987, 0.20253165, 0.27848101, 0.26582278,\n",
              "       0.29113924, 0.24050633, 0.2278481 , 0.25316456, 0.26582278,\n",
              "       0.26582278, 0.27848101, 0.26582278, 0.24050633, 0.25316456,\n",
              "       0.24050633, 0.27848101, 0.29113924, 0.27848101, 0.29113924,\n",
              "       0.25316456, 0.2278481 , 0.26582278, 0.29113924, 0.26582278,\n",
              "       0.30379747, 0.26582278, 0.29113924, 0.27848101, 0.24050633,\n",
              "       0.26582278, 0.21518987, 0.21518987, 0.2278481 , 0.27848101,\n",
              "       0.21518987, 0.21518987, 0.25316456, 0.25316456, 0.24050633,\n",
              "       0.25316456, 0.2278481 , 0.21518987, 0.2278481 , 0.20253165,\n",
              "       0.18987342, 0.20253165, 0.2278481 , 0.21518987, 0.2278481 ,\n",
              "       0.32911392, 0.50632911, 0.51898734, 0.44303797, 0.49367089,\n",
              "       0.44303797, 0.37974684, 0.35443038, 0.3164557 , 0.30379747,\n",
              "       0.29113924, 0.26582278, 0.26582278, 0.29113924, 0.27848101,\n",
              "       0.27848101, 0.27848101, 0.26582278, 0.26582278, 0.32911392,\n",
              "       0.34177215, 0.34177215, 0.39240506, 0.37974684, 0.3164557 ,\n",
              "       0.32911392, 0.32911392, 0.29113924, 0.29113924, 0.29113924,\n",
              "       0.24050633, 0.20253165, 0.20253165, 0.27848101, 0.29113924,\n",
              "       0.30379747, 0.27848101, 0.26582278, 0.26582278, 0.2278481 ,\n",
              "       0.21518987, 0.24050633, 0.2278481 , 0.25316456, 0.26582278,\n",
              "       0.26582278, 0.27848101, 0.27848101, 0.25316456, 0.26582278,\n",
              "       0.25316456, 0.25316456, 0.21518987, 0.26582278, 0.29113924,\n",
              "       0.27848101, 0.29113924, 0.2278481 , 0.21518987, 0.20253165,\n",
              "       0.21518987, 0.25316456, 0.25316456, 0.3164557 , 0.3164557 ,\n",
              "       0.25316456, 0.32911392, 0.3164557 , 0.29113924, 0.25316456,\n",
              "       0.30379747, 0.2278481 , 0.25316456, 0.26582278, 0.27848101,\n",
              "       0.3164557 , 0.25316456, 0.26582278, 0.2278481 , 0.26582278,\n",
              "       0.29113924, 0.32911392, 0.32911392, 0.32911392, 0.30379747,\n",
              "       0.30379747, 0.34177215, 0.36708861, 0.39240506, 0.41772152,\n",
              "       0.39240506, 0.39240506, 0.44303797, 0.48101266, 0.56962025,\n",
              "       0.49367089, 0.43037975, 0.36708861, 0.3164557 , 0.30379747,\n",
              "       0.30379747, 0.3164557 , 0.3164557 , 0.30379747, 0.3164557 ,\n",
              "       0.3164557 , 0.17721519, 0.17721519, 0.20253165, 0.17721519,\n",
              "       0.18987342, 0.18987342, 0.21518987, 0.24050633, 0.25316456,\n",
              "       0.27848101, 0.30379747, 0.3164557 , 0.26582278, 0.27848101,\n",
              "       0.26582278, 0.26582278, 0.29113924, 0.25316456, 0.26582278,\n",
              "       0.2278481 , 0.24050633, 0.24050633, 0.24050633, 0.25316456,\n",
              "       0.24050633, 0.29113924, 0.30379747, 0.26582278, 0.26582278,\n",
              "       0.25316456, 0.26582278, 0.25316456, 0.24050633, 0.29113924,\n",
              "       0.29113924, 0.30379747, 0.29113924, 0.30379747, 0.29113924,\n",
              "       0.29113924, 0.27848101, 0.27848101, 0.29113924, 0.30379747,\n",
              "       0.30379747, 0.29113924, 0.3164557 , 0.3164557 , 0.30379747,\n",
              "       0.34177215, 0.36708861, 0.41772152, 0.37974684, 0.34177215,\n",
              "       0.30379747, 0.26582278, 0.26582278, 0.25316456, 0.25316456,\n",
              "       0.29113924, 0.27848101, 0.32911392, 0.32911392, 0.32911392,\n",
              "       0.35443038, 0.34177215, 0.37974684, 0.40506329, 0.36708861,\n",
              "       0.34177215, 0.34177215, 0.34177215, 0.32911392, 0.32911392,\n",
              "       0.35443038, 0.34177215, 0.3164557 , 0.32911392, 0.3164557 ,\n",
              "       0.3164557 , 0.30379747, 0.32911392, 0.30379747, 0.32911392,\n",
              "       0.30379747, 0.32911392, 0.32911392, 0.32911392, 0.27848101,\n",
              "       0.25316456, 0.25316456, 0.25316456, 0.27848101, 0.3164557 ,\n",
              "       0.36708861, 0.27848101, 0.27848101, 0.27848101, 0.29113924,\n",
              "       0.27848101, 0.30379747, 0.29113924, 0.27848101, 0.32911392,\n",
              "       0.35443038, 0.34177215, 0.32911392, 0.35443038, 0.35443038,\n",
              "       0.3164557 , 0.3164557 , 0.27848101, 0.27848101, 0.26582278,\n",
              "       0.27848101, 0.25316456, 0.25316456, 0.29113924, 0.35443038,\n",
              "       0.35443038, 0.40506329, 0.37974684, 0.32911392, 0.32911392,\n",
              "       0.40506329, 0.41772152, 0.40506329, 0.36708861, 0.36708861,\n",
              "       0.37974684, 0.35443038, 0.3164557 , 0.30379747, 0.3164557 ,\n",
              "       0.35443038, 0.26582278, 0.25316456, 0.25316456, 0.29113924,\n",
              "       0.29113924, 0.30379747, 0.40506329, 0.32911392, 0.37974684,\n",
              "       0.39240506, 0.43037975, 0.4556962 , 0.34177215, 0.32911392,\n",
              "       0.3164557 , 0.3164557 , 0.34177215, 0.32911392, 0.3164557 ,\n",
              "       0.27848101, 0.26582278, 0.25316456, 0.2278481 , 0.21518987,\n",
              "       0.21518987, 0.20253165, 0.20253165, 0.21518987, 0.20253165,\n",
              "       0.16455696, 0.17721519, 0.17721519, 0.16455696, 0.16455696,\n",
              "       0.16455696, 0.15189873, 0.16455696, 0.16455696, 0.16455696,\n",
              "       0.15189873, 0.15189873, 0.15189873, 0.15189873, 0.16455696,\n",
              "       0.15189873, 0.20253165, 0.18987342, 0.13924051, 0.18987342,\n",
              "       0.17721519, 0.21518987, 0.20253165, 0.18987342, 0.17721519,\n",
              "       0.2278481 , 0.26582278, 0.26582278, 0.26582278, 0.24050633,\n",
              "       0.24050633, 0.21518987, 0.20253165, 0.20253165, 0.20253165,\n",
              "       0.20253165, 0.18987342, 0.21518987, 0.2278481 , 0.2278481 ,\n",
              "       0.29113924, 0.26582278, 0.25316456, 0.25316456, 0.26582278,\n",
              "       0.30379747, 0.30379747, 0.26582278, 0.27848101, 0.27848101,\n",
              "       0.27848101, 0.30379747, 0.29113924, 0.27848101, 0.26582278,\n",
              "       0.25316456, 0.3164557 , 0.27848101, 0.25316456, 0.25316456,\n",
              "       0.25316456, 0.2278481 , 0.26582278, 0.26582278, 0.25316456,\n",
              "       0.25316456, 0.25316456, 0.25316456, 0.29113924, 0.25316456,\n",
              "       0.27848101, 0.27848101, 0.26582278, 0.29113924, 0.25316456,\n",
              "       0.29113924, 0.3164557 , 0.30379747, 0.30379747, 0.29113924,\n",
              "       0.29113924, 0.29113924, 0.3164557 , 0.3164557 , 0.34177215,\n",
              "       0.32911392, 0.35443038, 0.34177215, 0.3164557 , 0.30379747,\n",
              "       0.29113924, 0.27848101, 0.26582278, 0.29113924, 0.27848101,\n",
              "       0.27848101, 0.29113924, 0.32911392, 0.29113924, 0.27848101,\n",
              "       0.30379747, 0.3164557 , 0.30379747, 0.3164557 , 0.30379747,\n",
              "       0.27848101, 0.27848101, 0.26582278, 0.30379747, 0.3164557 ,\n",
              "       0.3164557 , 0.29113924, 0.27848101, 0.30379747, 0.29113924,\n",
              "       0.3164557 , 0.3164557 , 0.32911392, 0.32911392, 0.30379747,\n",
              "       0.32911392, 0.35443038, 0.32911392, 0.30379747, 0.29113924,\n",
              "       0.3164557 , 0.3164557 , 0.29113924, 0.30379747, 0.30379747,\n",
              "       0.30379747, 0.27848101, 0.27848101, 0.26582278, 0.27848101,\n",
              "       0.27848101, 0.26582278, 0.27848101, 0.27848101, 0.27848101,\n",
              "       0.26582278, 0.29113924, 0.27848101, 0.27848101, 0.27848101,\n",
              "       0.27848101, 0.29113924, 0.27848101, 0.29113924, 0.3164557 ,\n",
              "       0.30379747, 0.30379747, 0.3164557 , 0.30379747, 0.30379747,\n",
              "       0.29113924, 0.29113924, 0.29113924, 0.26582278, 0.27848101,\n",
              "       0.30379747, 0.3164557 , 0.3164557 , 0.32911392, 0.3164557 ,\n",
              "       0.34177215, 0.30379747, 0.3164557 , 0.3164557 , 0.32911392,\n",
              "       0.32911392, 0.29113924, 0.29113924, 0.29113924, 0.3164557 ,\n",
              "       0.30379747, 0.30379747, 0.30379747, 0.29113924, 0.25316456,\n",
              "       0.27848101, 0.27848101, 0.26582278, 0.3164557 , 0.29113924,\n",
              "       0.32911392, 0.32911392, 0.30379747, 0.3164557 , 0.35443038,\n",
              "       0.32911392, 0.34177215, 0.37974684, 0.39240506, 0.39240506,\n",
              "       0.34177215, 0.35443038, 0.36708861, 0.39240506, 0.43037975,\n",
              "       0.39240506, 0.36708861, 0.32911392, 0.32911392, 0.35443038])"
            ]
          },
          "metadata": {
            "tags": []
          },
          "execution_count": 220
        }
      ]
    },
    {
      "cell_type": "code",
      "metadata": {
        "id": "tiw-WJ9f9OUV",
        "colab": {
          "base_uri": "https://localhost:8080/"
        },
        "outputId": "b6da08fd-e6d6-4226-c413-0960511c9b1f"
      },
      "source": [
        "x_test"
      ],
      "execution_count": 221,
      "outputs": [
        {
          "output_type": "execute_result",
          "data": {
            "text/plain": [
              "array([[0.12658228, 0.17391304, 0.88461538, 0.4516129 ],\n",
              "       [0.07594937, 0.13043478, 0.88461538, 0.44623656],\n",
              "       [0.08860759, 0.10869565, 0.92307692, 0.44086022],\n",
              "       ...,\n",
              "       [0.32911392, 0.43478261, 0.92307692, 0.5483871 ],\n",
              "       [0.32911392, 0.52173913, 1.        , 0.54301075],\n",
              "       [0.35443038, 0.63043478, 0.84615385, 0.52150538]])"
            ]
          },
          "metadata": {
            "tags": []
          },
          "execution_count": 221
        }
      ]
    },
    {
      "cell_type": "code",
      "metadata": {
        "id": "3YhtkAbq7hGf",
        "colab": {
          "base_uri": "https://localhost:8080/"
        },
        "outputId": "e23dfda2-72b4-46f8-c38c-c552ff2fd3f7"
      },
      "source": [
        "x_test[:,1:][win_length:]"
      ],
      "execution_count": 222,
      "outputs": [
        {
          "output_type": "execute_result",
          "data": {
            "text/plain": [
              "array([[0.10869565, 0.88461538, 0.44623656],\n",
              "       [0.17391304, 0.88461538, 0.44086022],\n",
              "       [0.2173913 , 0.84615385, 0.44086022],\n",
              "       ...,\n",
              "       [0.43478261, 0.92307692, 0.5483871 ],\n",
              "       [0.52173913, 1.        , 0.54301075],\n",
              "       [0.63043478, 0.84615385, 0.52150538]])"
            ]
          },
          "metadata": {
            "tags": []
          },
          "execution_count": 222
        }
      ]
    },
    {
      "cell_type": "code",
      "metadata": {
        "id": "qR04JJlC6yaM"
      },
      "source": [
        "df_pred=pd.concat([pd.DataFrame(predictions), pd.DataFrame(x_test[:,1:][win_length:])],axis=1)"
      ],
      "execution_count": 223,
      "outputs": []
    },
    {
      "cell_type": "code",
      "metadata": {
        "id": "3Fu_2Z9DR7rh",
        "colab": {
          "base_uri": "https://localhost:8080/",
          "height": 419
        },
        "outputId": "54dd6151-5c63-400b-a1f4-8ebe3f96b205"
      },
      "source": [
        "df_pred"
      ],
      "execution_count": 224,
      "outputs": [
        {
          "output_type": "execute_result",
          "data": {
            "text/html": [
              "<div>\n",
              "<style scoped>\n",
              "    .dataframe tbody tr th:only-of-type {\n",
              "        vertical-align: middle;\n",
              "    }\n",
              "\n",
              "    .dataframe tbody tr th {\n",
              "        vertical-align: top;\n",
              "    }\n",
              "\n",
              "    .dataframe thead th {\n",
              "        text-align: right;\n",
              "    }\n",
              "</style>\n",
              "<table border=\"1\" class=\"dataframe\">\n",
              "  <thead>\n",
              "    <tr style=\"text-align: right;\">\n",
              "      <th></th>\n",
              "      <th>0</th>\n",
              "      <th>0</th>\n",
              "      <th>1</th>\n",
              "      <th>2</th>\n",
              "    </tr>\n",
              "  </thead>\n",
              "  <tbody>\n",
              "    <tr>\n",
              "      <th>0</th>\n",
              "      <td>0.210259</td>\n",
              "      <td>0.108696</td>\n",
              "      <td>0.884615</td>\n",
              "      <td>0.446237</td>\n",
              "    </tr>\n",
              "    <tr>\n",
              "      <th>1</th>\n",
              "      <td>0.194657</td>\n",
              "      <td>0.173913</td>\n",
              "      <td>0.884615</td>\n",
              "      <td>0.440860</td>\n",
              "    </tr>\n",
              "    <tr>\n",
              "      <th>2</th>\n",
              "      <td>0.179151</td>\n",
              "      <td>0.217391</td>\n",
              "      <td>0.846154</td>\n",
              "      <td>0.440860</td>\n",
              "    </tr>\n",
              "    <tr>\n",
              "      <th>3</th>\n",
              "      <td>0.164704</td>\n",
              "      <td>0.152174</td>\n",
              "      <td>0.884615</td>\n",
              "      <td>0.440860</td>\n",
              "    </tr>\n",
              "    <tr>\n",
              "      <th>4</th>\n",
              "      <td>0.153026</td>\n",
              "      <td>0.239130</td>\n",
              "      <td>0.884615</td>\n",
              "      <td>0.435484</td>\n",
              "    </tr>\n",
              "    <tr>\n",
              "      <th>...</th>\n",
              "      <td>...</td>\n",
              "      <td>...</td>\n",
              "      <td>...</td>\n",
              "      <td>...</td>\n",
              "    </tr>\n",
              "    <tr>\n",
              "      <th>765</th>\n",
              "      <td>0.309028</td>\n",
              "      <td>0.456522</td>\n",
              "      <td>1.000000</td>\n",
              "      <td>0.564516</td>\n",
              "    </tr>\n",
              "    <tr>\n",
              "      <th>766</th>\n",
              "      <td>0.310634</td>\n",
              "      <td>0.195652</td>\n",
              "      <td>0.961538</td>\n",
              "      <td>0.553763</td>\n",
              "    </tr>\n",
              "    <tr>\n",
              "      <th>767</th>\n",
              "      <td>0.311048</td>\n",
              "      <td>0.434783</td>\n",
              "      <td>0.923077</td>\n",
              "      <td>0.548387</td>\n",
              "    </tr>\n",
              "    <tr>\n",
              "      <th>768</th>\n",
              "      <td>0.305640</td>\n",
              "      <td>0.521739</td>\n",
              "      <td>1.000000</td>\n",
              "      <td>0.543011</td>\n",
              "    </tr>\n",
              "    <tr>\n",
              "      <th>769</th>\n",
              "      <td>0.296059</td>\n",
              "      <td>0.630435</td>\n",
              "      <td>0.846154</td>\n",
              "      <td>0.521505</td>\n",
              "    </tr>\n",
              "  </tbody>\n",
              "</table>\n",
              "<p>770 rows × 4 columns</p>\n",
              "</div>"
            ],
            "text/plain": [
              "            0         0         1         2\n",
              "0    0.210259  0.108696  0.884615  0.446237\n",
              "1    0.194657  0.173913  0.884615  0.440860\n",
              "2    0.179151  0.217391  0.846154  0.440860\n",
              "3    0.164704  0.152174  0.884615  0.440860\n",
              "4    0.153026  0.239130  0.884615  0.435484\n",
              "..        ...       ...       ...       ...\n",
              "765  0.309028  0.456522  1.000000  0.564516\n",
              "766  0.310634  0.195652  0.961538  0.553763\n",
              "767  0.311048  0.434783  0.923077  0.548387\n",
              "768  0.305640  0.521739  1.000000  0.543011\n",
              "769  0.296059  0.630435  0.846154  0.521505\n",
              "\n",
              "[770 rows x 4 columns]"
            ]
          },
          "metadata": {
            "tags": []
          },
          "execution_count": 224
        }
      ]
    },
    {
      "cell_type": "code",
      "metadata": {
        "id": "noykl7lh9hmT"
      },
      "source": [
        "rev_trans=scaler.inverse_transform(df_pred)"
      ],
      "execution_count": 225,
      "outputs": []
    },
    {
      "cell_type": "code",
      "metadata": {
        "id": "D2vcu4tBAf4n",
        "colab": {
          "base_uri": "https://localhost:8080/"
        },
        "outputId": "36241f97-bcf2-4a85-e24a-14ef92155967"
      },
      "source": [
        "rev_trans"
      ],
      "execution_count": 226,
      "outputs": [
        {
          "output_type": "execute_result",
          "data": {
            "text/plain": [
              "array([[134.61047673,  38.        ,  97.        , 127.        ],\n",
              "       [133.37789106,  41.        ,  97.        , 126.        ],\n",
              "       [132.15289004,  43.        ,  96.        , 126.        ],\n",
              "       ...,\n",
              "       [142.57282504,  53.        ,  98.        , 146.        ],\n",
              "       [142.14559391,  57.        , 100.        , 145.        ],\n",
              "       [141.38868082,  62.        ,  96.        , 141.        ]])"
            ]
          },
          "metadata": {
            "tags": []
          },
          "execution_count": 226
        }
      ]
    },
    {
      "cell_type": "code",
      "metadata": {
        "id": "5eopbjZZBRUs"
      },
      "source": [
        "df_final=df_input[predictions.shape[0]*-1:]"
      ],
      "execution_count": 227,
      "outputs": []
    },
    {
      "cell_type": "code",
      "metadata": {
        "id": "iEgc_FyMBjSO",
        "colab": {
          "base_uri": "https://localhost:8080/"
        },
        "outputId": "c4f2139b-2d10-4a88-9e3c-f00dfaf5376d"
      },
      "source": [
        "df_final.count()"
      ],
      "execution_count": 228,
      "outputs": [
        {
          "output_type": "execute_result",
          "data": {
            "text/plain": [
              "Lifetouch Heart Rate          770\n",
              "Lifetouch Respiration Rate    770\n",
              "Oximeter SpO2                 770\n",
              "Oximeter Pulse                770\n",
              "dtype: int64"
            ]
          },
          "metadata": {
            "tags": []
          },
          "execution_count": 228
        }
      ]
    },
    {
      "cell_type": "code",
      "metadata": {
        "id": "D1VdgBdB-aWE",
        "colab": {
          "base_uri": "https://localhost:8080/"
        },
        "outputId": "bb4f8cf7-8e70-49f7-96de-3778519a3b9b"
      },
      "source": [
        "df_final['Predicted Heart Rate']=rev_trans[:,0]"
      ],
      "execution_count": 229,
      "outputs": [
        {
          "output_type": "stream",
          "text": [
            "/usr/local/lib/python3.7/dist-packages/ipykernel_launcher.py:1: SettingWithCopyWarning: \n",
            "A value is trying to be set on a copy of a slice from a DataFrame.\n",
            "Try using .loc[row_indexer,col_indexer] = value instead\n",
            "\n",
            "See the caveats in the documentation: https://pandas.pydata.org/pandas-docs/stable/user_guide/indexing.html#returning-a-view-versus-a-copy\n",
            "  \"\"\"Entry point for launching an IPython kernel.\n"
          ],
          "name": "stderr"
        }
      ]
    },
    {
      "cell_type": "code",
      "metadata": {
        "id": "Ym90OS9J_-6O",
        "colab": {
          "base_uri": "https://localhost:8080/",
          "height": 419
        },
        "outputId": "de1b0df9-161d-4bfa-e582-861b3d927805"
      },
      "source": [
        "df_final"
      ],
      "execution_count": 230,
      "outputs": [
        {
          "output_type": "execute_result",
          "data": {
            "text/html": [
              "<div>\n",
              "<style scoped>\n",
              "    .dataframe tbody tr th:only-of-type {\n",
              "        vertical-align: middle;\n",
              "    }\n",
              "\n",
              "    .dataframe tbody tr th {\n",
              "        vertical-align: top;\n",
              "    }\n",
              "\n",
              "    .dataframe thead th {\n",
              "        text-align: right;\n",
              "    }\n",
              "</style>\n",
              "<table border=\"1\" class=\"dataframe\">\n",
              "  <thead>\n",
              "    <tr style=\"text-align: right;\">\n",
              "      <th></th>\n",
              "      <th>Lifetouch Heart Rate</th>\n",
              "      <th>Lifetouch Respiration Rate</th>\n",
              "      <th>Oximeter SpO2</th>\n",
              "      <th>Oximeter Pulse</th>\n",
              "      <th>Predicted Heart Rate</th>\n",
              "    </tr>\n",
              "  </thead>\n",
              "  <tbody>\n",
              "    <tr>\n",
              "      <th>3492</th>\n",
              "      <td>125.0</td>\n",
              "      <td>38.0</td>\n",
              "      <td>97.0</td>\n",
              "      <td>127.0</td>\n",
              "      <td>134.610477</td>\n",
              "    </tr>\n",
              "    <tr>\n",
              "      <th>3493</th>\n",
              "      <td>127.0</td>\n",
              "      <td>41.0</td>\n",
              "      <td>97.0</td>\n",
              "      <td>126.0</td>\n",
              "      <td>133.377891</td>\n",
              "    </tr>\n",
              "    <tr>\n",
              "      <th>3494</th>\n",
              "      <td>126.0</td>\n",
              "      <td>43.0</td>\n",
              "      <td>96.0</td>\n",
              "      <td>126.0</td>\n",
              "      <td>132.152890</td>\n",
              "    </tr>\n",
              "    <tr>\n",
              "      <th>3495</th>\n",
              "      <td>126.0</td>\n",
              "      <td>40.0</td>\n",
              "      <td>97.0</td>\n",
              "      <td>126.0</td>\n",
              "      <td>131.011620</td>\n",
              "    </tr>\n",
              "    <tr>\n",
              "      <th>3496</th>\n",
              "      <td>127.0</td>\n",
              "      <td>44.0</td>\n",
              "      <td>97.0</td>\n",
              "      <td>125.0</td>\n",
              "      <td>130.089032</td>\n",
              "    </tr>\n",
              "    <tr>\n",
              "      <th>...</th>\n",
              "      <td>...</td>\n",
              "      <td>...</td>\n",
              "      <td>...</td>\n",
              "      <td>...</td>\n",
              "      <td>...</td>\n",
              "    </tr>\n",
              "    <tr>\n",
              "      <th>4406</th>\n",
              "      <td>149.0</td>\n",
              "      <td>54.0</td>\n",
              "      <td>100.0</td>\n",
              "      <td>149.0</td>\n",
              "      <td>142.413228</td>\n",
              "    </tr>\n",
              "    <tr>\n",
              "      <th>4407</th>\n",
              "      <td>147.0</td>\n",
              "      <td>42.0</td>\n",
              "      <td>99.0</td>\n",
              "      <td>147.0</td>\n",
              "      <td>142.540101</td>\n",
              "    </tr>\n",
              "    <tr>\n",
              "      <th>4408</th>\n",
              "      <td>144.0</td>\n",
              "      <td>53.0</td>\n",
              "      <td>98.0</td>\n",
              "      <td>146.0</td>\n",
              "      <td>142.572825</td>\n",
              "    </tr>\n",
              "    <tr>\n",
              "      <th>4409</th>\n",
              "      <td>144.0</td>\n",
              "      <td>57.0</td>\n",
              "      <td>100.0</td>\n",
              "      <td>145.0</td>\n",
              "      <td>142.145594</td>\n",
              "    </tr>\n",
              "    <tr>\n",
              "      <th>4410</th>\n",
              "      <td>146.0</td>\n",
              "      <td>62.0</td>\n",
              "      <td>96.0</td>\n",
              "      <td>141.0</td>\n",
              "      <td>141.388681</td>\n",
              "    </tr>\n",
              "  </tbody>\n",
              "</table>\n",
              "<p>770 rows × 5 columns</p>\n",
              "</div>"
            ],
            "text/plain": [
              "      Lifetouch Heart Rate  ...  Predicted Heart Rate\n",
              "3492                 125.0  ...            134.610477\n",
              "3493                 127.0  ...            133.377891\n",
              "3494                 126.0  ...            132.152890\n",
              "3495                 126.0  ...            131.011620\n",
              "3496                 127.0  ...            130.089032\n",
              "...                    ...  ...                   ...\n",
              "4406                 149.0  ...            142.413228\n",
              "4407                 147.0  ...            142.540101\n",
              "4408                 144.0  ...            142.572825\n",
              "4409                 144.0  ...            142.145594\n",
              "4410                 146.0  ...            141.388681\n",
              "\n",
              "[770 rows x 5 columns]"
            ]
          },
          "metadata": {
            "tags": []
          },
          "execution_count": 230
        }
      ]
    },
    {
      "cell_type": "code",
      "metadata": {
        "id": "Ig7S76aZApyp",
        "colab": {
          "base_uri": "https://localhost:8080/",
          "height": 500
        },
        "outputId": "b74d82db-38b3-480f-f968-e8f1f14e9069"
      },
      "source": [
        "df_final[['Lifetouch Heart Rate','Predicted Heart Rate']].plot()"
      ],
      "execution_count": 231,
      "outputs": [
        {
          "output_type": "execute_result",
          "data": {
            "text/plain": [
              "<matplotlib.axes._subplots.AxesSubplot at 0x7f50bc3d6390>"
            ]
          },
          "metadata": {
            "tags": []
          },
          "execution_count": 231
        },
        {
          "output_type": "display_data",
          "data": {
            "image/png": "[encoded data removed]",
            "text/plain": [
              "<Figure size 720x576 with 1 Axes>"
            ]
          },
          "metadata": {
            "tags": [],
            "needs_background": "light"
          }
        }
      ]
    },
    {
      "cell_type": "code",
      "metadata": {
        "colab": {
          "base_uri": "https://localhost:8080/"
        },
        "id": "TRPmEsUiOvQ5",
        "outputId": "5f665bee-2ed0-4662-a161-1090f8f760f2"
      },
      "source": [
        "from sklearn.metrics import mean_squared_error, mean_absolute_error\n",
        "from math import sqrt\n",
        "expected = df_final['Lifetouch Heart Rate']\n",
        "predictions = df_final['Predicted Heart Rate']\n",
        "mse = mean_squared_error(expected, predictions)\n",
        "rmse = sqrt(mse)\n",
        "print('RMSE: %f' % rmse)\n"
      ],
      "execution_count": 232,
      "outputs": [
        {
          "output_type": "stream",
          "text": [
            "RMSE: 3.871111\n"
          ],
          "name": "stdout"
        }
      ]
    },
    {
      "cell_type": "code",
      "metadata": {
        "colab": {
          "base_uri": "https://localhost:8080/"
        },
        "id": "8pgTuNMPy5sQ",
        "outputId": "d89ef5dd-f7c8-41c9-be09-305107cd4f28"
      },
      "source": [
        "mae = mean_absolute_error(expected, predictions)\n",
        "print('MAE: %f' % mae)\n",
        "\n",
        "#These error values are in the original units of the predicted values. \n",
        "#A mean absolute error of zero indicates no error."
      ],
      "execution_count": 233,
      "outputs": [
        {
          "output_type": "stream",
          "text": [
            "MAE: 2.994370\n"
          ],
          "name": "stdout"
        }
      ]
    }
  ]
}