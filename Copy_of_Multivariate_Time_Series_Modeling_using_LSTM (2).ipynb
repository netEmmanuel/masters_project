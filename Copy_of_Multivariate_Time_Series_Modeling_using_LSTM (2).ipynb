{
  "nbformat": 4,
  "nbformat_minor": 0,
  "metadata": {
    "colab": {
      "name": "Copy of Multivariate Time Series Modeling using LSTM.ipynb",
      "provenance": [],
      "collapsed_sections": []
    },
    "kernelspec": {
      "name": "python3",
      "display_name": "Python 3"
    },
    "accelerator": "GPU"
  },
  "cells": [
    {
      "cell_type": "code",
      "metadata": {
        "id": "_GY3HgVB7T8D"
      },
      "source": [
        "import pandas as pd\n",
        "import matplotlib as mpl\n",
        "import tensorflow.keras as keras\n",
        "import matplotlib.pyplot as plt\n",
        "from keras.models import Sequential\n",
        "from keras.layers import Dense\n",
        "from keras.layers import LSTM\n",
        "from keras.layers import Dropout\n",
        "from keras.layers import *\n",
        "from sklearn.preprocessing import MinMaxScaler\n",
        "from sklearn.metrics import mean_squared_error\n",
        "from sklearn.metrics import mean_absolute_error\n",
        "from keras.callbacks import EarlyStopping\n",
        "from sklearn.model_selection import train_test_split\n",
        "from keras.preprocessing.sequence import TimeseriesGenerator\n",
        "from sklearn.preprocessing import MinMaxScaler, StandardScaler\n",
        "import math\n",
        "\n",
        "\n",
        "import tensorflow as tf\n",
        "\n",
        "mpl.rcParams['figure.figsize'] = (10, 8)\n",
        "mpl.rcParams['axes.grid'] = False"
      ],
      "execution_count": 2,
      "outputs": []
    },
    {
      "cell_type": "code",
      "metadata": {
        "id": "lmNbWyCJ7n0a"
      },
      "source": [
        "#df = pd.read_csv('https://archive.ics.uci.edu/ml/machine-learning-databases/00374/energydata_complete.csv')df = \n",
        "df = pd.read_csv('csv_session2.csv')"
      ],
      "execution_count": 3,
      "outputs": []
    },
    {
      "cell_type": "code",
      "metadata": {
        "id": "4MZJsxPq76CN",
        "colab": {
          "base_uri": "https://localhost:8080/",
          "height": 419
        },
        "outputId": "55345b5f-29fb-45d1-e82c-d3ea14032437"
      },
      "source": [
        "df"
      ],
      "execution_count": 4,
      "outputs": [
        {
          "output_type": "execute_result",
          "data": {
            "text/html": [
              "<div>\n",
              "<style scoped>\n",
              "    .dataframe tbody tr th:only-of-type {\n",
              "        vertical-align: middle;\n",
              "    }\n",
              "\n",
              "    .dataframe tbody tr th {\n",
              "        vertical-align: top;\n",
              "    }\n",
              "\n",
              "    .dataframe thead th {\n",
              "        text-align: right;\n",
              "    }\n",
              "</style>\n",
              "<table border=\"1\" class=\"dataframe\">\n",
              "  <thead>\n",
              "    <tr style=\"text-align: right;\">\n",
              "      <th></th>\n",
              "      <th>Timestamp (GMT)</th>\n",
              "      <th>Lifetouch Heart Rate</th>\n",
              "      <th>Lifetouch Respiration Rate</th>\n",
              "      <th>Oximeter SpO2</th>\n",
              "      <th>Oximeter Pulse</th>\n",
              "    </tr>\n",
              "  </thead>\n",
              "  <tbody>\n",
              "    <tr>\n",
              "      <th>0</th>\n",
              "      <td>24/02/2016 15:53:00</td>\n",
              "      <td>NaN</td>\n",
              "      <td>NaN</td>\n",
              "      <td>85.0</td>\n",
              "      <td>72.0</td>\n",
              "    </tr>\n",
              "    <tr>\n",
              "      <th>1</th>\n",
              "      <td>24/02/2016 15:54:00</td>\n",
              "      <td>61441.0</td>\n",
              "      <td>61441.0</td>\n",
              "      <td>90.0</td>\n",
              "      <td>123.0</td>\n",
              "    </tr>\n",
              "    <tr>\n",
              "      <th>2</th>\n",
              "      <td>24/02/2016 15:55:00</td>\n",
              "      <td>153.0</td>\n",
              "      <td>51.0</td>\n",
              "      <td>91.0</td>\n",
              "      <td>153.0</td>\n",
              "    </tr>\n",
              "    <tr>\n",
              "      <th>3</th>\n",
              "      <td>24/02/2016 15:56:00</td>\n",
              "      <td>153.0</td>\n",
              "      <td>48.0</td>\n",
              "      <td>92.0</td>\n",
              "      <td>136.0</td>\n",
              "    </tr>\n",
              "    <tr>\n",
              "      <th>4</th>\n",
              "      <td>24/02/2016 15:57:00</td>\n",
              "      <td>153.0</td>\n",
              "      <td>46.0</td>\n",
              "      <td>NaN</td>\n",
              "      <td>NaN</td>\n",
              "    </tr>\n",
              "    <tr>\n",
              "      <th>...</th>\n",
              "      <td>...</td>\n",
              "      <td>...</td>\n",
              "      <td>...</td>\n",
              "      <td>...</td>\n",
              "      <td>...</td>\n",
              "    </tr>\n",
              "    <tr>\n",
              "      <th>6839</th>\n",
              "      <td>29/02/2016 09:52:00</td>\n",
              "      <td>NaN</td>\n",
              "      <td>NaN</td>\n",
              "      <td>NaN</td>\n",
              "      <td>NaN</td>\n",
              "    </tr>\n",
              "    <tr>\n",
              "      <th>6840</th>\n",
              "      <td>29/02/2016 09:53:00</td>\n",
              "      <td>NaN</td>\n",
              "      <td>NaN</td>\n",
              "      <td>NaN</td>\n",
              "      <td>NaN</td>\n",
              "    </tr>\n",
              "    <tr>\n",
              "      <th>6841</th>\n",
              "      <td>29/02/2016 09:54:00</td>\n",
              "      <td>NaN</td>\n",
              "      <td>NaN</td>\n",
              "      <td>NaN</td>\n",
              "      <td>NaN</td>\n",
              "    </tr>\n",
              "    <tr>\n",
              "      <th>6842</th>\n",
              "      <td>29/02/2016 09:55:00</td>\n",
              "      <td>NaN</td>\n",
              "      <td>NaN</td>\n",
              "      <td>NaN</td>\n",
              "      <td>NaN</td>\n",
              "    </tr>\n",
              "    <tr>\n",
              "      <th>6843</th>\n",
              "      <td>29/02/2016 09:56:00</td>\n",
              "      <td>NaN</td>\n",
              "      <td>NaN</td>\n",
              "      <td>NaN</td>\n",
              "      <td>NaN</td>\n",
              "    </tr>\n",
              "  </tbody>\n",
              "</table>\n",
              "<p>6844 rows × 5 columns</p>\n",
              "</div>"
            ],
            "text/plain": [
              "          Timestamp (GMT)  Lifetouch Heart Rate  ...  Oximeter SpO2  Oximeter Pulse\n",
              "0     24/02/2016 15:53:00                   NaN  ...           85.0            72.0\n",
              "1     24/02/2016 15:54:00               61441.0  ...           90.0           123.0\n",
              "2     24/02/2016 15:55:00                 153.0  ...           91.0           153.0\n",
              "3     24/02/2016 15:56:00                 153.0  ...           92.0           136.0\n",
              "4     24/02/2016 15:57:00                 153.0  ...            NaN             NaN\n",
              "...                   ...                   ...  ...            ...             ...\n",
              "6839  29/02/2016 09:52:00                   NaN  ...            NaN             NaN\n",
              "6840  29/02/2016 09:53:00                   NaN  ...            NaN             NaN\n",
              "6841  29/02/2016 09:54:00                   NaN  ...            NaN             NaN\n",
              "6842  29/02/2016 09:55:00                   NaN  ...            NaN             NaN\n",
              "6843  29/02/2016 09:56:00                   NaN  ...            NaN             NaN\n",
              "\n",
              "[6844 rows x 5 columns]"
            ]
          },
          "metadata": {
            "tags": []
          },
          "execution_count": 4
        }
      ]
    },
    {
      "cell_type": "code",
      "metadata": {
        "id": "e_gfpzvA0cJa",
        "colab": {
          "base_uri": "https://localhost:8080/"
        },
        "outputId": "e4682f0e-b31c-47ee-ef09-bfa8d3630342"
      },
      "source": [
        "df.info()"
      ],
      "execution_count": 5,
      "outputs": [
        {
          "output_type": "stream",
          "text": [
            "<class 'pandas.core.frame.DataFrame'>\n",
            "RangeIndex: 6844 entries, 0 to 6843\n",
            "Data columns (total 5 columns):\n",
            " #   Column                      Non-Null Count  Dtype  \n",
            "---  ------                      --------------  -----  \n",
            " 0   Timestamp (GMT)             6844 non-null   object \n",
            " 1   Lifetouch Heart Rate        4388 non-null   float64\n",
            " 2   Lifetouch Respiration Rate  4388 non-null   float64\n",
            " 3   Oximeter SpO2               4352 non-null   float64\n",
            " 4   Oximeter Pulse              4352 non-null   float64\n",
            "dtypes: float64(4), object(1)\n",
            "memory usage: 267.5+ KB\n"
          ],
          "name": "stdout"
        }
      ]
    },
    {
      "cell_type": "code",
      "metadata": {
        "id": "DX4Wjmy08aWn"
      },
      "source": [
        "df['Timestamp (GMT)'] = pd.to_datetime(df['Timestamp (GMT)'], infer_datetime_format=True)"
      ],
      "execution_count": 6,
      "outputs": []
    },
    {
      "cell_type": "code",
      "metadata": {
        "id": "GJb5RUTJCu-o"
      },
      "source": [
        "df = df.dropna()"
      ],
      "execution_count": 7,
      "outputs": []
    },
    {
      "cell_type": "code",
      "metadata": {
        "id": "M68vUtsstnK0"
      },
      "source": [
        "df=  df.loc[df['Lifetouch Heart Rate'] <= 200]\n",
        "df=  df.loc[df['Oximeter SpO2'] >= 40]"
      ],
      "execution_count": 8,
      "outputs": []
    },
    {
      "cell_type": "code",
      "metadata": {
        "id": "6klgmpWq0TJZ",
        "colab": {
          "base_uri": "https://localhost:8080/",
          "height": 563
        },
        "outputId": "11a81564-bbbd-43ed-bb55-1a0e87a565bf"
      },
      "source": [
        "#df.set_index('date')[['Appliances', 'lights','T_out', 'RH_1', 'Visibility']].plot(subplots=True)\n",
        "df.set_index('Timestamp (GMT)')[['Lifetouch Heart Rate', 'Lifetouch Respiration Rate','Oximeter SpO2', 'Oximeter Pulse']].plot(subplots=True)"
      ],
      "execution_count": 9,
      "outputs": [
        {
          "output_type": "execute_result",
          "data": {
            "text/plain": [
              "array([<matplotlib.axes._subplots.AxesSubplot object at 0x7fdc16a93c50>,\n",
              "       <matplotlib.axes._subplots.AxesSubplot object at 0x7fdc15ef3350>,\n",
              "       <matplotlib.axes._subplots.AxesSubplot object at 0x7fdc16a93810>,\n",
              "       <matplotlib.axes._subplots.AxesSubplot object at 0x7fdc15e69a90>],\n",
              "      dtype=object)"
            ]
          },
          "metadata": {
            "tags": []
          },
          "execution_count": 9
        },
        {
          "output_type": "display_data",
          "data": {
            "image/png": "[encoded data removed]",
            "text/plain": [
              "<Figure size 720x576 with 4 Axes>"
            ]
          },
          "metadata": {
            "tags": [],
            "needs_background": "light"
          }
        }
      ]
    },
    {
      "cell_type": "code",
      "metadata": {
        "id": "03LtErv2z8fI"
      },
      "source": [
        "df_input=df[['Lifetouch Heart Rate', 'Lifetouch Respiration Rate','Oximeter SpO2', 'Oximeter Pulse']]"
      ],
      "execution_count": 10,
      "outputs": []
    },
    {
      "cell_type": "code",
      "metadata": {
        "id": "ZoZI-S5t760x",
        "colab": {
          "base_uri": "https://localhost:8080/",
          "height": 419
        },
        "outputId": "ab67eb01-255d-40d0-f77c-0fdeed9b811e"
      },
      "source": [
        "df_input"
      ],
      "execution_count": 44,
      "outputs": [
        {
          "output_type": "execute_result",
          "data": {
            "text/html": [
              "<div>\n",
              "<style scoped>\n",
              "    .dataframe tbody tr th:only-of-type {\n",
              "        vertical-align: middle;\n",
              "    }\n",
              "\n",
              "    .dataframe tbody tr th {\n",
              "        vertical-align: top;\n",
              "    }\n",
              "\n",
              "    .dataframe thead th {\n",
              "        text-align: right;\n",
              "    }\n",
              "</style>\n",
              "<table border=\"1\" class=\"dataframe\">\n",
              "  <thead>\n",
              "    <tr style=\"text-align: right;\">\n",
              "      <th></th>\n",
              "      <th>Lifetouch Heart Rate</th>\n",
              "      <th>Lifetouch Respiration Rate</th>\n",
              "      <th>Oximeter SpO2</th>\n",
              "      <th>Oximeter Pulse</th>\n",
              "    </tr>\n",
              "  </thead>\n",
              "  <tbody>\n",
              "    <tr>\n",
              "      <th>2</th>\n",
              "      <td>153.0</td>\n",
              "      <td>51.0</td>\n",
              "      <td>91.0</td>\n",
              "      <td>153.0</td>\n",
              "    </tr>\n",
              "    <tr>\n",
              "      <th>3</th>\n",
              "      <td>153.0</td>\n",
              "      <td>48.0</td>\n",
              "      <td>92.0</td>\n",
              "      <td>136.0</td>\n",
              "    </tr>\n",
              "    <tr>\n",
              "      <th>6</th>\n",
              "      <td>153.0</td>\n",
              "      <td>46.0</td>\n",
              "      <td>94.0</td>\n",
              "      <td>153.0</td>\n",
              "    </tr>\n",
              "    <tr>\n",
              "      <th>7</th>\n",
              "      <td>153.0</td>\n",
              "      <td>49.0</td>\n",
              "      <td>94.0</td>\n",
              "      <td>154.0</td>\n",
              "    </tr>\n",
              "    <tr>\n",
              "      <th>8</th>\n",
              "      <td>154.0</td>\n",
              "      <td>48.0</td>\n",
              "      <td>93.0</td>\n",
              "      <td>154.0</td>\n",
              "    </tr>\n",
              "    <tr>\n",
              "      <th>...</th>\n",
              "      <td>...</td>\n",
              "      <td>...</td>\n",
              "      <td>...</td>\n",
              "      <td>...</td>\n",
              "    </tr>\n",
              "    <tr>\n",
              "      <th>4406</th>\n",
              "      <td>149.0</td>\n",
              "      <td>54.0</td>\n",
              "      <td>100.0</td>\n",
              "      <td>149.0</td>\n",
              "    </tr>\n",
              "    <tr>\n",
              "      <th>4407</th>\n",
              "      <td>147.0</td>\n",
              "      <td>42.0</td>\n",
              "      <td>99.0</td>\n",
              "      <td>147.0</td>\n",
              "    </tr>\n",
              "    <tr>\n",
              "      <th>4408</th>\n",
              "      <td>144.0</td>\n",
              "      <td>53.0</td>\n",
              "      <td>98.0</td>\n",
              "      <td>146.0</td>\n",
              "    </tr>\n",
              "    <tr>\n",
              "      <th>4409</th>\n",
              "      <td>144.0</td>\n",
              "      <td>57.0</td>\n",
              "      <td>100.0</td>\n",
              "      <td>145.0</td>\n",
              "    </tr>\n",
              "    <tr>\n",
              "      <th>4410</th>\n",
              "      <td>146.0</td>\n",
              "      <td>62.0</td>\n",
              "      <td>96.0</td>\n",
              "      <td>141.0</td>\n",
              "    </tr>\n",
              "  </tbody>\n",
              "</table>\n",
              "<p>4074 rows × 4 columns</p>\n",
              "</div>"
            ],
            "text/plain": [
              "      Lifetouch Heart Rate  ...  Oximeter Pulse\n",
              "2                    153.0  ...           153.0\n",
              "3                    153.0  ...           136.0\n",
              "6                    153.0  ...           153.0\n",
              "7                    153.0  ...           154.0\n",
              "8                    154.0  ...           154.0\n",
              "...                    ...  ...             ...\n",
              "4406                 149.0  ...           149.0\n",
              "4407                 147.0  ...           147.0\n",
              "4408                 144.0  ...           146.0\n",
              "4409                 144.0  ...           145.0\n",
              "4410                 146.0  ...           141.0\n",
              "\n",
              "[4074 rows x 4 columns]"
            ]
          },
          "metadata": {
            "tags": []
          },
          "execution_count": 44
        }
      ]
    },
    {
      "cell_type": "code",
      "metadata": {
        "id": "s3QqtUCsyKLa",
        "colab": {
          "base_uri": "https://localhost:8080/",
          "height": 297
        },
        "outputId": "7e772299-611f-401d-a588-71fcb67e0fd7"
      },
      "source": [
        "df_input.describe()"
      ],
      "execution_count": 12,
      "outputs": [
        {
          "output_type": "execute_result",
          "data": {
            "text/html": [
              "<div>\n",
              "<style scoped>\n",
              "    .dataframe tbody tr th:only-of-type {\n",
              "        vertical-align: middle;\n",
              "    }\n",
              "\n",
              "    .dataframe tbody tr th {\n",
              "        vertical-align: top;\n",
              "    }\n",
              "\n",
              "    .dataframe thead th {\n",
              "        text-align: right;\n",
              "    }\n",
              "</style>\n",
              "<table border=\"1\" class=\"dataframe\">\n",
              "  <thead>\n",
              "    <tr style=\"text-align: right;\">\n",
              "      <th></th>\n",
              "      <th>Lifetouch Heart Rate</th>\n",
              "      <th>Lifetouch Respiration Rate</th>\n",
              "      <th>Oximeter SpO2</th>\n",
              "      <th>Oximeter Pulse</th>\n",
              "    </tr>\n",
              "  </thead>\n",
              "  <tbody>\n",
              "    <tr>\n",
              "      <th>count</th>\n",
              "      <td>4074.000000</td>\n",
              "      <td>4074.000000</td>\n",
              "      <td>4074.000000</td>\n",
              "      <td>4074.000000</td>\n",
              "    </tr>\n",
              "    <tr>\n",
              "      <th>mean</th>\n",
              "      <td>148.998773</td>\n",
              "      <td>51.338488</td>\n",
              "      <td>94.647275</td>\n",
              "      <td>147.913844</td>\n",
              "    </tr>\n",
              "    <tr>\n",
              "      <th>std</th>\n",
              "      <td>14.771199</td>\n",
              "      <td>8.394903</td>\n",
              "      <td>3.919336</td>\n",
              "      <td>16.057492</td>\n",
              "    </tr>\n",
              "    <tr>\n",
              "      <th>min</th>\n",
              "      <td>118.000000</td>\n",
              "      <td>33.000000</td>\n",
              "      <td>74.000000</td>\n",
              "      <td>44.000000</td>\n",
              "    </tr>\n",
              "    <tr>\n",
              "      <th>25%</th>\n",
              "      <td>138.000000</td>\n",
              "      <td>45.000000</td>\n",
              "      <td>93.000000</td>\n",
              "      <td>137.000000</td>\n",
              "    </tr>\n",
              "    <tr>\n",
              "      <th>50%</th>\n",
              "      <td>146.000000</td>\n",
              "      <td>51.000000</td>\n",
              "      <td>96.000000</td>\n",
              "      <td>145.000000</td>\n",
              "    </tr>\n",
              "    <tr>\n",
              "      <th>75%</th>\n",
              "      <td>161.000000</td>\n",
              "      <td>57.000000</td>\n",
              "      <td>98.000000</td>\n",
              "      <td>160.000000</td>\n",
              "    </tr>\n",
              "    <tr>\n",
              "      <th>max</th>\n",
              "      <td>197.000000</td>\n",
              "      <td>79.000000</td>\n",
              "      <td>100.000000</td>\n",
              "      <td>230.000000</td>\n",
              "    </tr>\n",
              "  </tbody>\n",
              "</table>\n",
              "</div>"
            ],
            "text/plain": [
              "       Lifetouch Heart Rate  ...  Oximeter Pulse\n",
              "count           4074.000000  ...     4074.000000\n",
              "mean             148.998773  ...      147.913844\n",
              "std               14.771199  ...       16.057492\n",
              "min              118.000000  ...       44.000000\n",
              "25%              138.000000  ...      137.000000\n",
              "50%              146.000000  ...      145.000000\n",
              "75%              161.000000  ...      160.000000\n",
              "max              197.000000  ...      230.000000\n",
              "\n",
              "[8 rows x 4 columns]"
            ]
          },
          "metadata": {
            "tags": []
          },
          "execution_count": 12
        }
      ]
    },
    {
      "cell_type": "code",
      "metadata": {
        "colab": {
          "base_uri": "https://localhost:8080/",
          "height": 331
        },
        "id": "nVwM2XjcuOyR",
        "outputId": "0db7161e-f51d-45e4-c8d2-81bc9b45132c"
      },
      "source": [
        "df_input.plot(kind='density', subplots=True, layout=(3,3), sharex=False)\n",
        "plt.show()"
      ],
      "execution_count": 47,
      "outputs": [
        {
          "output_type": "display_data",
          "data": {
            "image/png": "[encoded data removed]",
            "text/plain": [
              "<Figure size 720x576 with 9 Axes>"
            ]
          },
          "metadata": {
            "tags": [],
            "needs_background": "light"
          }
        }
      ]
    },
    {
      "cell_type": "code",
      "metadata": {
        "id": "gdnkSpWaENYQ"
      },
      "source": [
        "scaler = MinMaxScaler(feature_range=(0, 1))\n",
        "data_scaled = scaler.fit_transform(df_input)"
      ],
      "execution_count": 13,
      "outputs": []
    },
    {
      "cell_type": "code",
      "metadata": {
        "id": "rCY48qWVESHY",
        "colab": {
          "base_uri": "https://localhost:8080/"
        },
        "outputId": "6e03bfed-9724-43c1-c4da-37d3b15f8561"
      },
      "source": [
        "data_scaled"
      ],
      "execution_count": 14,
      "outputs": [
        {
          "output_type": "execute_result",
          "data": {
            "text/plain": [
              "array([[0.44303797, 0.39130435, 0.65384615, 0.58602151],\n",
              "       [0.44303797, 0.32608696, 0.69230769, 0.49462366],\n",
              "       [0.44303797, 0.2826087 , 0.76923077, 0.58602151],\n",
              "       ...,\n",
              "       [0.32911392, 0.43478261, 0.92307692, 0.5483871 ],\n",
              "       [0.32911392, 0.52173913, 1.        , 0.54301075],\n",
              "       [0.35443038, 0.63043478, 0.84615385, 0.52150538]])"
            ]
          },
          "metadata": {
            "tags": []
          },
          "execution_count": 14
        }
      ]
    },
    {
      "cell_type": "code",
      "metadata": {
        "id": "IEZuMY99zfLU"
      },
      "source": [
        "features=data_scaled\n",
        "target=data_scaled[:,0]"
      ],
      "execution_count": 15,
      "outputs": []
    },
    {
      "cell_type": "code",
      "metadata": {
        "id": "1Ag5wZCs9ZFY",
        "colab": {
          "base_uri": "https://localhost:8080/"
        },
        "outputId": "cf576589-c89c-4215-e9d6-27f22103bfed"
      },
      "source": [
        "TimeseriesGenerator(features, target, length=2, sampling_rate=1, batch_size=1)[0]"
      ],
      "execution_count": 16,
      "outputs": [
        {
          "output_type": "execute_result",
          "data": {
            "text/plain": [
              "(array([[[0.44303797, 0.39130435, 0.65384615, 0.58602151],\n",
              "         [0.44303797, 0.32608696, 0.69230769, 0.49462366]]]),\n",
              " array([0.44303797]))"
            ]
          },
          "metadata": {
            "tags": []
          },
          "execution_count": 16
        }
      ]
    },
    {
      "cell_type": "code",
      "metadata": {
        "id": "l3D7t9UA4Juf"
      },
      "source": [
        "x_train, x_test, y_train, y_test = train_test_split(features, target, test_size=0.20, random_state=123, shuffle = False)"
      ],
      "execution_count": 17,
      "outputs": []
    },
    {
      "cell_type": "code",
      "metadata": {
        "id": "DLv-nf0rFlLw",
        "colab": {
          "base_uri": "https://localhost:8080/"
        },
        "outputId": "209f7d2b-8828-45d2-b0d9-9e56ed7c656a"
      },
      "source": [
        "x_train.shape"
      ],
      "execution_count": 18,
      "outputs": [
        {
          "output_type": "execute_result",
          "data": {
            "text/plain": [
              "(3259, 4)"
            ]
          },
          "metadata": {
            "tags": []
          },
          "execution_count": 18
        }
      ]
    },
    {
      "cell_type": "code",
      "metadata": {
        "id": "Ez0G67QwK_aW",
        "colab": {
          "base_uri": "https://localhost:8080/"
        },
        "outputId": "369b89fb-3fbd-48a4-a8ca-4fadec6751a0"
      },
      "source": [
        "x_test.shape"
      ],
      "execution_count": 19,
      "outputs": [
        {
          "output_type": "execute_result",
          "data": {
            "text/plain": [
              "(815, 4)"
            ]
          },
          "metadata": {
            "tags": []
          },
          "execution_count": 19
        }
      ]
    },
    {
      "cell_type": "code",
      "metadata": {
        "id": "XAR9vd-n1MIK"
      },
      "source": [
        "win_length=500\n",
        "batch_size=11\n",
        "num_features=4\n",
        "train_generator = tf.keras.preprocessing.sequence.TimeseriesGenerator(x_train, y_train, length=win_length, sampling_rate=1, batch_size=batch_size)\n",
        "test_generator = tf.keras.preprocessing.sequence.TimeseriesGenerator(x_test, y_test, length=win_length, sampling_rate=1, batch_size=batch_size)"
      ],
      "execution_count": 20,
      "outputs": []
    },
    {
      "cell_type": "code",
      "metadata": {
        "id": "YW4H0bXV2NwA"
      },
      "source": [
        "train_generator[0]"
      ],
      "execution_count": null,
      "outputs": []
    },
    {
      "cell_type": "code",
      "metadata": {
        "id": "P8AvmYYcNyOR"
      },
      "source": [
        "METRICS = [\n",
        "      keras.metrics.TruePositives(name='tp'),\n",
        "      keras.metrics.FalsePositives(name='fp'),\n",
        "      keras.metrics.TrueNegatives(name='tn'),\n",
        "      keras.metrics.FalseNegatives(name='fn'), \n",
        "      keras.metrics.BinaryAccuracy(name='accuracy'),\n",
        "      keras.metrics.Precision(name='precision'),\n",
        "      keras.metrics.Recall(name='recall'),\n",
        "      keras.metrics.AUC(name='auc'),\n",
        "]\n",
        "\n",
        "model = tf.keras.Sequential()\n",
        "model.add(tf.keras.layers.LSTM(128, input_shape= (win_length, num_features), return_sequences=True))\n",
        "model.add(tf.keras.layers.LeakyReLU(alpha=0.5)) \n",
        "model.add(tf.keras.layers.Dropout(0.9)) \n",
        "model.add(tf.keras.layers.LSTM(128, return_sequences=False))\n",
        "model.add(tf.keras.layers.Dropout(0.9)) \n",
        "model.add(tf.keras.layers.Dense(1))\n",
        "\n",
        "model.compile(loss='mse', optimizer='adam', metrics=METRICS)"
      ],
      "execution_count": 22,
      "outputs": []
    },
    {
      "cell_type": "code",
      "metadata": {
        "id": "2dQ-DlXiLswo",
        "colab": {
          "base_uri": "https://localhost:8080/"
        },
        "outputId": "3019a9f0-aa2f-499a-8550-542c4bdb7e3c"
      },
      "source": [
        "model.summary()"
      ],
      "execution_count": 23,
      "outputs": [
        {
          "output_type": "stream",
          "text": [
            "Model: \"sequential\"\n",
            "_________________________________________________________________\n",
            "Layer (type)                 Output Shape              Param #   \n",
            "=================================================================\n",
            "lstm (LSTM)                  (None, 500, 128)          68096     \n",
            "_________________________________________________________________\n",
            "leaky_re_lu (LeakyReLU)      (None, 500, 128)          0         \n",
            "_________________________________________________________________\n",
            "dropout (Dropout)            (None, 500, 128)          0         \n",
            "_________________________________________________________________\n",
            "lstm_1 (LSTM)                (None, 128)               131584    \n",
            "_________________________________________________________________\n",
            "dropout_1 (Dropout)          (None, 128)               0         \n",
            "_________________________________________________________________\n",
            "dense (Dense)                (None, 1)                 129       \n",
            "=================================================================\n",
            "Total params: 199,809\n",
            "Trainable params: 199,809\n",
            "Non-trainable params: 0\n",
            "_________________________________________________________________\n"
          ],
          "name": "stdout"
        }
      ]
    },
    {
      "cell_type": "code",
      "metadata": {
        "id": "JHnl-d8824y0",
        "colab": {
          "base_uri": "https://localhost:8080/"
        },
        "outputId": "00454ad2-e8df-4f78-b37b-75671d7f591e"
      },
      "source": [
        "early_stopping = tf.keras.callbacks.EarlyStopping(monitor='val_loss',\n",
        "                                                    patience=2,\n",
        "                                                    mode='min')\n",
        "\n",
        "model.compile(loss=tf.losses.MeanSquaredError(),\n",
        "              optimizer=tf.optimizers.Adam(),\n",
        "              metrics=[tf.metrics.MeanAbsoluteError()])\n",
        "\n",
        "history = model.fit(train_generator, epochs=50,\n",
        "                    validation_data=test_generator,\n",
        "                    shuffle=False,\n",
        "                    callbacks=[early_stopping])\n",
        "\n"
      ],
      "execution_count": 24,
      "outputs": [
        {
          "output_type": "stream",
          "text": [
            "Epoch 1/50\n",
            "251/251 [==============================] - 19s 42ms/step - loss: 0.0422 - mean_absolute_error: 0.1493 - val_loss: 0.0285 - val_mean_absolute_error: 0.1626\n",
            "Epoch 2/50\n",
            "251/251 [==============================] - 10s 39ms/step - loss: 0.0241 - mean_absolute_error: 0.1160 - val_loss: 0.0293 - val_mean_absolute_error: 0.1660\n",
            "Epoch 3/50\n",
            "251/251 [==============================] - 10s 40ms/step - loss: 0.0236 - mean_absolute_error: 0.1141 - val_loss: 0.0187 - val_mean_absolute_error: 0.1307\n",
            "Epoch 4/50\n",
            "251/251 [==============================] - 10s 39ms/step - loss: 0.0197 - mean_absolute_error: 0.1022 - val_loss: 0.0101 - val_mean_absolute_error: 0.0929\n",
            "Epoch 5/50\n",
            "251/251 [==============================] - 10s 39ms/step - loss: 0.0158 - mean_absolute_error: 0.0920 - val_loss: 0.0060 - val_mean_absolute_error: 0.0684\n",
            "Epoch 6/50\n",
            "251/251 [==============================] - 10s 39ms/step - loss: 0.0140 - mean_absolute_error: 0.0882 - val_loss: 0.0086 - val_mean_absolute_error: 0.0850\n",
            "Epoch 7/50\n",
            "251/251 [==============================] - 10s 40ms/step - loss: 0.0136 - mean_absolute_error: 0.0858 - val_loss: 0.0030 - val_mean_absolute_error: 0.0451\n",
            "Epoch 8/50\n",
            "251/251 [==============================] - 10s 40ms/step - loss: 0.0114 - mean_absolute_error: 0.0793 - val_loss: 0.0023 - val_mean_absolute_error: 0.0394\n",
            "Epoch 9/50\n",
            "251/251 [==============================] - 10s 40ms/step - loss: 0.0109 - mean_absolute_error: 0.0779 - val_loss: 0.0024 - val_mean_absolute_error: 0.0403\n",
            "Epoch 10/50\n",
            "251/251 [==============================] - 10s 39ms/step - loss: 0.0106 - mean_absolute_error: 0.0764 - val_loss: 0.0024 - val_mean_absolute_error: 0.0401\n"
          ],
          "name": "stdout"
        }
      ]
    },
    {
      "cell_type": "code",
      "metadata": {
        "id": "G4q1O2Hw5tXI",
        "colab": {
          "base_uri": "https://localhost:8080/"
        },
        "outputId": "3d34eb50-eed2-4a56-c566-c805218ea65e"
      },
      "source": [
        "model.evaluate_generator(test_generator, verbose=0)  "
      ],
      "execution_count": 25,
      "outputs": [
        {
          "output_type": "stream",
          "text": [
            "/usr/local/lib/python3.7/dist-packages/tensorflow/python/keras/engine/training.py:1973: UserWarning: `Model.evaluate_generator` is deprecated and will be removed in a future version. Please use `Model.evaluate`, which supports generators.\n",
            "  warnings.warn('`Model.evaluate_generator` is deprecated and '\n"
          ],
          "name": "stderr"
        },
        {
          "output_type": "execute_result",
          "data": {
            "text/plain": [
              "[0.002405670704320073, 0.04011694714426994]"
            ]
          },
          "metadata": {
            "tags": []
          },
          "execution_count": 25
        }
      ]
    },
    {
      "cell_type": "code",
      "metadata": {
        "id": "jtQXz-tN722p",
        "colab": {
          "base_uri": "https://localhost:8080/",
          "height": 295
        },
        "outputId": "9d64537b-665d-4f51-f1dc-fcab97f49d05"
      },
      "source": [
        "plt.figure(figsize=(8,4))\n",
        "plt.plot(history.history['loss'], label='Train Loss')\n",
        "plt.plot(history.history['val_loss'], label='Test Loss')\n",
        "plt.title('model loss')\n",
        "plt.ylabel('loss')\n",
        "plt.xlabel('epochs')\n",
        "plt.legend(loc='upper right')\n",
        "plt.show();"
      ],
      "execution_count": 26,
      "outputs": [
        {
          "output_type": "display_data",
          "data": {
            "image/png": "[encoded data removed]",
            "text/plain": [
              "<Figure size 576x288 with 1 Axes>"
            ]
          },
          "metadata": {
            "tags": [],
            "needs_background": "light"
          }
        }
      ]
    },
    {
      "cell_type": "code",
      "metadata": {
        "id": "Wx6HG0ZjXodP",
        "colab": {
          "base_uri": "https://localhost:8080/"
        },
        "outputId": "b2592d0c-7a14-4f3a-8163-cea3a8dabf8e"
      },
      "source": [
        "predictions=model.predict_generator(test_generator)"
      ],
      "execution_count": 27,
      "outputs": [
        {
          "output_type": "stream",
          "text": [
            "/usr/local/lib/python3.7/dist-packages/tensorflow/python/keras/engine/training.py:2001: UserWarning: `Model.predict_generator` is deprecated and will be removed in a future version. Please use `Model.predict`, which supports generators.\n",
            "  warnings.warn('`Model.predict_generator` is deprecated and '\n"
          ],
          "name": "stderr"
        }
      ]
    },
    {
      "cell_type": "code",
      "metadata": {
        "id": "kEoR4K3pYDnR",
        "colab": {
          "base_uri": "https://localhost:8080/"
        },
        "outputId": "f3aed65f-3b80-4da4-cd5e-a525d827ba06"
      },
      "source": [
        "predictions.shape[0]"
      ],
      "execution_count": 28,
      "outputs": [
        {
          "output_type": "execute_result",
          "data": {
            "text/plain": [
              "315"
            ]
          },
          "metadata": {
            "tags": []
          },
          "execution_count": 28
        }
      ]
    },
    {
      "cell_type": "code",
      "metadata": {
        "id": "GMC2ewo0YRDW",
        "colab": {
          "base_uri": "https://localhost:8080/"
        },
        "outputId": "754fea13-8026-4e11-b88e-1d967a6c5de9"
      },
      "source": [
        "predictions"
      ],
      "execution_count": 29,
      "outputs": [
        {
          "output_type": "execute_result",
          "data": {
            "text/plain": [
              "array([[0.3056735 ],\n",
              "       [0.30256963],\n",
              "       [0.29159772],\n",
              "       [0.2783153 ],\n",
              "       [0.26461196],\n",
              "       [0.25291765],\n",
              "       [0.24613908],\n",
              "       [0.24167168],\n",
              "       [0.2438594 ],\n",
              "       [0.25028458],\n",
              "       [0.25894317],\n",
              "       [0.26848066],\n",
              "       [0.27863508],\n",
              "       [0.2897514 ],\n",
              "       [0.30086094],\n",
              "       [0.30820793],\n",
              "       [0.31016323],\n",
              "       [0.30891657],\n",
              "       [0.30665338],\n",
              "       [0.30165452],\n",
              "       [0.29589957],\n",
              "       [0.29337898],\n",
              "       [0.29148367],\n",
              "       [0.28762165],\n",
              "       [0.28449038],\n",
              "       [0.28043956],\n",
              "       [0.27807227],\n",
              "       [0.27570978],\n",
              "       [0.27501363],\n",
              "       [0.27330133],\n",
              "       [0.27408957],\n",
              "       [0.2748316 ],\n",
              "       [0.27779528],\n",
              "       [0.28100982],\n",
              "       [0.2838975 ],\n",
              "       [0.2818538 ],\n",
              "       [0.27465534],\n",
              "       [0.2660721 ],\n",
              "       [0.25782686],\n",
              "       [0.25297302],\n",
              "       [0.2536767 ],\n",
              "       [0.25937426],\n",
              "       [0.25867593],\n",
              "       [0.25527367],\n",
              "       [0.2534322 ],\n",
              "       [0.25323582],\n",
              "       [0.2533181 ],\n",
              "       [0.25642207],\n",
              "       [0.2578084 ],\n",
              "       [0.25664765],\n",
              "       [0.25982022],\n",
              "       [0.26716024],\n",
              "       [0.27402258],\n",
              "       [0.2803209 ],\n",
              "       [0.28688896],\n",
              "       [0.28977117],\n",
              "       [0.28912216],\n",
              "       [0.28684106],\n",
              "       [0.27966177],\n",
              "       [0.2705625 ],\n",
              "       [0.25976276],\n",
              "       [0.25281897],\n",
              "       [0.24717852],\n",
              "       [0.24160987],\n",
              "       [0.24113548],\n",
              "       [0.24920578],\n",
              "       [0.26609662],\n",
              "       [0.28553954],\n",
              "       [0.2992023 ],\n",
              "       [0.3041115 ],\n",
              "       [0.30276322],\n",
              "       [0.30318293],\n",
              "       [0.30843684],\n",
              "       [0.31144905],\n",
              "       [0.30985487],\n",
              "       [0.3060847 ],\n",
              "       [0.3036939 ],\n",
              "       [0.29990014],\n",
              "       [0.29110998],\n",
              "       [0.28105906],\n",
              "       [0.27701256],\n",
              "       [0.28278935],\n",
              "       [0.28411794],\n",
              "       [0.28084815],\n",
              "       [0.27720407],\n",
              "       [0.2770639 ],\n",
              "       [0.2783305 ],\n",
              "       [0.28121924],\n",
              "       [0.2875976 ],\n",
              "       [0.28956345],\n",
              "       [0.29172403],\n",
              "       [0.2962337 ],\n",
              "       [0.30667198],\n",
              "       [0.322139  ],\n",
              "       [0.33834463],\n",
              "       [0.34073842],\n",
              "       [0.3335424 ],\n",
              "       [0.3202613 ],\n",
              "       [0.30682793],\n",
              "       [0.294381  ],\n",
              "       [0.28342825],\n",
              "       [0.2718896 ],\n",
              "       [0.2601059 ],\n",
              "       [0.24810761],\n",
              "       [0.23413551],\n",
              "       [0.22026028],\n",
              "       [0.20890763],\n",
              "       [0.19997647],\n",
              "       [0.1930985 ],\n",
              "       [0.18994924],\n",
              "       [0.18894878],\n",
              "       [0.18593949],\n",
              "       [0.18305516],\n",
              "       [0.18135265],\n",
              "       [0.17979828],\n",
              "       [0.17986031],\n",
              "       [0.18024442],\n",
              "       [0.18000507],\n",
              "       [0.18017441],\n",
              "       [0.18088631],\n",
              "       [0.18197602],\n",
              "       [0.18165629],\n",
              "       [0.18110399],\n",
              "       [0.18005086],\n",
              "       [0.17894985],\n",
              "       [0.1785076 ],\n",
              "       [0.17742318],\n",
              "       [0.17984761],\n",
              "       [0.18442765],\n",
              "       [0.18435615],\n",
              "       [0.18597572],\n",
              "       [0.18704796],\n",
              "       [0.1896036 ],\n",
              "       [0.1919497 ],\n",
              "       [0.19321978],\n",
              "       [0.19185345],\n",
              "       [0.19277243],\n",
              "       [0.1980104 ],\n",
              "       [0.20751844],\n",
              "       [0.21966499],\n",
              "       [0.22861975],\n",
              "       [0.23462029],\n",
              "       [0.23365332],\n",
              "       [0.22725901],\n",
              "       [0.22032323],\n",
              "       [0.21394585],\n",
              "       [0.20702377],\n",
              "       [0.2006727 ],\n",
              "       [0.19767791],\n",
              "       [0.19797553],\n",
              "       [0.20112044],\n",
              "       [0.21313624],\n",
              "       [0.22499597],\n",
              "       [0.23446931],\n",
              "       [0.24093908],\n",
              "       [0.24963957],\n",
              "       [0.26342294],\n",
              "       [0.27314508],\n",
              "       [0.27437764],\n",
              "       [0.27242044],\n",
              "       [0.26839983],\n",
              "       [0.26498163],\n",
              "       [0.26486236],\n",
              "       [0.26480258],\n",
              "       [0.26395297],\n",
              "       [0.26016408],\n",
              "       [0.25511765],\n",
              "       [0.2540098 ],\n",
              "       [0.25212163],\n",
              "       [0.24907406],\n",
              "       [0.24566782],\n",
              "       [0.243019  ],\n",
              "       [0.23770072],\n",
              "       [0.23448975],\n",
              "       [0.23271221],\n",
              "       [0.23116979],\n",
              "       [0.23159707],\n",
              "       [0.2324239 ],\n",
              "       [0.23359066],\n",
              "       [0.23674251],\n",
              "       [0.23875375],\n",
              "       [0.24049431],\n",
              "       [0.243976  ],\n",
              "       [0.2474771 ],\n",
              "       [0.25043082],\n",
              "       [0.25014138],\n",
              "       [0.25012693],\n",
              "       [0.252303  ],\n",
              "       [0.25560123],\n",
              "       [0.26073104],\n",
              "       [0.26585522],\n",
              "       [0.2671172 ],\n",
              "       [0.26755518],\n",
              "       [0.26857626],\n",
              "       [0.27157417],\n",
              "       [0.27689216],\n",
              "       [0.28004608],\n",
              "       [0.28264084],\n",
              "       [0.28333294],\n",
              "       [0.27943954],\n",
              "       [0.2720411 ],\n",
              "       [0.26330218],\n",
              "       [0.25444508],\n",
              "       [0.2457572 ],\n",
              "       [0.2421141 ],\n",
              "       [0.24001233],\n",
              "       [0.23820305],\n",
              "       [0.2382488 ],\n",
              "       [0.24356827],\n",
              "       [0.24840271],\n",
              "       [0.25009236],\n",
              "       [0.25228697],\n",
              "       [0.25501782],\n",
              "       [0.25653243],\n",
              "       [0.25795326],\n",
              "       [0.2588813 ],\n",
              "       [0.25756037],\n",
              "       [0.25666243],\n",
              "       [0.25447094],\n",
              "       [0.25342086],\n",
              "       [0.25511664],\n",
              "       [0.25965422],\n",
              "       [0.2645261 ],\n",
              "       [0.26826438],\n",
              "       [0.27221534],\n",
              "       [0.2741746 ],\n",
              "       [0.27546352],\n",
              "       [0.27902335],\n",
              "       [0.2815383 ],\n",
              "       [0.28264654],\n",
              "       [0.28034753],\n",
              "       [0.27817953],\n",
              "       [0.27871615],\n",
              "       [0.27928644],\n",
              "       [0.27639744],\n",
              "       [0.27142295],\n",
              "       [0.26803368],\n",
              "       [0.2657628 ],\n",
              "       [0.26241276],\n",
              "       [0.2617131 ],\n",
              "       [0.2616138 ],\n",
              "       [0.2615345 ],\n",
              "       [0.2590111 ],\n",
              "       [0.25714108],\n",
              "       [0.25408232],\n",
              "       [0.25157   ],\n",
              "       [0.24926609],\n",
              "       [0.2473031 ],\n",
              "       [0.24732445],\n",
              "       [0.24794355],\n",
              "       [0.24940746],\n",
              "       [0.24990915],\n",
              "       [0.25155097],\n",
              "       [0.252012  ],\n",
              "       [0.2518863 ],\n",
              "       [0.25140893],\n",
              "       [0.2513197 ],\n",
              "       [0.25150377],\n",
              "       [0.25141197],\n",
              "       [0.25203976],\n",
              "       [0.25578225],\n",
              "       [0.25899786],\n",
              "       [0.26035684],\n",
              "       [0.2612242 ],\n",
              "       [0.26185763],\n",
              "       [0.26299533],\n",
              "       [0.26363587],\n",
              "       [0.26429194],\n",
              "       [0.26372242],\n",
              "       [0.25979212],\n",
              "       [0.25564036],\n",
              "       [0.25385115],\n",
              "       [0.25458133],\n",
              "       [0.25719926],\n",
              "       [0.26201913],\n",
              "       [0.26558492],\n",
              "       [0.2699981 ],\n",
              "       [0.2716932 ],\n",
              "       [0.27248603],\n",
              "       [0.27202827],\n",
              "       [0.2721905 ],\n",
              "       [0.2729363 ],\n",
              "       [0.26933014],\n",
              "       [0.26473317],\n",
              "       [0.25748628],\n",
              "       [0.25126848],\n",
              "       [0.24645963],\n",
              "       [0.24373227],\n",
              "       [0.2417557 ],\n",
              "       [0.24070236],\n",
              "       [0.23763837],\n",
              "       [0.23648474],\n",
              "       [0.23596516],\n",
              "       [0.2348597 ],\n",
              "       [0.23878355],\n",
              "       [0.2427759 ],\n",
              "       [0.2482624 ],\n",
              "       [0.25486887],\n",
              "       [0.2588873 ],\n",
              "       [0.26218253],\n",
              "       [0.268583  ],\n",
              "       [0.27501664],\n",
              "       [0.28002465],\n",
              "       [0.2870649 ],\n",
              "       [0.29366434],\n",
              "       [0.3004508 ],\n",
              "       [0.3032763 ],\n",
              "       [0.30185372],\n",
              "       [0.29998595],\n",
              "       [0.29912588],\n",
              "       [0.30132344],\n",
              "       [0.30136985],\n",
              "       [0.3010436 ],\n",
              "       [0.29644346],\n",
              "       [0.2875587 ]], dtype=float32)"
            ]
          },
          "metadata": {
            "tags": []
          },
          "execution_count": 29
        }
      ]
    },
    {
      "cell_type": "code",
      "metadata": {
        "id": "dzQB2PtOYeMy",
        "colab": {
          "base_uri": "https://localhost:8080/"
        },
        "outputId": "a5fae41d-4482-4fe3-bac3-07430ed6a613"
      },
      "source": [
        "y_test"
      ],
      "execution_count": 30,
      "outputs": [
        {
          "output_type": "execute_result",
          "data": {
            "text/plain": [
              "array([0.12658228, 0.07594937, 0.08860759, 0.12658228, 0.08860759,\n",
              "       0.10126582, 0.13924051, 0.11392405, 0.11392405, 0.11392405,\n",
              "       0.07594937, 0.05063291, 0.08860759, 0.06329114, 0.10126582,\n",
              "       0.10126582, 0.07594937, 0.07594937, 0.05063291, 0.03797468,\n",
              "       0.06329114, 0.06329114, 0.06329114, 0.05063291, 0.03797468,\n",
              "       0.06329114, 0.03797468, 0.06329114, 0.02531646, 0.03797468,\n",
              "       0.03797468, 0.03797468, 0.02531646, 0.01265823, 0.01265823,\n",
              "       0.01265823, 0.07594937, 0.10126582, 0.11392405, 0.26582278,\n",
              "       0.2278481 , 0.17721519, 0.2278481 , 0.18987342, 0.10126582,\n",
              "       0.08860759, 0.11392405, 0.10126582, 0.10126582, 0.11392405,\n",
              "       0.07594937, 0.11392405, 0.10126582, 0.11392405, 0.08860759,\n",
              "       0.10126582, 0.08860759, 0.11392405, 0.13924051, 0.12658228,\n",
              "       0.10126582, 0.10126582, 0.10126582, 0.10126582, 0.11392405,\n",
              "       0.15189873, 0.21518987, 0.20253165, 0.2278481 , 0.20253165,\n",
              "       0.18987342, 0.15189873, 0.17721519, 0.20253165, 0.24050633,\n",
              "       0.21518987, 0.2278481 , 0.18987342, 0.20253165, 0.20253165,\n",
              "       0.17721519, 0.16455696, 0.21518987, 0.20253165, 0.24050633,\n",
              "       0.25316456, 0.20253165, 0.21518987, 0.24050633, 0.20253165,\n",
              "       0.25316456, 0.26582278, 0.25316456, 0.27848101, 0.30379747,\n",
              "       0.32911392, 0.3164557 , 0.30379747, 0.35443038, 0.30379747,\n",
              "       0.26582278, 0.25316456, 0.2278481 , 0.17721519, 0.2278481 ,\n",
              "       0.25316456, 0.30379747, 0.30379747, 0.27848101, 0.27848101,\n",
              "       0.30379747, 0.29113924, 0.24050633, 0.2278481 , 0.26582278,\n",
              "       0.25316456, 0.24050633, 0.2278481 , 0.2278481 , 0.2278481 ,\n",
              "       0.2278481 , 0.24050633, 0.21518987, 0.21518987, 0.2278481 ,\n",
              "       0.26582278, 0.24050633, 0.25316456, 0.24050633, 0.27848101,\n",
              "       0.27848101, 0.26582278, 0.27848101, 0.27848101, 0.27848101,\n",
              "       0.24050633, 0.30379747, 0.34177215, 0.30379747, 0.32911392,\n",
              "       0.24050633, 0.2278481 , 0.24050633, 0.25316456, 0.21518987,\n",
              "       0.29113924, 0.27848101, 0.29113924, 0.34177215, 0.35443038,\n",
              "       0.40506329, 0.3164557 , 0.30379747, 0.24050633, 0.25316456,\n",
              "       0.18987342, 0.17721519, 0.16455696, 0.20253165, 0.16455696,\n",
              "       0.10126582, 0.15189873, 0.18987342, 0.18987342, 0.18987342,\n",
              "       0.20253165, 0.18987342, 0.2278481 , 0.21518987, 0.18987342,\n",
              "       0.17721519, 0.18987342, 0.24050633, 0.24050633, 0.2278481 ,\n",
              "       0.20253165, 0.21518987, 0.18987342, 0.2278481 , 0.25316456,\n",
              "       0.20253165, 0.17721519, 0.12658228, 0.08860759, 0.12658228,\n",
              "       0.12658228, 0.07594937, 0.10126582, 0.11392405, 0.10126582,\n",
              "       0.08860759, 0.11392405, 0.11392405, 0.10126582, 0.10126582,\n",
              "       0.07594937, 0.08860759, 0.08860759, 0.10126582, 0.08860759,\n",
              "       0.07594937, 0.08860759, 0.07594937, 0.07594937, 0.05063291,\n",
              "       0.07594937, 0.06329114, 0.05063291, 0.08860759, 0.10126582,\n",
              "       0.12658228, 0.07594937, 0.12658228, 0.17721519, 0.16455696,\n",
              "       0.11392405, 0.16455696, 0.13924051, 0.15189873, 0.13924051,\n",
              "       0.17721519, 0.08860759, 0.12658228, 0.12658228, 0.08860759,\n",
              "       0.12658228, 0.10126582, 0.12658228, 0.11392405, 0.12658228,\n",
              "       0.13924051, 0.11392405, 0.13924051, 0.12658228, 0.16455696,\n",
              "       0.15189873, 0.11392405, 0.11392405, 0.12658228, 0.10126582,\n",
              "       0.11392405, 0.12658228, 0.12658228, 0.11392405, 0.11392405,\n",
              "       0.11392405, 0.11392405, 0.10126582, 0.08860759, 0.06329114,\n",
              "       0.07594937, 0.10126582, 0.15189873, 0.12658228, 0.16455696,\n",
              "       0.16455696, 0.16455696, 0.16455696, 0.13924051, 0.11392405,\n",
              "       0.15189873, 0.15189873, 0.10126582, 0.15189873, 0.11392405,\n",
              "       0.12658228, 0.11392405, 0.12658228, 0.17721519, 0.10126582,\n",
              "       0.11392405, 0.15189873, 0.13924051, 0.13924051, 0.13924051,\n",
              "       0.13924051, 0.16455696, 0.17721519, 0.15189873, 0.15189873,\n",
              "       0.16455696, 0.17721519, 0.18987342, 0.17721519, 0.17721519,\n",
              "       0.17721519, 0.18987342, 0.17721519, 0.17721519, 0.15189873,\n",
              "       0.20253165, 0.21518987, 0.20253165, 0.27848101, 0.26582278,\n",
              "       0.29113924, 0.24050633, 0.2278481 , 0.25316456, 0.26582278,\n",
              "       0.26582278, 0.27848101, 0.26582278, 0.24050633, 0.25316456,\n",
              "       0.24050633, 0.27848101, 0.29113924, 0.27848101, 0.29113924,\n",
              "       0.25316456, 0.2278481 , 0.26582278, 0.29113924, 0.26582278,\n",
              "       0.30379747, 0.26582278, 0.29113924, 0.27848101, 0.24050633,\n",
              "       0.26582278, 0.21518987, 0.21518987, 0.2278481 , 0.27848101,\n",
              "       0.21518987, 0.21518987, 0.25316456, 0.25316456, 0.24050633,\n",
              "       0.25316456, 0.2278481 , 0.21518987, 0.2278481 , 0.20253165,\n",
              "       0.18987342, 0.20253165, 0.2278481 , 0.21518987, 0.2278481 ,\n",
              "       0.32911392, 0.50632911, 0.51898734, 0.44303797, 0.49367089,\n",
              "       0.44303797, 0.37974684, 0.35443038, 0.3164557 , 0.30379747,\n",
              "       0.29113924, 0.26582278, 0.26582278, 0.29113924, 0.27848101,\n",
              "       0.27848101, 0.27848101, 0.26582278, 0.26582278, 0.32911392,\n",
              "       0.34177215, 0.34177215, 0.39240506, 0.37974684, 0.3164557 ,\n",
              "       0.32911392, 0.32911392, 0.29113924, 0.29113924, 0.29113924,\n",
              "       0.24050633, 0.20253165, 0.20253165, 0.27848101, 0.29113924,\n",
              "       0.30379747, 0.27848101, 0.26582278, 0.26582278, 0.2278481 ,\n",
              "       0.21518987, 0.24050633, 0.2278481 , 0.25316456, 0.26582278,\n",
              "       0.26582278, 0.27848101, 0.27848101, 0.25316456, 0.26582278,\n",
              "       0.25316456, 0.25316456, 0.21518987, 0.26582278, 0.29113924,\n",
              "       0.27848101, 0.29113924, 0.2278481 , 0.21518987, 0.20253165,\n",
              "       0.21518987, 0.25316456, 0.25316456, 0.3164557 , 0.3164557 ,\n",
              "       0.25316456, 0.32911392, 0.3164557 , 0.29113924, 0.25316456,\n",
              "       0.30379747, 0.2278481 , 0.25316456, 0.26582278, 0.27848101,\n",
              "       0.3164557 , 0.25316456, 0.26582278, 0.2278481 , 0.26582278,\n",
              "       0.29113924, 0.32911392, 0.32911392, 0.32911392, 0.30379747,\n",
              "       0.30379747, 0.34177215, 0.36708861, 0.39240506, 0.41772152,\n",
              "       0.39240506, 0.39240506, 0.44303797, 0.48101266, 0.56962025,\n",
              "       0.49367089, 0.43037975, 0.36708861, 0.3164557 , 0.30379747,\n",
              "       0.30379747, 0.3164557 , 0.3164557 , 0.30379747, 0.3164557 ,\n",
              "       0.3164557 , 0.17721519, 0.17721519, 0.20253165, 0.17721519,\n",
              "       0.18987342, 0.18987342, 0.21518987, 0.24050633, 0.25316456,\n",
              "       0.27848101, 0.30379747, 0.3164557 , 0.26582278, 0.27848101,\n",
              "       0.26582278, 0.26582278, 0.29113924, 0.25316456, 0.26582278,\n",
              "       0.2278481 , 0.24050633, 0.24050633, 0.24050633, 0.25316456,\n",
              "       0.24050633, 0.29113924, 0.30379747, 0.26582278, 0.26582278,\n",
              "       0.25316456, 0.26582278, 0.25316456, 0.24050633, 0.29113924,\n",
              "       0.29113924, 0.30379747, 0.29113924, 0.30379747, 0.29113924,\n",
              "       0.29113924, 0.27848101, 0.27848101, 0.29113924, 0.30379747,\n",
              "       0.30379747, 0.29113924, 0.3164557 , 0.3164557 , 0.30379747,\n",
              "       0.34177215, 0.36708861, 0.41772152, 0.37974684, 0.34177215,\n",
              "       0.30379747, 0.26582278, 0.26582278, 0.25316456, 0.25316456,\n",
              "       0.29113924, 0.27848101, 0.32911392, 0.32911392, 0.32911392,\n",
              "       0.35443038, 0.34177215, 0.37974684, 0.40506329, 0.36708861,\n",
              "       0.34177215, 0.34177215, 0.34177215, 0.32911392, 0.32911392,\n",
              "       0.35443038, 0.34177215, 0.3164557 , 0.32911392, 0.3164557 ,\n",
              "       0.3164557 , 0.30379747, 0.32911392, 0.30379747, 0.32911392,\n",
              "       0.30379747, 0.32911392, 0.32911392, 0.32911392, 0.27848101,\n",
              "       0.25316456, 0.25316456, 0.25316456, 0.27848101, 0.3164557 ,\n",
              "       0.36708861, 0.27848101, 0.27848101, 0.27848101, 0.29113924,\n",
              "       0.27848101, 0.30379747, 0.29113924, 0.27848101, 0.32911392,\n",
              "       0.35443038, 0.34177215, 0.32911392, 0.35443038, 0.35443038,\n",
              "       0.3164557 , 0.3164557 , 0.27848101, 0.27848101, 0.26582278,\n",
              "       0.27848101, 0.25316456, 0.25316456, 0.29113924, 0.35443038,\n",
              "       0.35443038, 0.40506329, 0.37974684, 0.32911392, 0.32911392,\n",
              "       0.40506329, 0.41772152, 0.40506329, 0.36708861, 0.36708861,\n",
              "       0.37974684, 0.35443038, 0.3164557 , 0.30379747, 0.3164557 ,\n",
              "       0.35443038, 0.26582278, 0.25316456, 0.25316456, 0.29113924,\n",
              "       0.29113924, 0.30379747, 0.40506329, 0.32911392, 0.37974684,\n",
              "       0.39240506, 0.43037975, 0.4556962 , 0.34177215, 0.32911392,\n",
              "       0.3164557 , 0.3164557 , 0.34177215, 0.32911392, 0.3164557 ,\n",
              "       0.27848101, 0.26582278, 0.25316456, 0.2278481 , 0.21518987,\n",
              "       0.21518987, 0.20253165, 0.20253165, 0.21518987, 0.20253165,\n",
              "       0.16455696, 0.17721519, 0.17721519, 0.16455696, 0.16455696,\n",
              "       0.16455696, 0.15189873, 0.16455696, 0.16455696, 0.16455696,\n",
              "       0.15189873, 0.15189873, 0.15189873, 0.15189873, 0.16455696,\n",
              "       0.15189873, 0.20253165, 0.18987342, 0.13924051, 0.18987342,\n",
              "       0.17721519, 0.21518987, 0.20253165, 0.18987342, 0.17721519,\n",
              "       0.2278481 , 0.26582278, 0.26582278, 0.26582278, 0.24050633,\n",
              "       0.24050633, 0.21518987, 0.20253165, 0.20253165, 0.20253165,\n",
              "       0.20253165, 0.18987342, 0.21518987, 0.2278481 , 0.2278481 ,\n",
              "       0.29113924, 0.26582278, 0.25316456, 0.25316456, 0.26582278,\n",
              "       0.30379747, 0.30379747, 0.26582278, 0.27848101, 0.27848101,\n",
              "       0.27848101, 0.30379747, 0.29113924, 0.27848101, 0.26582278,\n",
              "       0.25316456, 0.3164557 , 0.27848101, 0.25316456, 0.25316456,\n",
              "       0.25316456, 0.2278481 , 0.26582278, 0.26582278, 0.25316456,\n",
              "       0.25316456, 0.25316456, 0.25316456, 0.29113924, 0.25316456,\n",
              "       0.27848101, 0.27848101, 0.26582278, 0.29113924, 0.25316456,\n",
              "       0.29113924, 0.3164557 , 0.30379747, 0.30379747, 0.29113924,\n",
              "       0.29113924, 0.29113924, 0.3164557 , 0.3164557 , 0.34177215,\n",
              "       0.32911392, 0.35443038, 0.34177215, 0.3164557 , 0.30379747,\n",
              "       0.29113924, 0.27848101, 0.26582278, 0.29113924, 0.27848101,\n",
              "       0.27848101, 0.29113924, 0.32911392, 0.29113924, 0.27848101,\n",
              "       0.30379747, 0.3164557 , 0.30379747, 0.3164557 , 0.30379747,\n",
              "       0.27848101, 0.27848101, 0.26582278, 0.30379747, 0.3164557 ,\n",
              "       0.3164557 , 0.29113924, 0.27848101, 0.30379747, 0.29113924,\n",
              "       0.3164557 , 0.3164557 , 0.32911392, 0.32911392, 0.30379747,\n",
              "       0.32911392, 0.35443038, 0.32911392, 0.30379747, 0.29113924,\n",
              "       0.3164557 , 0.3164557 , 0.29113924, 0.30379747, 0.30379747,\n",
              "       0.30379747, 0.27848101, 0.27848101, 0.26582278, 0.27848101,\n",
              "       0.27848101, 0.26582278, 0.27848101, 0.27848101, 0.27848101,\n",
              "       0.26582278, 0.29113924, 0.27848101, 0.27848101, 0.27848101,\n",
              "       0.27848101, 0.29113924, 0.27848101, 0.29113924, 0.3164557 ,\n",
              "       0.30379747, 0.30379747, 0.3164557 , 0.30379747, 0.30379747,\n",
              "       0.29113924, 0.29113924, 0.29113924, 0.26582278, 0.27848101,\n",
              "       0.30379747, 0.3164557 , 0.3164557 , 0.32911392, 0.3164557 ,\n",
              "       0.34177215, 0.30379747, 0.3164557 , 0.3164557 , 0.32911392,\n",
              "       0.32911392, 0.29113924, 0.29113924, 0.29113924, 0.3164557 ,\n",
              "       0.30379747, 0.30379747, 0.30379747, 0.29113924, 0.25316456,\n",
              "       0.27848101, 0.27848101, 0.26582278, 0.3164557 , 0.29113924,\n",
              "       0.32911392, 0.32911392, 0.30379747, 0.3164557 , 0.35443038,\n",
              "       0.32911392, 0.34177215, 0.37974684, 0.39240506, 0.39240506,\n",
              "       0.34177215, 0.35443038, 0.36708861, 0.39240506, 0.43037975,\n",
              "       0.39240506, 0.36708861, 0.32911392, 0.32911392, 0.35443038])"
            ]
          },
          "metadata": {
            "tags": []
          },
          "execution_count": 30
        }
      ]
    },
    {
      "cell_type": "code",
      "metadata": {
        "id": "tiw-WJ9f9OUV",
        "colab": {
          "base_uri": "https://localhost:8080/"
        },
        "outputId": "8023f6f5-6805-4d1c-e977-0599c0bd7af3"
      },
      "source": [
        "x_test"
      ],
      "execution_count": 31,
      "outputs": [
        {
          "output_type": "execute_result",
          "data": {
            "text/plain": [
              "array([[0.12658228, 0.17391304, 0.88461538, 0.4516129 ],\n",
              "       [0.07594937, 0.13043478, 0.88461538, 0.44623656],\n",
              "       [0.08860759, 0.10869565, 0.92307692, 0.44086022],\n",
              "       ...,\n",
              "       [0.32911392, 0.43478261, 0.92307692, 0.5483871 ],\n",
              "       [0.32911392, 0.52173913, 1.        , 0.54301075],\n",
              "       [0.35443038, 0.63043478, 0.84615385, 0.52150538]])"
            ]
          },
          "metadata": {
            "tags": []
          },
          "execution_count": 31
        }
      ]
    },
    {
      "cell_type": "code",
      "metadata": {
        "id": "3YhtkAbq7hGf",
        "colab": {
          "base_uri": "https://localhost:8080/"
        },
        "outputId": "8f59a653-38b2-4d79-97b0-da290feb02e9"
      },
      "source": [
        "x_test[:,1:][win_length:]"
      ],
      "execution_count": 32,
      "outputs": [
        {
          "output_type": "execute_result",
          "data": {
            "text/plain": [
              "array([[0.26086957, 0.92307692, 0.51612903],\n",
              "       [0.34782609, 0.96153846, 0.51075269],\n",
              "       [0.19565217, 0.96153846, 0.51075269],\n",
              "       [0.26086957, 0.92307692, 0.50537634],\n",
              "       [0.19565217, 0.92307692, 0.51075269],\n",
              "       [0.30434783, 0.92307692, 0.51075269],\n",
              "       [0.30434783, 0.96153846, 0.52150538],\n",
              "       [0.2826087 , 0.92307692, 0.53763441],\n",
              "       [0.32608696, 0.88461538, 0.53225806],\n",
              "       [0.19565217, 0.92307692, 0.5483871 ],\n",
              "       [0.34782609, 0.92307692, 0.54301075],\n",
              "       [0.06521739, 0.92307692, 0.54301075],\n",
              "       [0.2173913 , 0.92307692, 0.5483871 ],\n",
              "       [0.23913043, 0.96153846, 0.5483871 ],\n",
              "       [0.23913043, 0.92307692, 0.5483871 ],\n",
              "       [0.26086957, 0.92307692, 0.53763441],\n",
              "       [0.30434783, 0.88461538, 0.54301075],\n",
              "       [0.13043478, 0.92307692, 0.5483871 ],\n",
              "       [0.32608696, 0.92307692, 0.53225806],\n",
              "       [0.2826087 , 0.92307692, 0.55913978],\n",
              "       [0.13043478, 0.92307692, 0.54301075],\n",
              "       [0.26086957, 0.92307692, 0.54301075],\n",
              "       [0.32608696, 0.92307692, 0.53763441],\n",
              "       [0.23913043, 0.92307692, 0.53763441],\n",
              "       [0.34782609, 0.92307692, 0.52688172],\n",
              "       [0.19565217, 0.88461538, 0.53225806],\n",
              "       [0.19565217, 0.92307692, 0.53225806],\n",
              "       [0.26086957, 0.92307692, 0.52688172],\n",
              "       [0.2826087 , 0.92307692, 0.51612903],\n",
              "       [0.15217391, 0.92307692, 0.52688172],\n",
              "       [0.13043478, 0.92307692, 0.51612903],\n",
              "       [0.17391304, 0.88461538, 0.52150538],\n",
              "       [0.19565217, 0.92307692, 0.53225806],\n",
              "       [0.26086957, 0.88461538, 0.52150538],\n",
              "       [0.23913043, 0.92307692, 0.51612903],\n",
              "       [0.2826087 , 0.92307692, 0.50537634],\n",
              "       [0.15217391, 0.92307692, 0.50537634],\n",
              "       [0.17391304, 0.92307692, 0.51612903],\n",
              "       [0.15217391, 0.92307692, 0.51612903],\n",
              "       [0.2173913 , 0.92307692, 0.5483871 ],\n",
              "       [0.45652174, 0.92307692, 0.53763441],\n",
              "       [0.54347826, 0.96153846, 0.51612903],\n",
              "       [0.34782609, 0.96153846, 0.52150538],\n",
              "       [0.10869565, 0.92307692, 0.51612903],\n",
              "       [0.23913043, 0.92307692, 0.51612903],\n",
              "       [0.30434783, 0.88461538, 0.51612903],\n",
              "       [0.19565217, 0.88461538, 0.53763441],\n",
              "       [0.32608696, 0.96153846, 0.52688172],\n",
              "       [0.32608696, 0.96153846, 0.52150538],\n",
              "       [0.17391304, 0.92307692, 0.5483871 ],\n",
              "       [0.2173913 , 0.92307692, 0.5483871 ],\n",
              "       [0.34782609, 0.92307692, 0.54301075],\n",
              "       [0.2173913 , 0.88461538, 0.55376344],\n",
              "       [0.2826087 , 0.88461538, 0.55376344],\n",
              "       [0.52173913, 0.92307692, 0.52688172],\n",
              "       [0.26086957, 0.92307692, 0.53225806],\n",
              "       [0.2173913 , 0.92307692, 0.51612903],\n",
              "       [0.32608696, 0.96153846, 0.51612903],\n",
              "       [0.2826087 , 0.96153846, 0.51612903],\n",
              "       [0.36956522, 0.96153846, 0.51612903],\n",
              "       [0.10869565, 0.92307692, 0.51075269],\n",
              "       [0.17391304, 0.92307692, 0.50537634],\n",
              "       [0.19565217, 1.        , 0.50537634],\n",
              "       [0.17391304, 0.92307692, 0.50537634],\n",
              "       [0.32608696, 0.84615385, 0.50537634],\n",
              "       [0.2173913 , 0.65384615, 0.51075269],\n",
              "       [0.39130435, 0.80769231, 0.52688172],\n",
              "       [0.41304348, 0.92307692, 0.54301075],\n",
              "       [0.34782609, 0.92307692, 0.53763441],\n",
              "       [0.45652174, 0.88461538, 0.53763441],\n",
              "       [0.39130435, 0.92307692, 0.54301075],\n",
              "       [0.17391304, 0.88461538, 0.55913978],\n",
              "       [0.36956522, 1.        , 0.55376344],\n",
              "       [0.34782609, 1.        , 0.54301075],\n",
              "       [0.30434783, 1.        , 0.55913978],\n",
              "       [0.17391304, 1.        , 0.57526882],\n",
              "       [0.23913043, 1.        , 0.53225806],\n",
              "       [0.43478261, 1.        , 0.52150538],\n",
              "       [0.36956522, 0.92307692, 0.52150538],\n",
              "       [0.23913043, 0.73076923, 0.51075269],\n",
              "       [0.19565217, 0.61538462, 0.47311828],\n",
              "       [0.34782609, 0.73076923, 0.45698925],\n",
              "       [0.32608696, 0.76923077, 0.46774194],\n",
              "       [0.15217391, 0.73076923, 0.47311828],\n",
              "       [0.26086957, 0.69230769, 0.49462366],\n",
              "       [0.36956522, 0.69230769, 0.5       ],\n",
              "       [0.34782609, 0.69230769, 0.50537634],\n",
              "       [0.30434783, 0.96153846, 0.52150538],\n",
              "       [0.32608696, 0.96153846, 0.54301075],\n",
              "       [0.45652174, 0.92307692, 0.55376344],\n",
              "       [0.26086957, 0.92307692, 0.56451613],\n",
              "       [0.19565217, 0.84615385, 0.56989247],\n",
              "       [0.2173913 , 0.76923077, 0.55913978],\n",
              "       [0.36956522, 0.19230769, 0.39247312],\n",
              "       [0.23913043, 0.96153846, 0.53225806],\n",
              "       [0.30434783, 0.92307692, 0.53763441],\n",
              "       [0.32608696, 0.96153846, 0.53225806],\n",
              "       [0.32608696, 0.96153846, 0.5483871 ],\n",
              "       [0.34782609, 0.92307692, 0.53763441],\n",
              "       [0.30434783, 0.92307692, 0.52150538],\n",
              "       [0.30434783, 0.92307692, 0.50537634],\n",
              "       [0.34782609, 0.92307692, 0.51075269],\n",
              "       [0.39130435, 0.92307692, 0.49462366],\n",
              "       [0.45652174, 0.96153846, 0.49462366],\n",
              "       [0.32608696, 0.96153846, 0.48924731],\n",
              "       [0.34782609, 0.92307692, 0.48924731],\n",
              "       [0.30434783, 0.92307692, 0.48387097],\n",
              "       [0.32608696, 0.96153846, 0.48924731],\n",
              "       [0.26086957, 0.96153846, 0.48924731],\n",
              "       [0.23913043, 0.96153846, 0.47849462],\n",
              "       [0.30434783, 0.96153846, 0.47311828],\n",
              "       [0.2826087 , 0.96153846, 0.47849462],\n",
              "       [0.19565217, 0.96153846, 0.46774194],\n",
              "       [0.2173913 , 0.96153846, 0.47311828],\n",
              "       [0.13043478, 0.92307692, 0.46774194],\n",
              "       [0.19565217, 0.96153846, 0.46774194],\n",
              "       [0.23913043, 0.92307692, 0.46774194],\n",
              "       [0.26086957, 0.92307692, 0.46774194],\n",
              "       [0.2173913 , 0.92307692, 0.46774194],\n",
              "       [0.2173913 , 0.92307692, 0.46774194],\n",
              "       [0.2826087 , 0.92307692, 0.46236559],\n",
              "       [0.26086957, 0.88461538, 0.46236559],\n",
              "       [0.23913043, 0.92307692, 0.46236559],\n",
              "       [0.2173913 , 0.92307692, 0.46236559],\n",
              "       [0.19565217, 0.96153846, 0.45698925],\n",
              "       [0.23913043, 0.96153846, 0.47311828],\n",
              "       [0.15217391, 1.        , 0.46236559],\n",
              "       [0.2173913 , 0.92307692, 0.46236559],\n",
              "       [0.2173913 , 1.        , 0.46236559],\n",
              "       [0.17391304, 0.96153846, 0.46774194],\n",
              "       [0.2826087 , 0.96153846, 0.47311828],\n",
              "       [0.36956522, 0.96153846, 0.47311828],\n",
              "       [0.41304348, 0.92307692, 0.47849462],\n",
              "       [0.23913043, 0.96153846, 0.47311828],\n",
              "       [0.36956522, 0.96153846, 0.47311828],\n",
              "       [0.30434783, 1.        , 0.50537634],\n",
              "       [0.41304348, 0.96153846, 0.5       ],\n",
              "       [0.30434783, 0.88461538, 0.5       ],\n",
              "       [0.10869565, 0.92307692, 0.5       ],\n",
              "       [0.2173913 , 0.96153846, 0.48924731],\n",
              "       [0.15217391, 0.96153846, 0.48387097],\n",
              "       [0.39130435, 1.        , 0.48387097],\n",
              "       [0.32608696, 1.        , 0.48387097],\n",
              "       [0.06521739, 1.        , 0.48387097],\n",
              "       [0.2173913 , 0.96153846, 0.48387097],\n",
              "       [0.32608696, 1.        , 0.47849462],\n",
              "       [0.23913043, 0.96153846, 0.48387097],\n",
              "       [0.23913043, 0.96153846, 0.48924731],\n",
              "       [0.19565217, 1.        , 0.48924731],\n",
              "       [0.2826087 , 0.92307692, 0.48924731],\n",
              "       [0.23913043, 0.80769231, 0.48924731],\n",
              "       [0.2173913 , 0.96153846, 0.5       ],\n",
              "       [0.15217391, 0.96153846, 0.51075269],\n",
              "       [0.2826087 , 0.92307692, 0.51612903],\n",
              "       [0.19565217, 0.73076923, 0.51075269],\n",
              "       [0.2173913 , 0.65384615, 0.51612903],\n",
              "       [0.23913043, 0.92307692, 0.51612903],\n",
              "       [0.26086957, 1.        , 0.5       ],\n",
              "       [0.26086957, 0.92307692, 0.50537634],\n",
              "       [0.2173913 , 0.96153846, 0.5       ],\n",
              "       [0.13043478, 0.92307692, 0.5       ],\n",
              "       [0.17391304, 0.88461538, 0.5       ],\n",
              "       [0.15217391, 0.96153846, 0.51075269],\n",
              "       [0.13043478, 0.96153846, 0.51612903],\n",
              "       [0.32608696, 0.96153846, 0.51075269],\n",
              "       [0.30434783, 0.88461538, 0.5       ],\n",
              "       [0.2173913 , 0.96153846, 0.50537634],\n",
              "       [0.2173913 , 1.        , 0.50537634],\n",
              "       [0.15217391, 0.96153846, 0.5       ],\n",
              "       [0.17391304, 0.96153846, 0.5       ],\n",
              "       [0.10869565, 0.96153846, 0.5       ],\n",
              "       [0.23913043, 1.        , 0.48924731],\n",
              "       [0.17391304, 1.        , 0.5       ],\n",
              "       [0.23913043, 1.        , 0.50537634],\n",
              "       [0.2173913 , 1.        , 0.51075269],\n",
              "       [0.17391304, 0.92307692, 0.50537634],\n",
              "       [0.2173913 , 0.96153846, 0.50537634],\n",
              "       [0.17391304, 0.96153846, 0.5       ],\n",
              "       [0.32608696, 0.96153846, 0.51075269],\n",
              "       [0.17391304, 0.96153846, 0.51075269],\n",
              "       [0.34782609, 0.96153846, 0.51075269],\n",
              "       [0.2173913 , 0.88461538, 0.51075269],\n",
              "       [0.2173913 , 0.88461538, 0.51612903],\n",
              "       [0.30434783, 0.96153846, 0.52150538],\n",
              "       [0.23913043, 0.96153846, 0.52150538],\n",
              "       [0.2173913 , 1.        , 0.51075269],\n",
              "       [0.30434783, 0.96153846, 0.51612903],\n",
              "       [0.17391304, 0.96153846, 0.51612903],\n",
              "       [0.17391304, 0.88461538, 0.52150538],\n",
              "       [0.2173913 , 0.84615385, 0.52688172],\n",
              "       [0.34782609, 0.96153846, 0.51612903],\n",
              "       [0.17391304, 0.92307692, 0.52150538],\n",
              "       [0.2173913 , 0.96153846, 0.52688172],\n",
              "       [0.17391304, 0.88461538, 0.53225806],\n",
              "       [0.23913043, 0.88461538, 0.53763441],\n",
              "       [0.30434783, 0.96153846, 0.54301075],\n",
              "       [0.34782609, 0.96153846, 0.53763441],\n",
              "       [0.36956522, 0.96153846, 0.54301075],\n",
              "       [0.43478261, 1.        , 0.53763441],\n",
              "       [0.43478261, 1.        , 0.52688172],\n",
              "       [0.30434783, 1.        , 0.51075269],\n",
              "       [0.26086957, 1.        , 0.51075269],\n",
              "       [0.34782609, 0.96153846, 0.51075269],\n",
              "       [0.19565217, 0.92307692, 0.51075269],\n",
              "       [0.30434783, 0.96153846, 0.51075269],\n",
              "       [0.39130435, 0.96153846, 0.50537634],\n",
              "       [0.32608696, 0.96153846, 0.52688172],\n",
              "       [0.10869565, 1.        , 0.53763441],\n",
              "       [0.26086957, 0.96153846, 0.52150538],\n",
              "       [0.30434783, 1.        , 0.51612903],\n",
              "       [0.19565217, 1.        , 0.52688172],\n",
              "       [0.2826087 , 1.        , 0.53225806],\n",
              "       [0.30434783, 1.        , 0.53763441],\n",
              "       [0.30434783, 1.        , 0.54301075],\n",
              "       [0.2826087 , 0.96153846, 0.52150538],\n",
              "       [0.2826087 , 0.96153846, 0.52150538],\n",
              "       [0.32608696, 0.84615385, 0.52150538],\n",
              "       [0.26086957, 0.92307692, 0.52150538],\n",
              "       [0.32608696, 0.96153846, 0.52150538],\n",
              "       [0.2826087 , 0.92307692, 0.52150538],\n",
              "       [0.2173913 , 0.88461538, 0.52150538],\n",
              "       [0.19565217, 0.84615385, 0.52688172],\n",
              "       [0.17391304, 0.84615385, 0.52150538],\n",
              "       [0.23913043, 0.84615385, 0.51612903],\n",
              "       [0.23913043, 0.88461538, 0.52150538],\n",
              "       [0.19565217, 0.96153846, 0.52150538],\n",
              "       [0.26086957, 0.76923077, 0.52150538],\n",
              "       [0.36956522, 0.88461538, 0.51612903],\n",
              "       [0.15217391, 1.        , 0.52688172],\n",
              "       [0.23913043, 1.        , 0.53225806],\n",
              "       [0.30434783, 0.96153846, 0.5483871 ],\n",
              "       [0.23913043, 0.96153846, 0.55376344],\n",
              "       [0.19565217, 0.96153846, 0.53225806],\n",
              "       [0.30434783, 1.        , 0.52688172],\n",
              "       [0.2826087 , 0.96153846, 0.53225806],\n",
              "       [0.23913043, 0.96153846, 0.53225806],\n",
              "       [0.2826087 , 0.96153846, 0.52150538],\n",
              "       [0.30434783, 0.96153846, 0.52688172],\n",
              "       [0.13043478, 0.92307692, 0.52688172],\n",
              "       [0.23913043, 0.96153846, 0.52688172],\n",
              "       [0.26086957, 0.96153846, 0.51612903],\n",
              "       [0.32608696, 0.96153846, 0.51612903],\n",
              "       [0.15217391, 0.92307692, 0.51612903],\n",
              "       [0.2173913 , 0.96153846, 0.51075269],\n",
              "       [0.2173913 , 0.96153846, 0.51075269],\n",
              "       [0.2826087 , 0.96153846, 0.51075269],\n",
              "       [0.15217391, 0.96153846, 0.51075269],\n",
              "       [0.10869565, 0.96153846, 0.51075269],\n",
              "       [0.2173913 , 0.96153846, 0.50537634],\n",
              "       [0.13043478, 0.96153846, 0.51075269],\n",
              "       [0.19565217, 0.96153846, 0.51612903],\n",
              "       [0.19565217, 0.96153846, 0.51612903],\n",
              "       [0.19565217, 1.        , 0.51075269],\n",
              "       [0.15217391, 1.        , 0.50537634],\n",
              "       [0.26086957, 0.96153846, 0.51612903],\n",
              "       [0.17391304, 0.96153846, 0.52150538],\n",
              "       [0.30434783, 0.96153846, 0.51612903],\n",
              "       [0.2173913 , 0.96153846, 0.52688172],\n",
              "       [0.23913043, 0.96153846, 0.53225806],\n",
              "       [0.13043478, 0.96153846, 0.52688172],\n",
              "       [0.2826087 , 0.96153846, 0.52150538],\n",
              "       [0.39130435, 0.96153846, 0.52688172],\n",
              "       [0.36956522, 0.96153846, 0.53763441],\n",
              "       [0.2173913 , 0.96153846, 0.52150538],\n",
              "       [0.23913043, 0.92307692, 0.52688172],\n",
              "       [0.13043478, 0.96153846, 0.52688172],\n",
              "       [0.10869565, 0.96153846, 0.52688172],\n",
              "       [0.26086957, 0.96153846, 0.51612903],\n",
              "       [0.23913043, 1.        , 0.50537634],\n",
              "       [0.26086957, 0.96153846, 0.51075269],\n",
              "       [0.26086957, 0.96153846, 0.52150538],\n",
              "       [0.2826087 , 0.96153846, 0.52688172],\n",
              "       [0.15217391, 1.        , 0.54301075],\n",
              "       [0.19565217, 0.96153846, 0.53225806],\n",
              "       [0.32608696, 0.96153846, 0.53763441],\n",
              "       [0.26086957, 0.96153846, 0.53225806],\n",
              "       [0.23913043, 0.96153846, 0.51612903],\n",
              "       [0.23913043, 0.96153846, 0.52688172],\n",
              "       [0.32608696, 0.96153846, 0.53763441],\n",
              "       [0.26086957, 0.96153846, 0.54301075],\n",
              "       [0.23913043, 0.96153846, 0.53763441],\n",
              "       [0.36956522, 1.        , 0.52150538],\n",
              "       [0.26086957, 0.96153846, 0.51612903],\n",
              "       [0.60869565, 0.96153846, 0.53225806],\n",
              "       [0.54347826, 0.96153846, 0.52688172],\n",
              "       [0.41304348, 0.96153846, 0.52688172],\n",
              "       [0.36956522, 0.96153846, 0.53225806],\n",
              "       [0.47826087, 0.96153846, 0.52150538],\n",
              "       [0.32608696, 0.96153846, 0.51075269],\n",
              "       [0.41304348, 0.92307692, 0.51612903],\n",
              "       [0.23913043, 0.96153846, 0.52150538],\n",
              "       [0.34782609, 0.96153846, 0.50537634],\n",
              "       [0.36956522, 0.96153846, 0.52688172],\n",
              "       [0.19565217, 0.96153846, 0.52688172],\n",
              "       [0.32608696, 0.96153846, 0.52688172],\n",
              "       [0.32608696, 1.        , 0.53763441],\n",
              "       [0.2826087 , 0.96153846, 0.52150538],\n",
              "       [0.2826087 , 1.        , 0.52688172],\n",
              "       [0.30434783, 0.96153846, 0.53763441],\n",
              "       [0.17391304, 0.96153846, 0.5483871 ],\n",
              "       [0.10869565, 0.96153846, 0.53763441],\n",
              "       [0.30434783, 0.96153846, 0.54301075],\n",
              "       [0.19565217, 0.96153846, 0.55376344],\n",
              "       [0.32608696, 1.        , 0.55913978],\n",
              "       [0.30434783, 0.92307692, 0.56451613],\n",
              "       [0.30434783, 0.88461538, 0.55376344],\n",
              "       [0.41304348, 0.96153846, 0.53763441],\n",
              "       [0.2826087 , 0.96153846, 0.5483871 ],\n",
              "       [0.32608696, 1.        , 0.56989247],\n",
              "       [0.36956522, 1.        , 0.57526882],\n",
              "       [0.45652174, 1.        , 0.56451613],\n",
              "       [0.19565217, 0.96153846, 0.55376344],\n",
              "       [0.43478261, 0.92307692, 0.5483871 ],\n",
              "       [0.52173913, 1.        , 0.54301075],\n",
              "       [0.63043478, 0.84615385, 0.52150538]])"
            ]
          },
          "metadata": {
            "tags": []
          },
          "execution_count": 32
        }
      ]
    },
    {
      "cell_type": "code",
      "metadata": {
        "id": "qR04JJlC6yaM"
      },
      "source": [
        "df_pred=pd.concat([pd.DataFrame(predictions), pd.DataFrame(x_test[:,1:][win_length:])],axis=1)"
      ],
      "execution_count": 33,
      "outputs": []
    },
    {
      "cell_type": "code",
      "metadata": {
        "id": "3Fu_2Z9DR7rh",
        "colab": {
          "base_uri": "https://localhost:8080/",
          "height": 419
        },
        "outputId": "959d26ac-d73d-47dd-83c0-23582a101634"
      },
      "source": [
        "df_pred"
      ],
      "execution_count": 34,
      "outputs": [
        {
          "output_type": "execute_result",
          "data": {
            "text/html": [
              "<div>\n",
              "<style scoped>\n",
              "    .dataframe tbody tr th:only-of-type {\n",
              "        vertical-align: middle;\n",
              "    }\n",
              "\n",
              "    .dataframe tbody tr th {\n",
              "        vertical-align: top;\n",
              "    }\n",
              "\n",
              "    .dataframe thead th {\n",
              "        text-align: right;\n",
              "    }\n",
              "</style>\n",
              "<table border=\"1\" class=\"dataframe\">\n",
              "  <thead>\n",
              "    <tr style=\"text-align: right;\">\n",
              "      <th></th>\n",
              "      <th>0</th>\n",
              "      <th>0</th>\n",
              "      <th>1</th>\n",
              "      <th>2</th>\n",
              "    </tr>\n",
              "  </thead>\n",
              "  <tbody>\n",
              "    <tr>\n",
              "      <th>0</th>\n",
              "      <td>0.305674</td>\n",
              "      <td>0.260870</td>\n",
              "      <td>0.923077</td>\n",
              "      <td>0.516129</td>\n",
              "    </tr>\n",
              "    <tr>\n",
              "      <th>1</th>\n",
              "      <td>0.302570</td>\n",
              "      <td>0.347826</td>\n",
              "      <td>0.961538</td>\n",
              "      <td>0.510753</td>\n",
              "    </tr>\n",
              "    <tr>\n",
              "      <th>2</th>\n",
              "      <td>0.291598</td>\n",
              "      <td>0.195652</td>\n",
              "      <td>0.961538</td>\n",
              "      <td>0.510753</td>\n",
              "    </tr>\n",
              "    <tr>\n",
              "      <th>3</th>\n",
              "      <td>0.278315</td>\n",
              "      <td>0.260870</td>\n",
              "      <td>0.923077</td>\n",
              "      <td>0.505376</td>\n",
              "    </tr>\n",
              "    <tr>\n",
              "      <th>4</th>\n",
              "      <td>0.264612</td>\n",
              "      <td>0.195652</td>\n",
              "      <td>0.923077</td>\n",
              "      <td>0.510753</td>\n",
              "    </tr>\n",
              "    <tr>\n",
              "      <th>...</th>\n",
              "      <td>...</td>\n",
              "      <td>...</td>\n",
              "      <td>...</td>\n",
              "      <td>...</td>\n",
              "    </tr>\n",
              "    <tr>\n",
              "      <th>310</th>\n",
              "      <td>0.301323</td>\n",
              "      <td>0.456522</td>\n",
              "      <td>1.000000</td>\n",
              "      <td>0.564516</td>\n",
              "    </tr>\n",
              "    <tr>\n",
              "      <th>311</th>\n",
              "      <td>0.301370</td>\n",
              "      <td>0.195652</td>\n",
              "      <td>0.961538</td>\n",
              "      <td>0.553763</td>\n",
              "    </tr>\n",
              "    <tr>\n",
              "      <th>312</th>\n",
              "      <td>0.301044</td>\n",
              "      <td>0.434783</td>\n",
              "      <td>0.923077</td>\n",
              "      <td>0.548387</td>\n",
              "    </tr>\n",
              "    <tr>\n",
              "      <th>313</th>\n",
              "      <td>0.296443</td>\n",
              "      <td>0.521739</td>\n",
              "      <td>1.000000</td>\n",
              "      <td>0.543011</td>\n",
              "    </tr>\n",
              "    <tr>\n",
              "      <th>314</th>\n",
              "      <td>0.287559</td>\n",
              "      <td>0.630435</td>\n",
              "      <td>0.846154</td>\n",
              "      <td>0.521505</td>\n",
              "    </tr>\n",
              "  </tbody>\n",
              "</table>\n",
              "<p>315 rows × 4 columns</p>\n",
              "</div>"
            ],
            "text/plain": [
              "            0         0         1         2\n",
              "0    0.305674  0.260870  0.923077  0.516129\n",
              "1    0.302570  0.347826  0.961538  0.510753\n",
              "2    0.291598  0.195652  0.961538  0.510753\n",
              "3    0.278315  0.260870  0.923077  0.505376\n",
              "4    0.264612  0.195652  0.923077  0.510753\n",
              "..        ...       ...       ...       ...\n",
              "310  0.301323  0.456522  1.000000  0.564516\n",
              "311  0.301370  0.195652  0.961538  0.553763\n",
              "312  0.301044  0.434783  0.923077  0.548387\n",
              "313  0.296443  0.521739  1.000000  0.543011\n",
              "314  0.287559  0.630435  0.846154  0.521505\n",
              "\n",
              "[315 rows x 4 columns]"
            ]
          },
          "metadata": {
            "tags": []
          },
          "execution_count": 34
        }
      ]
    },
    {
      "cell_type": "code",
      "metadata": {
        "id": "noykl7lh9hmT"
      },
      "source": [
        "rev_trans=scaler.inverse_transform(df_pred)"
      ],
      "execution_count": 35,
      "outputs": []
    },
    {
      "cell_type": "code",
      "metadata": {
        "id": "D2vcu4tBAf4n",
        "colab": {
          "base_uri": "https://localhost:8080/"
        },
        "outputId": "1088cd45-ee08-41d3-d7c2-806efd36b9a9"
      },
      "source": [
        "rev_trans"
      ],
      "execution_count": 36,
      "outputs": [
        {
          "output_type": "execute_result",
          "data": {
            "text/plain": [
              "array([[142.14820728,  45.        ,  98.        , 140.        ],\n",
              "       [141.90300059,  49.        ,  99.        , 139.        ],\n",
              "       [141.03622019,  42.        ,  99.        , 139.        ],\n",
              "       ...,\n",
              "       [141.78244439,  53.        ,  98.        , 146.        ],\n",
              "       [141.41903353,  57.        , 100.        , 145.        ],\n",
              "       [140.71713766,  62.        ,  96.        , 141.        ]])"
            ]
          },
          "metadata": {
            "tags": []
          },
          "execution_count": 36
        }
      ]
    },
    {
      "cell_type": "code",
      "metadata": {
        "id": "5eopbjZZBRUs"
      },
      "source": [
        "df_final=df_input[predictions.shape[0]*-1:]"
      ],
      "execution_count": 37,
      "outputs": []
    },
    {
      "cell_type": "code",
      "metadata": {
        "id": "iEgc_FyMBjSO",
        "colab": {
          "base_uri": "https://localhost:8080/"
        },
        "outputId": "73e4238f-acf6-4c53-c072-223041c64244"
      },
      "source": [
        "df_final.count()"
      ],
      "execution_count": 38,
      "outputs": [
        {
          "output_type": "execute_result",
          "data": {
            "text/plain": [
              "Lifetouch Heart Rate          315\n",
              "Lifetouch Respiration Rate    315\n",
              "Oximeter SpO2                 315\n",
              "Oximeter Pulse                315\n",
              "dtype: int64"
            ]
          },
          "metadata": {
            "tags": []
          },
          "execution_count": 38
        }
      ]
    },
    {
      "cell_type": "code",
      "metadata": {
        "id": "D1VdgBdB-aWE",
        "colab": {
          "base_uri": "https://localhost:8080/"
        },
        "outputId": "a37cd6e9-c1a7-4557-f24d-f2ec57152f57"
      },
      "source": [
        "df_final['Predicted Heart Rate']=rev_trans[:,0]"
      ],
      "execution_count": 39,
      "outputs": [
        {
          "output_type": "stream",
          "text": [
            "/usr/local/lib/python3.7/dist-packages/ipykernel_launcher.py:1: SettingWithCopyWarning: \n",
            "A value is trying to be set on a copy of a slice from a DataFrame.\n",
            "Try using .loc[row_indexer,col_indexer] = value instead\n",
            "\n",
            "See the caveats in the documentation: https://pandas.pydata.org/pandas-docs/stable/user_guide/indexing.html#returning-a-view-versus-a-copy\n",
            "  \"\"\"Entry point for launching an IPython kernel.\n"
          ],
          "name": "stderr"
        }
      ]
    },
    {
      "cell_type": "code",
      "metadata": {
        "id": "Ym90OS9J_-6O",
        "colab": {
          "base_uri": "https://localhost:8080/",
          "height": 419
        },
        "outputId": "fbc468d4-1f58-4977-e96d-510966cbafa7"
      },
      "source": [
        "df_final"
      ],
      "execution_count": 40,
      "outputs": [
        {
          "output_type": "execute_result",
          "data": {
            "text/html": [
              "<div>\n",
              "<style scoped>\n",
              "    .dataframe tbody tr th:only-of-type {\n",
              "        vertical-align: middle;\n",
              "    }\n",
              "\n",
              "    .dataframe tbody tr th {\n",
              "        vertical-align: top;\n",
              "    }\n",
              "\n",
              "    .dataframe thead th {\n",
              "        text-align: right;\n",
              "    }\n",
              "</style>\n",
              "<table border=\"1\" class=\"dataframe\">\n",
              "  <thead>\n",
              "    <tr style=\"text-align: right;\">\n",
              "      <th></th>\n",
              "      <th>Lifetouch Heart Rate</th>\n",
              "      <th>Lifetouch Respiration Rate</th>\n",
              "      <th>Oximeter SpO2</th>\n",
              "      <th>Oximeter Pulse</th>\n",
              "      <th>Predicted Heart Rate</th>\n",
              "    </tr>\n",
              "  </thead>\n",
              "  <tbody>\n",
              "    <tr>\n",
              "      <th>4091</th>\n",
              "      <td>142.0</td>\n",
              "      <td>45.0</td>\n",
              "      <td>98.0</td>\n",
              "      <td>140.0</td>\n",
              "      <td>142.148207</td>\n",
              "    </tr>\n",
              "    <tr>\n",
              "      <th>4092</th>\n",
              "      <td>139.0</td>\n",
              "      <td>49.0</td>\n",
              "      <td>99.0</td>\n",
              "      <td>139.0</td>\n",
              "      <td>141.903001</td>\n",
              "    </tr>\n",
              "    <tr>\n",
              "      <th>4093</th>\n",
              "      <td>139.0</td>\n",
              "      <td>42.0</td>\n",
              "      <td>99.0</td>\n",
              "      <td>139.0</td>\n",
              "      <td>141.036220</td>\n",
              "    </tr>\n",
              "    <tr>\n",
              "      <th>4094</th>\n",
              "      <td>138.0</td>\n",
              "      <td>45.0</td>\n",
              "      <td>98.0</td>\n",
              "      <td>138.0</td>\n",
              "      <td>139.986909</td>\n",
              "    </tr>\n",
              "    <tr>\n",
              "      <th>4095</th>\n",
              "      <td>138.0</td>\n",
              "      <td>42.0</td>\n",
              "      <td>98.0</td>\n",
              "      <td>139.0</td>\n",
              "      <td>138.904345</td>\n",
              "    </tr>\n",
              "    <tr>\n",
              "      <th>...</th>\n",
              "      <td>...</td>\n",
              "      <td>...</td>\n",
              "      <td>...</td>\n",
              "      <td>...</td>\n",
              "      <td>...</td>\n",
              "    </tr>\n",
              "    <tr>\n",
              "      <th>4406</th>\n",
              "      <td>149.0</td>\n",
              "      <td>54.0</td>\n",
              "      <td>100.0</td>\n",
              "      <td>149.0</td>\n",
              "      <td>141.804552</td>\n",
              "    </tr>\n",
              "    <tr>\n",
              "      <th>4407</th>\n",
              "      <td>147.0</td>\n",
              "      <td>42.0</td>\n",
              "      <td>99.0</td>\n",
              "      <td>147.0</td>\n",
              "      <td>141.808218</td>\n",
              "    </tr>\n",
              "    <tr>\n",
              "      <th>4408</th>\n",
              "      <td>144.0</td>\n",
              "      <td>53.0</td>\n",
              "      <td>98.0</td>\n",
              "      <td>146.0</td>\n",
              "      <td>141.782444</td>\n",
              "    </tr>\n",
              "    <tr>\n",
              "      <th>4409</th>\n",
              "      <td>144.0</td>\n",
              "      <td>57.0</td>\n",
              "      <td>100.0</td>\n",
              "      <td>145.0</td>\n",
              "      <td>141.419034</td>\n",
              "    </tr>\n",
              "    <tr>\n",
              "      <th>4410</th>\n",
              "      <td>146.0</td>\n",
              "      <td>62.0</td>\n",
              "      <td>96.0</td>\n",
              "      <td>141.0</td>\n",
              "      <td>140.717138</td>\n",
              "    </tr>\n",
              "  </tbody>\n",
              "</table>\n",
              "<p>315 rows × 5 columns</p>\n",
              "</div>"
            ],
            "text/plain": [
              "      Lifetouch Heart Rate  ...  Predicted Heart Rate\n",
              "4091                 142.0  ...            142.148207\n",
              "4092                 139.0  ...            141.903001\n",
              "4093                 139.0  ...            141.036220\n",
              "4094                 138.0  ...            139.986909\n",
              "4095                 138.0  ...            138.904345\n",
              "...                    ...  ...                   ...\n",
              "4406                 149.0  ...            141.804552\n",
              "4407                 147.0  ...            141.808218\n",
              "4408                 144.0  ...            141.782444\n",
              "4409                 144.0  ...            141.419034\n",
              "4410                 146.0  ...            140.717138\n",
              "\n",
              "[315 rows x 5 columns]"
            ]
          },
          "metadata": {
            "tags": []
          },
          "execution_count": 40
        }
      ]
    },
    {
      "cell_type": "code",
      "metadata": {
        "id": "Ig7S76aZApyp",
        "colab": {
          "base_uri": "https://localhost:8080/",
          "height": 500
        },
        "outputId": "84eec117-898e-4ecd-c94c-0572717418c8"
      },
      "source": [
        "df_final[['Lifetouch Heart Rate','Predicted Heart Rate']].plot()"
      ],
      "execution_count": 41,
      "outputs": [
        {
          "output_type": "execute_result",
          "data": {
            "text/plain": [
              "<matplotlib.axes._subplots.AxesSubplot at 0x7fdbc0511ad0>"
            ]
          },
          "metadata": {
            "tags": []
          },
          "execution_count": 41
        },
        {
          "output_type": "display_data",
          "data": {
            "image/png": "[encoded data removed]",
            "text/plain": [
              "<Figure size 720x576 with 1 Axes>"
            ]
          },
          "metadata": {
            "tags": [],
            "needs_background": "light"
          }
        }
      ]
    },
    {
      "cell_type": "code",
      "metadata": {
        "colab": {
          "base_uri": "https://localhost:8080/"
        },
        "id": "TRPmEsUiOvQ5",
        "outputId": "37bc27db-dcbc-488c-c6de-bf8a317bf0b5"
      },
      "source": [
        "from sklearn.metrics import mean_squared_error, mean_absolute_error\n",
        "from math import sqrt\n",
        "expected = df_final['Lifetouch Heart Rate']\n",
        "predictions = df_final['Predicted Heart Rate']\n",
        "mse = mean_squared_error(expected, predictions)\n",
        "rmse = sqrt(mse)\n",
        "print('RMSE: %f' % rmse)\n"
      ],
      "execution_count": 60,
      "outputs": [
        {
          "output_type": "stream",
          "text": [
            "RMSE: 3.874764\n"
          ],
          "name": "stdout"
        }
      ]
    },
    {
      "cell_type": "code",
      "metadata": {
        "colab": {
          "base_uri": "https://localhost:8080/"
        },
        "id": "8pgTuNMPy5sQ",
        "outputId": "fb3f9c13-6a3e-4c52-9058-a2c2532cfba3"
      },
      "source": [
        "mae = mean_absolute_error(expected, predictions)\n",
        "print('MAE: %f' % mae)\n",
        "\n",
        "#These error values are in the original units of the predicted values. \n",
        "#A mean absolute error of zero indicates no error."
      ],
      "execution_count": 61,
      "outputs": [
        {
          "output_type": "stream",
          "text": [
            "MAE: 3.169239\n"
          ],
          "name": "stdout"
        }
      ]
    }
  ]
}